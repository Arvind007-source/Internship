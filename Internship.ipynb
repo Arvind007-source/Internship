{
  "nbformat": 4,
  "nbformat_minor": 0,
  "metadata": {
    "colab": {
      "provenance": [],
      "authorship_tag": "ABX9TyOTch2QxsBgNmJze88uqb8S",
      "include_colab_link": true
    },
    "kernelspec": {
      "name": "python3",
      "display_name": "Python 3"
    },
    "language_info": {
      "name": "python"
    }
  },
  "cells": [
    {
      "cell_type": "markdown",
      "metadata": {
        "id": "view-in-github",
        "colab_type": "text"
      },
      "source": [
        "<a href=\"https://colab.research.google.com/github/Arvind007-source/Internship/blob/main/Internship.ipynb\" target=\"_parent\"><img src=\"https://colab.research.google.com/assets/colab-badge.svg\" alt=\"Open In Colab\"/></a>"
      ]
    },
    {
      "cell_type": "markdown",
      "source": [
        "#**LEVEL-1**"
      ],
      "metadata": {
        "id": "w0mxcRe5N5Sh"
      }
    },
    {
      "cell_type": "markdown",
      "source": [
        "#Question-1:Get a number from user and add 2 to that number and print the result.\n",
        "#Testcase : Input :45       Output 47. Input:56789  Output:56791"
      ],
      "metadata": {
        "id": "EGn1kkCLhvLb"
      }
    },
    {
      "cell_type": "code",
      "execution_count": null,
      "metadata": {
        "id": "5dtpWTfEo-XA",
        "colab": {
          "base_uri": "https://localhost:8080/"
        },
        "outputId": "84b27d77-c12c-47d1-83e8-c008f3d5ccd8"
      },
      "outputs": [
        {
          "output_type": "stream",
          "name": "stdout",
          "text": [
            "enter the number:45\n",
            "Result=47\n"
          ]
        }
      ],
      "source": [
        "def main():\n",
        "  x=int(input(\"enter the number:\"))\n",
        "  y=x+2\n",
        "  print(f'Result={y}')\n",
        "\n",
        "main()"
      ]
    },
    {
      "cell_type": "markdown",
      "source": [
        "# Question-2:Get a number from user and subtract 5 to that number and print the result.\n",
        "#Testcase :     Input :45 Output 40.  Input: 56789 Output: 56784"
      ],
      "metadata": {
        "id": "wUdqVWroij4b"
      }
    },
    {
      "cell_type": "code",
      "source": [
        "def main():\n",
        "  x=int(input(\"enter the number:\"))\n",
        "  y=x-5\n",
        "  print(f'Result={y}')\n",
        "\n",
        "main()"
      ],
      "metadata": {
        "colab": {
          "base_uri": "https://localhost:8080/"
        },
        "id": "bIsyoiPUivdU",
        "outputId": "d958773b-2108-478b-a685-1729c32b1300"
      },
      "execution_count": null,
      "outputs": [
        {
          "output_type": "stream",
          "name": "stdout",
          "text": [
            "enter the number:45\n",
            "Result=40\n"
          ]
        }
      ]
    },
    {
      "cell_type": "markdown",
      "source": [
        "#Question-3:Get a number from user and multiply 3 to that number and print the result.\n",
        "#Testcase :    Input: 45 Output 135. Input: 1200 Output: 3600"
      ],
      "metadata": {
        "id": "fBCgsiGZi715"
      }
    },
    {
      "cell_type": "code",
      "source": [
        "def main():\n",
        "  x=int(input(\"enter the number:\"))\n",
        "  y=x*3\n",
        "  print(f'Result={y}')\n",
        "\n",
        "main()"
      ],
      "metadata": {
        "colab": {
          "base_uri": "https://localhost:8080/"
        },
        "id": "H0LE3Jt4jGtn",
        "outputId": "47f83ed8-e1f0-47d8-d234-a52f9f7a2dca"
      },
      "execution_count": null,
      "outputs": [
        {
          "output_type": "stream",
          "name": "stdout",
          "text": [
            "enter the number:45\n",
            "Result=135\n"
          ]
        }
      ]
    },
    {
      "cell_type": "markdown",
      "source": [
        "#Question-4:Get a number from user and divide by the number by 6 and print the quotient.\n",
        "#Testcase :   Input: 45 Output 7. Input: 143 Output: 23\n"
      ],
      "metadata": {
        "id": "JdVYFpuSjQVQ"
      }
    },
    {
      "cell_type": "code",
      "source": [
        "def main():\n",
        "  x=int(input(\"enter the number:\"))\n",
        "  y=x//6\n",
        "  print(f'Result={y}')\n",
        "\n",
        "main()"
      ],
      "metadata": {
        "colab": {
          "base_uri": "https://localhost:8080/"
        },
        "id": "OutnubTdjdOZ",
        "outputId": "17fa5849-f6f6-4698-b873-ab6f5dae56ed"
      },
      "execution_count": null,
      "outputs": [
        {
          "output_type": "stream",
          "name": "stdout",
          "text": [
            "enter the number:45\n",
            "Result=7\n"
          ]
        }
      ]
    },
    {
      "cell_type": "markdown",
      "source": [
        "#Question-5:Get a number from user and divide by the number by 8 and print the remainder.\n",
        "#Testcase :   Input: 45 Output 5. Input: 143 Output: 7"
      ],
      "metadata": {
        "id": "xGAoqpzkjvM2"
      }
    },
    {
      "cell_type": "code",
      "source": [
        "def main():\n",
        "  x=int(input(\"enter the number:\"))\n",
        "  y=x%8\n",
        "  print(f'Result={y}')\n",
        "\n",
        "main()"
      ],
      "metadata": {
        "colab": {
          "base_uri": "https://localhost:8080/"
        },
        "id": "5EM3fReNj44z",
        "outputId": "3119f007-cf43-4372-a39e-f22a93dc6b10"
      },
      "execution_count": null,
      "outputs": [
        {
          "output_type": "stream",
          "name": "stdout",
          "text": [
            "enter the number:45\n",
            "Result=5\n"
          ]
        }
      ]
    },
    {
      "cell_type": "markdown",
      "source": [
        "#Question-6 :Get a two-digit number from user and print the one’s digit.\n",
        "#Testcase :  Input: 45 Output 5. Input: 56 Output: 6"
      ],
      "metadata": {
        "id": "ej4sCsLdkjB4"
      }
    },
    {
      "cell_type": "code",
      "source": [
        "def main():\n",
        "  x=int(input(\"enter the number:\"))\n",
        "  y=x%10\n",
        "  print(f'Result={y}')\n",
        "\n",
        "main()"
      ],
      "metadata": {
        "colab": {
          "base_uri": "https://localhost:8080/"
        },
        "id": "HAYTNx5dkuWw",
        "outputId": "d10456cd-7416-4c4c-c638-ef5e503849a9"
      },
      "execution_count": null,
      "outputs": [
        {
          "output_type": "stream",
          "name": "stdout",
          "text": [
            "enter the number:45\n",
            "Result=5\n"
          ]
        }
      ]
    },
    {
      "cell_type": "markdown",
      "source": [
        "#Question-7:Get a two-digit number from user and print the ten’s digit.\n",
        "#Testcase :      Input: 45 Output 4. Input: 56 Output: 5"
      ],
      "metadata": {
        "id": "aeMfjcFwk-ct"
      }
    },
    {
      "cell_type": "code",
      "source": [
        "def main():\n",
        "  x=int(input(\"enter the number:\"))\n",
        "  y=x//10\n",
        "  print(f'Result={y}')\n",
        "\n",
        "main()"
      ],
      "metadata": {
        "colab": {
          "base_uri": "https://localhost:8080/"
        },
        "id": "dUvXK_yWlIXM",
        "outputId": "aecf1005-634a-4c21-e079-63456318a733"
      },
      "execution_count": null,
      "outputs": [
        {
          "output_type": "stream",
          "name": "stdout",
          "text": [
            "enter the number:45\n",
            "Result=4\n"
          ]
        }
      ]
    },
    {
      "cell_type": "markdown",
      "source": [
        "#Question-8 :Get a three-digit number from user and print the one’s digit.\n",
        "#Testcase :      Input: 456 Output 6. Input: 569 Output: 9"
      ],
      "metadata": {
        "id": "zLMdvSe0lSZS"
      }
    },
    {
      "cell_type": "code",
      "source": [
        "def main():\n",
        "  x=int(input(\"enter the number:\"))\n",
        "  y=x%10\n",
        "  print(f'Result={y}')\n",
        "\n",
        "main()"
      ],
      "metadata": {
        "colab": {
          "base_uri": "https://localhost:8080/"
        },
        "id": "AMCBxBdNle8m",
        "outputId": "2b45daca-188a-4fec-e058-d9c24a321d28"
      },
      "execution_count": null,
      "outputs": [
        {
          "output_type": "stream",
          "name": "stdout",
          "text": [
            "enter the number:456\n",
            "Result=6\n"
          ]
        }
      ]
    },
    {
      "cell_type": "markdown",
      "source": [
        "#Question-9:Get a three-digit number from user and print the hundred’s digit.\n",
        "#Testcase :       Input: 456 Output 4. Input: 569 Output: 5"
      ],
      "metadata": {
        "id": "YfbuNs5Bln76"
      }
    },
    {
      "cell_type": "code",
      "source": [
        "def main():\n",
        "  x=int(input(\"enter the number:\"))\n",
        "  y=x//100\n",
        "  print(f'Result={y}')\n",
        "\n",
        "main()"
      ],
      "metadata": {
        "colab": {
          "base_uri": "https://localhost:8080/"
        },
        "id": "IZuHr8iglv8y",
        "outputId": "6f5868f0-c1f6-47d3-fae1-e6443d065765"
      },
      "execution_count": null,
      "outputs": [
        {
          "output_type": "stream",
          "name": "stdout",
          "text": [
            "enter the number:456\n",
            "Result=4\n"
          ]
        }
      ]
    },
    {
      "cell_type": "markdown",
      "source": [
        "#Question-10 :Get a three-digit number from user and print the ten’s digit.\n",
        "#Testcase :      Input: 456 Output 5. Input: 569 Output: 6"
      ],
      "metadata": {
        "id": "NyvI1s-Al6ur"
      }
    },
    {
      "cell_type": "code",
      "source": [
        "def main():\n",
        "  x=int(input(\"enter the number:\"))\n",
        "  y=(x%100)//10\n",
        "  print(f'Result={y}')\n",
        "\n",
        "main()"
      ],
      "metadata": {
        "colab": {
          "base_uri": "https://localhost:8080/"
        },
        "id": "TOBz_bbtmGzR",
        "outputId": "959b1da2-42cc-4007-8cc1-75f0e3efc263"
      },
      "execution_count": null,
      "outputs": [
        {
          "output_type": "stream",
          "name": "stdout",
          "text": [
            "enter the number:456\n",
            "Result=5\n"
          ]
        }
      ]
    },
    {
      "cell_type": "markdown",
      "source": [
        "#Question-11:Get a two-digit number from user and print sum the digits.\n",
        "#Testcase :  Input: 56 Output 11. Input: 69 Output: 15"
      ],
      "metadata": {
        "id": "W-952LnQmiiH"
      }
    },
    {
      "cell_type": "code",
      "source": [
        "def main():\n",
        "  x=int(input(\"enter the number:\"))\n",
        "  y=(x//10)+ (x%10)\n",
        "  print(f'Result={y}')\n",
        "\n",
        "main()"
      ],
      "metadata": {
        "colab": {
          "base_uri": "https://localhost:8080/"
        },
        "id": "6w64QawbmwV7",
        "outputId": "4b79ee8c-88fd-45e7-e6fe-2a45a7b8f0f2"
      },
      "execution_count": null,
      "outputs": [
        {
          "output_type": "stream",
          "name": "stdout",
          "text": [
            "enter the number:56\n",
            "Result=11\n"
          ]
        }
      ]
    },
    {
      "cell_type": "markdown",
      "source": [
        "#Question-12:Get a three-digit number from user and print sum the digits.\n",
        "#Testcase :      Input: 562 Output 13. Input: 469 Output: 19"
      ],
      "metadata": {
        "id": "M_TfZhfwm-E8"
      }
    },
    {
      "cell_type": "code",
      "source": [
        "def main():\n",
        "  x=int(input(\"enter the number:\"))\n",
        "  y=(x//100)+((x//10)%10)+ (x%10)\n",
        "  print(f'Result={y}')\n",
        "\n",
        "main()"
      ],
      "metadata": {
        "colab": {
          "base_uri": "https://localhost:8080/"
        },
        "id": "PAaJJtf7nHse",
        "outputId": "df85c29b-3519-4a70-ecc7-57c94d77629a"
      },
      "execution_count": null,
      "outputs": [
        {
          "output_type": "stream",
          "name": "stdout",
          "text": [
            "enter the number:562\n",
            "Result=13\n"
          ]
        }
      ]
    },
    {
      "cell_type": "markdown",
      "source": [
        "#Question-13: Get a two-digit number from user and print the reverse of the number.\n",
        "#Testcase :      Input: 56 Output 65. Input: 59 Output: 95"
      ],
      "metadata": {
        "id": "1IZtKvYBnbfb"
      }
    },
    {
      "cell_type": "code",
      "source": [
        "def main():\n",
        "  x=int(input(\"Enter the number:\"))\n",
        "  y=((x%10)*10)+(x//10)\n",
        "  print(f'Result={y}')\n",
        "\n",
        "main()"
      ],
      "metadata": {
        "colab": {
          "base_uri": "https://localhost:8080/"
        },
        "id": "fXNQ3HF0nlda",
        "outputId": "5971a563-ff6b-4344-b454-4cdb08c613b1"
      },
      "execution_count": null,
      "outputs": [
        {
          "output_type": "stream",
          "name": "stdout",
          "text": [
            "Enter the number:56\n",
            "Result=65\n"
          ]
        }
      ]
    },
    {
      "cell_type": "markdown",
      "source": [
        "#Question-14:Get a three-digit number from user and print the reverse of the number.\n",
        "##Testcase :       Input: 561 Output 165. Input: 859 Output: 958##\n"
      ],
      "metadata": {
        "id": "uXw_EvlL6dEI"
      }
    },
    {
      "cell_type": "code",
      "source": [
        "def main():\n",
        "  x=int(input(\"enter the number:\"))\n",
        "  y=0\n",
        "  while(x>0):\n",
        "    mod=x%10\n",
        "    y=y*10+mod\n",
        "    x=x//10\n",
        "  print(f'Result={y}')\n",
        "main()"
      ],
      "metadata": {
        "colab": {
          "base_uri": "https://localhost:8080/"
        },
        "id": "Rm-ydQU47Atu",
        "outputId": "7863a449-a19b-4c51-e6d6-dcbdab7210bd"
      },
      "execution_count": null,
      "outputs": [
        {
          "output_type": "stream",
          "name": "stdout",
          "text": [
            "enter the number:561\n",
            "Result=165\n"
          ]
        }
      ]
    },
    {
      "cell_type": "markdown",
      "source": [
        "## Question-15:Get a four-digit number from user and only reverse the first two digits of the number, then print the number.\n",
        "## Testcase :     Input: 9561 Output 9516. Input: 3859 Output: 3895"
      ],
      "metadata": {
        "id": "WiAJvH7q7-MW"
      }
    },
    {
      "cell_type": "code",
      "source": [
        "def main():\n",
        "    x = int(input(\"Enter Number: \"))\n",
        "    y=((x//100)*100)+(((x%10)*10)+((x//10)%10))\n",
        "    print(f\"Result = {y}\")\n",
        "if __name__ == \"__main__\":\n",
        "    main()"
      ],
      "metadata": {
        "colab": {
          "base_uri": "https://localhost:8080/"
        },
        "id": "LlipZIRp8YaE",
        "outputId": "7fb06fdc-4bff-4b8f-b9ef-d50dfd334b37"
      },
      "execution_count": null,
      "outputs": [
        {
          "output_type": "stream",
          "name": "stdout",
          "text": [
            "Enter Number: 9561\n",
            "Result = 9516\n"
          ]
        }
      ]
    },
    {
      "cell_type": "markdown",
      "source": [
        "##Question-16:Get a four-digit number from user and only reverse the last two digits of the number, then print the number.\n",
        "##Testcase :     Input: 9561 Output 5961. Input: 3859 Output: 8359"
      ],
      "metadata": {
        "id": "B2sspMFaCukJ"
      }
    },
    {
      "cell_type": "code",
      "source": [
        "def main():\n",
        "    x = int(input(\"Enter Number: \"))\n",
        "    y=(((x//100)%10)*10+((x//100)//10))*100+(x%100)\n",
        "    print(f\"Result = {y}\")\n",
        "if __name__ == \"__main__\":\n",
        "    main()"
      ],
      "metadata": {
        "colab": {
          "base_uri": "https://localhost:8080/"
        },
        "id": "lLv7JZOOLpRr",
        "outputId": "d1013aa7-3d3a-4555-a135-885e556cb009"
      },
      "execution_count": null,
      "outputs": [
        {
          "output_type": "stream",
          "name": "stdout",
          "text": [
            "Enter Number: 9561\n",
            "Result = 5961\n"
          ]
        }
      ]
    },
    {
      "cell_type": "markdown",
      "source": [
        "##Question -17:Get a two-digit number from user and make the one’s digit as 0, then print it.\n",
        "##Testcase :      Input: 95 Output 90. Input: 18 Output: 10"
      ],
      "metadata": {
        "id": "YANAunlsOLN_"
      }
    },
    {
      "cell_type": "code",
      "source": [
        "def main():\n",
        "    x = int(input(\"Enter Number: \"))\n",
        "    y=x-(x%10)\n",
        "    print(f\"Result = {y}\")\n",
        "if __name__ == \"__main__\":\n",
        "    main()"
      ],
      "metadata": {
        "colab": {
          "base_uri": "https://localhost:8080/"
        },
        "id": "qX-5aXy8PS_Y",
        "outputId": "5ebfa516-5829-41bb-8567-97b03cf3d84b"
      },
      "execution_count": null,
      "outputs": [
        {
          "output_type": "stream",
          "name": "stdout",
          "text": [
            "Enter Number: 18\n",
            "Result = 10\n"
          ]
        }
      ]
    },
    {
      "cell_type": "markdown",
      "source": [
        "##Question-18:Get a two-digit number from user and make the ten’s digit 1,then print it.\n",
        "##Testcase :      Input: 95 Output 15. Input: 82 Output: 12"
      ],
      "metadata": {
        "id": "4WqoV5lDRW1w"
      }
    },
    {
      "cell_type": "code",
      "source": [
        "def main():\n",
        "    x = int(input(\"Enter Number: \"))\n",
        "    y=10+(x%10)\n",
        "    print(f\"Result = {y}\")\n",
        "if __name__ == \"__main__\":\n",
        "    main()"
      ],
      "metadata": {
        "colab": {
          "base_uri": "https://localhost:8080/"
        },
        "id": "fJH7EDXdRlMm",
        "outputId": "cdd36577-c34a-4d88-8cc4-f20a7f5fc96a"
      },
      "execution_count": null,
      "outputs": [
        {
          "output_type": "stream",
          "name": "stdout",
          "text": [
            "Enter Number: 82\n",
            "Result = 12\n"
          ]
        }
      ]
    },
    {
      "cell_type": "markdown",
      "source": [
        "##Question-19:Get a three-digit number from user and make the one’s digit as 2, then print it.\n",
        "#Testcase :      Input: 695 Output 692. Input: 182 Output: 182"
      ],
      "metadata": {
        "id": "Txlds_adS3ot"
      }
    },
    {
      "cell_type": "code",
      "source": [
        "def main():\n",
        "    x = int(input(\"Enter Number: \"))\n",
        "    y=(x//10)*10+2\n",
        "    print(f\"Result = {y}\")\n",
        "if __name__ == \"__main__\":\n",
        "    main()"
      ],
      "metadata": {
        "colab": {
          "base_uri": "https://localhost:8080/"
        },
        "id": "eHtipHJiTDPc",
        "outputId": "7b833ab6-ffd5-4bdf-ca4b-bc12fcfdbef1"
      },
      "execution_count": null,
      "outputs": [
        {
          "output_type": "stream",
          "name": "stdout",
          "text": [
            "Enter Number: 695\n",
            "Result = 692\n"
          ]
        }
      ]
    },
    {
      "cell_type": "markdown",
      "source": [
        "##Question-20:Get a three-digit number from user and make the ten’s digit as 0, then print it.\n",
        "##Testcase :    Input: 695 Output 605. Input: 182 Output: 102"
      ],
      "metadata": {
        "id": "KvUhHZXiT8aW"
      }
    },
    {
      "cell_type": "code",
      "source": [
        "def main():\n",
        "    x = int(input(\"Enter Number: \"))\n",
        "    y=((x//100)*100)+((x%100)%10)\n",
        "    print(f\"Result = {y}\")\n",
        "if __name__ == \"__main__\":\n",
        "    main()"
      ],
      "metadata": {
        "colab": {
          "base_uri": "https://localhost:8080/"
        },
        "id": "8sh_CRI2ULX8",
        "outputId": "e62364d3-dbd4-4cdf-b97c-6b2f50a968dd"
      },
      "execution_count": null,
      "outputs": [
        {
          "output_type": "stream",
          "name": "stdout",
          "text": [
            "Enter Number: 695\n",
            "Result = 605\n"
          ]
        }
      ]
    },
    {
      "cell_type": "markdown",
      "source": [
        "#Question-21:Get a number from user and subtract 5 from that number if the number is odd, then print the result. Do not use “if”.\n",
        "#Testcase :     Input: 695 Output 690. Input: 182 Output: 182"
      ],
      "metadata": {
        "id": "wLKvcAtRVJ0f"
      }
    },
    {
      "cell_type": "code",
      "source": [
        "def main():\n",
        "    x = int(input(\"Enter Number: \"))\n",
        "    y=x-5*(x%2)\n",
        "    print(f\"Result = {y}\")\n",
        "if __name__ == \"__main__\":\n",
        "    main()"
      ],
      "metadata": {
        "colab": {
          "base_uri": "https://localhost:8080/"
        },
        "id": "BEzXM8wVV1-d",
        "outputId": "2cf27fca-b89e-4a0f-9499-a3265711bd62"
      },
      "execution_count": null,
      "outputs": [
        {
          "output_type": "stream",
          "name": "stdout",
          "text": [
            "Enter Number: 695\n",
            "Result = 690\n"
          ]
        }
      ]
    },
    {
      "cell_type": "markdown",
      "source": [
        "##Question-22:Get a number from user and subtract 5 from that number if the number’s ten’s position digit is odd, then print the result. Do not use “if”.\n",
        "#Testcase :     Input: 685 Output 685. Input: 89172 Output: 89167"
      ],
      "metadata": {
        "id": "SJIudoSVWmmz"
      }
    },
    {
      "cell_type": "code",
      "source": [
        "def main():\n",
        "    x = int(input(\"Enter Number: \"))\n",
        "    y=x-5*(((x%100)//10)%2)\n",
        "    print(f\"Result = {y}\")\n",
        "if __name__ == \"__main__\":\n",
        "    main()"
      ],
      "metadata": {
        "colab": {
          "base_uri": "https://localhost:8080/"
        },
        "id": "kPE66zchW36j",
        "outputId": "af77e397-568d-44dc-8eb2-f7baf2325602"
      },
      "execution_count": null,
      "outputs": [
        {
          "output_type": "stream",
          "name": "stdout",
          "text": [
            "Enter Number: 89172\n",
            "Result = 89167\n"
          ]
        }
      ]
    },
    {
      "cell_type": "markdown",
      "source": [
        "##Question-23:Get a two digit number from user and subtract 5 from that number if the sum of the digits of the number is odd, then print the result. Do not use “if”.\n",
        "#Testcase :       Input: 95 Output 95. Input: 72 Output: 67"
      ],
      "metadata": {
        "id": "v2t6XFdjXf5z"
      }
    },
    {
      "cell_type": "code",
      "source": [
        "def main():\n",
        "    x = int(input(\"Enter Number: \"))\n",
        "    y=x-5*(((x%10)+(x//10))%2)\n",
        "    print(f\"Result = {y}\")\n",
        "if __name__ == \"__main__\":\n",
        "    main()"
      ],
      "metadata": {
        "colab": {
          "base_uri": "https://localhost:8080/"
        },
        "id": "pJxqUbShXvjB",
        "outputId": "8ca09da1-b90f-4bb2-ea32-30ff58501da8"
      },
      "execution_count": null,
      "outputs": [
        {
          "output_type": "stream",
          "name": "stdout",
          "text": [
            "Enter Number: 72\n",
            "Result = 67\n"
          ]
        }
      ]
    },
    {
      "cell_type": "markdown",
      "source": [
        "##Question-24:Get a three-digit number from user and subtract 5 from that number if one’s digit number and 100’s digit number are same, then print the result. Do not use “if”.\n",
        "#Testcase :       Input: 595 Output 590. Input: 372 Output: 372"
      ],
      "metadata": {
        "id": "wW2fJ16iYCb9"
      }
    },
    {
      "cell_type": "code",
      "source": [
        "def main():\n",
        "    x = int(input(\"Enter Number: \"))\n",
        "    y=x-5*((x//100)==(x%100))\n",
        "    print(f\"Result = {y}\")\n",
        "if __name__ == \"__main__\":\n",
        "    main()"
      ],
      "metadata": {
        "colab": {
          "base_uri": "https://localhost:8080/"
        },
        "id": "MwXLZxKdZ3fJ",
        "outputId": "e537d829-9539-4ead-d878-4336ef5252fb"
      },
      "execution_count": null,
      "outputs": [
        {
          "output_type": "stream",
          "name": "stdout",
          "text": [
            "Enter Number: 372\n",
            "Result = 372\n"
          ]
        }
      ]
    },
    {
      "cell_type": "markdown",
      "source": [
        "##Question-25:Get a four-digit number from user and subtract 5 from that number if ten’s digit position and 100’s digit position is same, then print the result. Do not use “if”.\n",
        "##Testcase :       Input: 7595 Output 7595. Input: 3772 Output: 3767"
      ],
      "metadata": {
        "id": "NlJlMl8Ha4tK"
      }
    },
    {
      "cell_type": "code",
      "source": [
        "def main():\n",
        "    x = int(input(\"Enter Number: \"))\n",
        "    y=x-5*(((x//100)%10)==((x%100)//10))\n",
        "    print(f\"Result = {y}\")\n",
        "if __name__ == \"__main__\":\n",
        "    main()"
      ],
      "metadata": {
        "colab": {
          "base_uri": "https://localhost:8080/"
        },
        "id": "Zgg9Kv8fbDkU",
        "outputId": "b53eeb89-9cd7-4aee-9fff-62c16c28bab4"
      },
      "execution_count": null,
      "outputs": [
        {
          "output_type": "stream",
          "name": "stdout",
          "text": [
            "Enter Number: 3772\n",
            "Result = 3767\n"
          ]
        }
      ]
    },
    {
      "cell_type": "markdown",
      "source": [
        "#Question-26:Get a two-digit number from user. If the sum of the digits is 10,then print “Success”, otherwise print “Failure”.\n",
        "#Testcase :      Input: 56 - Output Failure. Input: 37 - Output: Success."
      ],
      "metadata": {
        "id": "sfH8-hDVb2zp"
      }
    },
    {
      "cell_type": "code",
      "source": [
        "def main():\n",
        "    x = int(input(\"Enter Number: \"))\n",
        "    if((x//10)+(x%10)==10):\n",
        "      print(\"Success\")\n",
        "    else:\n",
        "      print(\"Failure\")\n",
        "if __name__ == \"__main__\":\n",
        "    main()"
      ],
      "metadata": {
        "colab": {
          "base_uri": "https://localhost:8080/"
        },
        "id": "28961_d3b-aa",
        "outputId": "bb735791-70bb-4b97-e99a-ee9e69f33de8"
      },
      "execution_count": null,
      "outputs": [
        {
          "output_type": "stream",
          "name": "stdout",
          "text": [
            "Enter Number: 37\n",
            "Success\n"
          ]
        }
      ]
    },
    {
      "cell_type": "markdown",
      "source": [
        "##Question-27:Get a three-digit number from user. If the sum of the digits is 10 then print “Success”, otherwise print “Failure”.\n",
        "##Testcase :      Input: 956 - Output: Failure.  Input: 127 - Output: Success."
      ],
      "metadata": {
        "id": "SQ3BJfhm206E"
      }
    },
    {
      "cell_type": "code",
      "source": [
        "def main():\n",
        "    x = int(input(\"Enter Number: \"))\n",
        "    if((x//100)+((x//10)%10)+(x%10)==10):\n",
        "      print(\"Success\")\n",
        "    else:\n",
        "      print(\"Failure\")\n",
        "if __name__ == \"__main__\":\n",
        "    main()"
      ],
      "metadata": {
        "colab": {
          "base_uri": "https://localhost:8080/"
        },
        "id": "PlEQjzEH27S1",
        "outputId": "cd99459d-544f-4fcd-a65d-f3c042e44571"
      },
      "execution_count": null,
      "outputs": [
        {
          "output_type": "stream",
          "name": "stdout",
          "text": [
            "Enter Number: 127\n",
            "Success\n"
          ]
        }
      ]
    },
    {
      "cell_type": "markdown",
      "source": [
        "##Question-28: Get a three-digit number from user. If the sum of the one’s digit and hundred’s digit is less than 10, then print “Success”, otherwise print “Failure”.\n",
        "#Testcase :     Input: 569 - Output Failure. Input: 316 - Output: Success."
      ],
      "metadata": {
        "id": "TuTbOtIG3P3Q"
      }
    },
    {
      "cell_type": "code",
      "source": [
        "def main():\n",
        "    x = int(input(\"Enter Number: \"))\n",
        "    if((x//100)+(x%10)<10):\n",
        "      print(\"Success\")\n",
        "    else:\n",
        "      print(\"Failure\")\n",
        "if __name__ == \"__main__\":\n",
        "    main()"
      ],
      "metadata": {
        "colab": {
          "base_uri": "https://localhost:8080/"
        },
        "id": "KQXIw28n3dxb",
        "outputId": "120fe673-4dde-41c3-d63a-98392ff5ac87"
      },
      "execution_count": null,
      "outputs": [
        {
          "output_type": "stream",
          "name": "stdout",
          "text": [
            "Enter Number: 316\n",
            "Success\n"
          ]
        }
      ]
    },
    {
      "cell_type": "markdown",
      "source": [
        "##Question-29:Get a four-digit number from user. If the sum of the ten’s digit and hundred’s digit is greater than 10, then print “Success”, otherwise print “Failure”.\n",
        "##Testcase :      Input: 7529 – Output: Failure. Input: 9386 - Output: Success."
      ],
      "metadata": {
        "id": "jO5nM5Rv3sBY"
      }
    },
    {
      "cell_type": "code",
      "source": [
        "def main():\n",
        "    x = int(input(\"Enter Number: \"))\n",
        "    if(((x//1000)%10)+((x%1000)//10)<10):\n",
        "      print(\"Success\")\n",
        "    else:\n",
        "      print(\"Failure\")\n",
        "if __name__ == \"__main__\":\n",
        "    main()"
      ],
      "metadata": {
        "colab": {
          "base_uri": "https://localhost:8080/"
        },
        "id": "hptUry4g35uy",
        "outputId": "2058b247-7989-436e-a461-623d3f4d7e04"
      },
      "execution_count": null,
      "outputs": [
        {
          "output_type": "stream",
          "name": "stdout",
          "text": [
            "Enter Number: 7529\n",
            "Failure\n"
          ]
        }
      ]
    },
    {
      "cell_type": "markdown",
      "source": [
        "##Question-30:Get a four-digit number from user. If the sum of the ten’s digit and hundred’s digit is equal to 10, and one of the digits is more than 7 then print “Success”, otherwise print “Failure”.\n",
        "\n",
        "## Testcase :      Input: 4649 – Output: Failure. Input: 9286 - Output: Success."
      ],
      "metadata": {
        "id": "9slbZxoJ4cPZ"
      }
    },
    {
      "cell_type": "code",
      "source": [
        "def main():\n",
        "    x = int(input(\"Enter Number: \"))\n",
        "    if(((x//100)%10)+((x%100)//10)==10):\n",
        "      if(((x//100)%10) >7 or ((x%100)//10)>7):\n",
        "        print(\"Success\")\n",
        "    else:\n",
        "      print(\"Failure\")\n",
        "if __name__ == \"__main__\":\n",
        "    main()"
      ],
      "metadata": {
        "colab": {
          "base_uri": "https://localhost:8080/"
        },
        "id": "mpabh3Os4vG_",
        "outputId": "9c4b1f42-9ea3-4ef1-804f-b3db289975ac"
      },
      "execution_count": null,
      "outputs": [
        {
          "output_type": "stream",
          "name": "stdout",
          "text": [
            "Enter Number: 9286\n",
            "Success\n"
          ]
        }
      ]
    },
    {
      "cell_type": "markdown",
      "source": [
        "##Question-31:Get a three-digit number from user. If the sum of the digits is less than 10, then print the sum, otherwise add the digits of the sum. If the sum of the digits is less than 10, then print the sum, otherwise add the digits of the sum, and print the sum.\n",
        "##Note: The result should be always single digit only.\n",
        "\n",
        "##Testcase :\n",
        "##Input: 123 – Output: 6\n",
        "##Input: 149 - Output: 5 (149:1+4+9 = 14: 1+4 = 5)\n",
        "##Input: 991 - Output: 1 (991: 9+9+1 = 19: 1+9 = 10: 1+0 = 1)"
      ],
      "metadata": {
        "id": "jbSQXHJM6sgC"
      }
    },
    {
      "cell_type": "code",
      "source": [
        "def main():\n",
        "    x = int(input(\"Enter Number: \"))\n",
        "    y=(x//100)+((x//10)%10)+((x%100)%10)\n",
        "    if(y<10):\n",
        "      print(f\"Result = {y}\")\n",
        "    else:\n",
        "      y=(y//10)+(y%10)\n",
        "      print(f\"Result = {y}\")\n",
        "if __name__ == \"__main__\":\n",
        "    main()"
      ],
      "metadata": {
        "colab": {
          "base_uri": "https://localhost:8080/"
        },
        "id": "GWF8rtPg7AOW",
        "outputId": "1b57aeb1-cc80-4878-c163-e004a7d6a9e8"
      },
      "execution_count": null,
      "outputs": [
        {
          "output_type": "stream",
          "name": "stdout",
          "text": [
            "Enter Number: 149\n",
            "Result = 5\n"
          ]
        }
      ]
    },
    {
      "cell_type": "markdown",
      "source": [
        "##Question-32:Get two 2-digit numbers from user. If the sum of the numbers is less than 100, then print the sum, otherwise print the difference.\n",
        "##Testcase :    Input: 56 78 – Output: 22 Input: 14 65 - Output: 79"
      ],
      "metadata": {
        "id": "xv1Brfd88Sdq"
      }
    },
    {
      "cell_type": "code",
      "source": [
        "def main():\n",
        "    x = int(input(\"Enter Number: \"))\n",
        "    x1=int(input(\"Enter Number: \"))\n",
        "    if(x+x1<100):\n",
        "      y=x+x1\n",
        "      print(f\"Result = {y}\")\n",
        "    else:\n",
        "      y=x-x1\n",
        "      print(f\"Result = {y}\")\n",
        "if __name__ == \"__main__\":\n",
        "    main()"
      ],
      "metadata": {
        "colab": {
          "base_uri": "https://localhost:8080/"
        },
        "id": "V4-YZej_8jsY",
        "outputId": "0cd9d481-3f95-449d-bf4c-4fdaf4d344ba"
      },
      "execution_count": null,
      "outputs": [
        {
          "output_type": "stream",
          "name": "stdout",
          "text": [
            "Enter Number: 78\n",
            "Enter Number: 56\n",
            "Result = 22\n"
          ]
        }
      ]
    },
    {
      "cell_type": "markdown",
      "source": [
        "##Question-33:Get two 2-digit numbers from user. Print the sum of digits of the biggest number.\n",
        "#Testcase :     \n",
        "#Input: 56 78 – Output: 15\n",
        "#Input: 14 65 - Output: 11"
      ],
      "metadata": {
        "id": "yq91e85o9I1l"
      }
    },
    {
      "cell_type": "code",
      "source": [
        "def main():\n",
        "    x1= int(input(\"Enter Number: \"))\n",
        "    x2= int(input(\"Enter Number: \"))\n",
        "    if((x1//10)+(x1%10)>(x2//10)+(x2%10)):\n",
        "      y=(x1//10)+(x1%10)\n",
        "      print(f\"Result = {y}\")\n",
        "    else:\n",
        "      y=(x2//10)+(x2%10)\n",
        "      print(f\"Result = {y}\")\n",
        "if __name__ == \"__main__\":\n",
        "    main()"
      ],
      "metadata": {
        "colab": {
          "base_uri": "https://localhost:8080/"
        },
        "id": "xj4bkhGE9WKF",
        "outputId": "7d30e8b7-5590-429e-c131-1051d89c83c0"
      },
      "execution_count": null,
      "outputs": [
        {
          "output_type": "stream",
          "name": "stdout",
          "text": [
            "Enter Number: 56\n",
            "Enter Number: 78\n",
            "Result = 15\n"
          ]
        }
      ]
    },
    {
      "cell_type": "markdown",
      "source": [
        "##Question-34: Get two 3-digit numbers from user. Print the difference between the one’s digit and hundred’s digit of the number whose ten’s digit is bigger than the other number’s ten’s digit\n",
        "##Testcase :      \n",
        "##Input: 856 978 – Output: 1\n",
        "##Input: 128 365 - Output: 2"
      ],
      "metadata": {
        "id": "ZeLy7_Vm98Dg"
      }
    },
    {
      "cell_type": "code",
      "source": [
        "def main():\n",
        "    x1= int(input(\"Enter Number: \"))\n",
        "    x2= int(input(\"Enter Number: \"))\n",
        "    if(((x1//10)%10)>((x2//10)%10)):\n",
        "      y=abs((x1//100)-(x1%10))\n",
        "      print(f\"Result = {y}\")\n",
        "    else:\n",
        "      y=abs((x2//100)-(x2%10))\n",
        "      print(f\"Result = {y}\")\n",
        "if __name__ == \"__main__\":\n",
        "    main()"
      ],
      "metadata": {
        "colab": {
          "base_uri": "https://localhost:8080/"
        },
        "id": "jJDX3q89-ZBo",
        "outputId": "af914a60-dae2-46c0-a16e-0f25e0de7625"
      },
      "execution_count": null,
      "outputs": [
        {
          "output_type": "stream",
          "name": "stdout",
          "text": [
            "Enter Number: 856\n",
            "Enter Number: 978\n",
            "Result = 1\n"
          ]
        }
      ]
    },
    {
      "cell_type": "markdown",
      "source": [
        "##Question-35:Get two 3-digit numbers from user. Add the one’s and hundred’s digits of both the numbers. Print the sum of all the digits of the number whose sum of one’s and hundred’s digits is bigger.\n",
        "##Testcase :    \n",
        "##Input: 856 978 – Output: 24\n",
        "##Input: 128 365 - Output: 11"
      ],
      "metadata": {
        "id": "ZRhZBI9Y_J64"
      }
    },
    {
      "cell_type": "code",
      "source": [
        "def main():\n",
        "    x = int(input(\"Enter Number: \"))\n",
        "    x1= int(input(\"Enter Number: \"))\n",
        "    if((x//100)+((x%100)%10)>(x1//100)+((x1%100)%10)):\n",
        "      y=(x//100)+((x//10)%10)+((x%100)%10)\n",
        "      print(f\"Result = {y}\")\n",
        "    else:\n",
        "      y=(x1//100)+((x1//10)%10)+((x1%100)%10)\n",
        "      print(f\"Result = {y}\")\n",
        "if __name__ == \"__main__\":\n",
        "    main()"
      ],
      "metadata": {
        "colab": {
          "base_uri": "https://localhost:8080/"
        },
        "id": "DTN94UfB_abL",
        "outputId": "8a21da2c-2c86-4dc8-d702-be1ec5dddb43"
      },
      "execution_count": null,
      "outputs": [
        {
          "output_type": "stream",
          "name": "stdout",
          "text": [
            "Enter Number: 856\n",
            "Enter Number: 978\n",
            "Result = 24\n"
          ]
        }
      ]
    },
    {
      "cell_type": "markdown",
      "source": [
        "## **LEVEL-3**\n"
      ],
      "metadata": {
        "id": "zVbXW_6nFDjC"
      }
    },
    {
      "cell_type": "markdown",
      "source": [
        "## Question-1:Get a number from user and add 2 to that number and print the result. Write your code inside the function. Do not Change the Code.\n",
        "## Output  :     Input :45 Output 47. Input:56789 Output:56791"
      ],
      "metadata": {
        "id": "e68Jl0lEFNBq"
      }
    },
    {
      "cell_type": "code",
      "source": [
        "def function(no1):\n",
        " # Define and initialize no2\n",
        " no2 = no1+2\n",
        " return no2\n",
        "def main():\n",
        " number1 = int(input(\"Enter a number: \"))\n",
        " number2 = function(number1)\n",
        " print(number2)\n",
        "if __name__ == \"__main__\":\n",
        " main()"
      ],
      "metadata": {
        "colab": {
          "base_uri": "https://localhost:8080/"
        },
        "id": "Edc2puHPGHvg",
        "outputId": "b8bae3f1-c158-4ce5-bfbf-d93573e6801d"
      },
      "execution_count": null,
      "outputs": [
        {
          "output_type": "stream",
          "name": "stdout",
          "text": [
            "Enter a number: 45\n",
            "47\n"
          ]
        }
      ]
    },
    {
      "cell_type": "markdown",
      "source": [
        "## Question-2:Get a number from user and subtract 5 to that number and print the result. Write your code inside the function.\n",
        "## Output  :   Input :45 Output 40. Input:56789 Output:56784"
      ],
      "metadata": {
        "id": "hGJ_0jEBGkCX"
      }
    },
    {
      "cell_type": "code",
      "source": [
        "def function(no1):\n",
        "    no2 = 0\n",
        "    # Your Program Here\n",
        "    no2=no1-5\n",
        "    return no2\n",
        "def main():\n",
        "    number1 = int(input(\"Enter a number: \"))\n",
        "    number2 = function(number1)\n",
        "    print(number2)\n",
        "if __name__ == \"__main__\":\n",
        "    main()"
      ],
      "metadata": {
        "colab": {
          "base_uri": "https://localhost:8080/"
        },
        "id": "at2OxD_eG6QH",
        "outputId": "7847fc47-20e4-430e-b159-ee6c8a354a0d"
      },
      "execution_count": null,
      "outputs": [
        {
          "output_type": "stream",
          "name": "stdout",
          "text": [
            "Enter a number: 45\n",
            "40\n"
          ]
        }
      ]
    },
    {
      "cell_type": "markdown",
      "source": [
        "##Question-3:Get a number from user and Check whether the sum of digits is 14 and print the result. Write your code inside the function. Do not Change the format.\n",
        "## Output  :   Input: 59 Output: Sum of Digits is 14. Input :123 Output: Sum of  digits is not 14"
      ],
      "metadata": {
        "id": "vP7dz6SxHam6"
      }
    },
    {
      "cell_type": "code",
      "source": [
        "def sum14(no):\n",
        " # Calculate the sum of digits and check if it equals 14\n",
        " sum_of_digits = sum(int(digit) for digit in str(no))\n",
        " if sum_of_digits == 14:\n",
        "  return 1\n",
        " else:\n",
        "  return 0\n",
        "def main():\n",
        " number = int(input(\"Enter a number: \"))\n",
        " result = sum14(number)\n",
        " if result == 1:\n",
        "  print(\"Sum of Digits is 14\")\n",
        " else:\n",
        "  print(\"Sum of Digits is not 14\")\n",
        "if __name__ == \"__main__\":\n",
        "  main()"
      ],
      "metadata": {
        "colab": {
          "base_uri": "https://localhost:8080/"
        },
        "id": "b2w1ZXJEHrI8",
        "outputId": "fb62c769-308a-4188-ec47-16f8f5b1c4b1"
      },
      "execution_count": null,
      "outputs": [
        {
          "output_type": "stream",
          "name": "stdout",
          "text": [
            "Enter a number: 59\n",
            "Sum of Digits is 14\n"
          ]
        }
      ]
    },
    {
      "cell_type": "markdown",
      "source": [
        "## Question-4:Get a number from user and Check Prime or Not and print the result. Write your code inside the function. Do not Change the format.\n",
        "##Output  :   Input: 61 Output Number is Prime. Input: 1200 Output: Number is not Prime."
      ],
      "metadata": {
        "id": "8lRHkfF8Jc8m"
      }
    },
    {
      "cell_type": "code",
      "source": [
        "def is_prime(number):\n",
        "  if number <=1:\n",
        "    return 0\n",
        "  for i in range(2,int(number**0.5)+1):\n",
        "    if number%i==0:\n",
        "      return 0\n",
        "  return 1\n",
        "\n",
        "def main():\n",
        "    number = int(input(\"Enter a number: \"))\n",
        "    result = is_prime(number)\n",
        "    if result == 1:\n",
        "        print(\"Number is Prime\")\n",
        "    else:\n",
        "        print(\"Number is not Prime\")\n",
        "\n",
        "if __name__ == \"__main__\":\n",
        "    main()\n"
      ],
      "metadata": {
        "colab": {
          "base_uri": "https://localhost:8080/"
        },
        "id": "IoXuYOLGJ3Wm",
        "outputId": "e767145c-6bed-4dfc-d6a9-9729e9f86e68"
      },
      "execution_count": null,
      "outputs": [
        {
          "output_type": "stream",
          "name": "stdout",
          "text": [
            "Enter a number: 61\n",
            "Number is Prime\n"
          ]
        }
      ]
    },
    {
      "cell_type": "markdown",
      "source": [
        "## Question-5:Get a number from user and count the number of zeros in that number and print. Write your code inside the function. Do not Change the format.\n",
        "## Output  :  Input: 100 Output: 2 . Input: 1060030 Output: 4."
      ],
      "metadata": {
        "id": "S-3YUmYnLHwm"
      }
    },
    {
      "cell_type": "code",
      "source": [
        "def count_zeros(number):\n",
        "  # Convert the number to a string to iterate over each digit\n",
        "  number_str= str(number)\n",
        "  # Count the number of zeros\n",
        "  count=number_str.count('0')\n",
        "  return count\n",
        "def main():\n",
        "    number = int(input(\"Enter a number: \"))\n",
        "    result = count_zeros(number)\n",
        "    print(result)\n",
        "\n",
        "if __name__ == \"__main__\":\n",
        "  main()"
      ],
      "metadata": {
        "colab": {
          "base_uri": "https://localhost:8080/"
        },
        "id": "k8lusLQRLZwY",
        "outputId": "40787f8d-a5d3-4525-fe97-edbbe20cfc31"
      },
      "execution_count": null,
      "outputs": [
        {
          "output_type": "stream",
          "name": "stdout",
          "text": [
            "Enter a number: 100\n",
            "2\n"
          ]
        }
      ]
    },
    {
      "cell_type": "markdown",
      "source": [
        "## Question-6:Get a number from user and reverse that number and print. Write your code inside the function. Do not Change the format.\n",
        "## Output  :   Input: 123 Output: 321. Input: 56789 Output: 98765."
      ],
      "metadata": {
        "id": "US67tsZfMw6z"
      }
    },
    {
      "cell_type": "code",
      "source": [
        "def reverse(number):\n",
        "  sum=0\n",
        "  while(number>0):\n",
        "    mod=number%10\n",
        "    sum=sum*10+mod\n",
        "    number//=10\n",
        "  return sum\n",
        "\n",
        "def main():\n",
        "  number=int(input(\"Enter the number:\"))\n",
        "  result=reverse(number)\n",
        "  print(f\"Result={result}\")\n",
        "if __name__ == \"__main__\":\n",
        "  main()"
      ],
      "metadata": {
        "colab": {
          "base_uri": "https://localhost:8080/"
        },
        "id": "4axQGSfAM8zn",
        "outputId": "5a698f83-d204-41f3-dc9c-d3afc5ab20bd"
      },
      "execution_count": null,
      "outputs": [
        {
          "output_type": "stream",
          "name": "stdout",
          "text": [
            "Enter the number:123\n",
            "Result=321\n"
          ]
        }
      ]
    },
    {
      "cell_type": "markdown",
      "source": [
        "## Question-7:Get two numbers from user and compare the numbers. If same print “Same” otherwise print “Not Same”. Write your code inside the function. Do not Change the format.\n",
        "## Output  : Input: 123, 123 Output: Same. Input: 56789,12345 Output: “Not Same”"
      ],
      "metadata": {
        "id": "xIdxddSDN8QB"
      }
    },
    {
      "cell_type": "code",
      "source": [
        "def compare(no1,no2):\n",
        "  if no1==no2:\n",
        "    return 1\n",
        "  else:\n",
        "    return 0\n",
        "\n",
        "def main():\n",
        "  number1=int(input(\"Enter the number:\"))\n",
        "  number2=int(input(\"Enter the number:\"))\n",
        "  result=compare(number1,number2)\n",
        "  if result==1:\n",
        "    print('Same')\n",
        "  else:\n",
        "    print(\"Not Same\")\n",
        "\n",
        "if __name__ == \"__main__\":\n",
        "  main()"
      ],
      "metadata": {
        "colab": {
          "base_uri": "https://localhost:8080/"
        },
        "id": "NlGA3lCAOYkG",
        "outputId": "d8ab4230-3fec-4f18-95ef-4228cef99121"
      },
      "execution_count": null,
      "outputs": [
        {
          "output_type": "stream",
          "name": "stdout",
          "text": [
            "Enter the number:123\n",
            "Enter the number:123\n",
            "Same\n"
          ]
        }
      ]
    },
    {
      "cell_type": "markdown",
      "source": [
        "## Question-8:Get a number from user and check whether the digits are in ascending order.\n",
        "##Output  :   Input: 1234 Output: Yes. Input: 5687 Output: No"
      ],
      "metadata": {
        "id": "hC7q5YwuPXvh"
      }
    },
    {
      "cell_type": "code",
      "source": [
        "def is_ascending(number):\n",
        "   # Convert the number to a string to iterate over each digit\n",
        "   num_str=str(number)\n",
        "   # Convert the number to a string to iterate over each digit\n",
        "   is_ascending=True\n",
        "   for i in range(len(num_str)-1):\n",
        "    if(int(num_str[i]>num_str[i+1])):\n",
        "      is_ascending=False\n",
        "      break\n",
        "   return is_ascending\n",
        "\n",
        "def main():\n",
        "  number=int(input(\"Enter the number:\"))\n",
        "  result=is_ascending(number)\n",
        "  if result==True:\n",
        "    print(\"Yes\")\n",
        "  else:\n",
        "    print(\"No\")\n",
        "\n",
        "if __name__ == \"__main__\":\n",
        "  main()"
      ],
      "metadata": {
        "colab": {
          "base_uri": "https://localhost:8080/"
        },
        "id": "cLRrsDsDPjia",
        "outputId": "f16f38ba-193a-44f8-a6e9-a191b6c3fe40"
      },
      "execution_count": null,
      "outputs": [
        {
          "output_type": "stream",
          "name": "stdout",
          "text": [
            "Enter the number:1234\n",
            "Yes\n"
          ]
        }
      ]
    },
    {
      "cell_type": "markdown",
      "source": [
        "## Question-9:Get a two-digit number from user swap the digits.\n",
        "##Output  :  Input: 34 Output: 43. Input: 56 Output: 65"
      ],
      "metadata": {
        "id": "qlfyKjlbR9gQ"
      }
    },
    {
      "cell_type": "code",
      "source": [
        "def swap(a,b):\n",
        "  a,b=b,a\n",
        "  return a,b\n",
        "\n",
        "def main():\n",
        "  number1=int(input(\"Enter the number:\"))\n",
        "  number2=int(input(\"Enter the number:\"))\n",
        "  print(f\"number1={number1},number2={number2}\")\n",
        "  result=swap(number1,number2)\n",
        "  print(f\"Result={result}\")\n",
        "\n",
        "if __name__ == \"__main__\":\n",
        "  main()"
      ],
      "metadata": {
        "colab": {
          "base_uri": "https://localhost:8080/"
        },
        "id": "Pi3CUPRESHs2",
        "outputId": "3c26c6b5-18df-4a67-a8ba-c29c81c4d156"
      },
      "execution_count": null,
      "outputs": [
        {
          "output_type": "stream",
          "name": "stdout",
          "text": [
            "Enter the number:10\n",
            "Enter the number:20\n",
            "number1=10,number2=20\n",
            "Result=(20, 10)\n"
          ]
        }
      ]
    },
    {
      "cell_type": "markdown",
      "source": [
        "## Question-10: Get a number from user, find the number of digits and print the same.\n",
        "## Output  :  Input: 34678 Output: 5. Input: 12345678 Output: 8"
      ],
      "metadata": {
        "id": "frmImKA3TcGF"
      }
    },
    {
      "cell_type": "code",
      "source": [
        "def count_of_digits(no):\n",
        " # Calculate the sum of digits and check if it equals 14\n",
        " num_str =str(no)\n",
        " return len(num_str)\n",
        "def main():\n",
        " number = int(input(\"Enter a number: \"))\n",
        " result = count_of_digits(number)\n",
        " print(f\"Result={result}\")\n",
        "\n",
        "if __name__ == \"__main__\":\n",
        "  main()"
      ],
      "metadata": {
        "colab": {
          "base_uri": "https://localhost:8080/"
        },
        "id": "xne8K_d0Tl6U",
        "outputId": "4a886f2d-d1ab-4d97-ed05-cd71dcf1e84a"
      },
      "execution_count": null,
      "outputs": [
        {
          "output_type": "stream",
          "name": "stdout",
          "text": [
            "Enter a number: 12345678\n",
            "Result=8\n"
          ]
        }
      ]
    },
    {
      "cell_type": "markdown",
      "source": [
        "## **LEVEL-2**\n",
        "\n",
        "\n"
      ],
      "metadata": {
        "id": "1SfMUBJZikUW"
      }
    },
    {
      "cell_type": "markdown",
      "source": [
        "#Question-1:Write a loop program to print  1 to 5 on one by one.\n",
        "# Output  :     \n",
        "#1\n",
        "#2\n",
        "#3\n",
        "#4\n",
        "#5\n"
      ],
      "metadata": {
        "id": "up0oVkhQiopa"
      }
    },
    {
      "cell_type": "code",
      "source": [
        "def main():\n",
        "  x=int(input(\"Enter the number:\"))\n",
        "  for i in range(1,x+1):\n",
        "      print(i)\n",
        "if __name__ == \"__main__\":\n",
        "    main()"
      ],
      "metadata": {
        "colab": {
          "base_uri": "https://localhost:8080/"
        },
        "id": "YK_o2ODvjDEL",
        "outputId": "8e0e022a-5aac-47ed-aeee-fecad9a8c4bd"
      },
      "execution_count": null,
      "outputs": [
        {
          "output_type": "stream",
          "name": "stdout",
          "text": [
            "Enter the number:5\n",
            "1\n",
            "2\n",
            "3\n",
            "4\n",
            "5\n"
          ]
        }
      ]
    },
    {
      "cell_type": "markdown",
      "source": [
        "##Question-2:Write a loop program to print 5 to 1 on one by one.\n",
        "##Output  :   \n",
        "#5\n",
        "#4\n",
        "#3\n",
        "#2\n",
        "#1"
      ],
      "metadata": {
        "id": "vOLLR6Q1joGh"
      }
    },
    {
      "cell_type": "code",
      "source": [
        "def main():\n",
        "  x=int(input(\"Enter the number:\"))\n",
        "  while(x>0):\n",
        "    print(x)\n",
        "    x-=1\n",
        "if __name__ == \"__main__\":\n",
        "    main()"
      ],
      "metadata": {
        "colab": {
          "base_uri": "https://localhost:8080/"
        },
        "id": "fLoWO9ZKj4iv",
        "outputId": "e69e976c-2126-4fa2-da6b-15b9ecb037bc"
      },
      "execution_count": null,
      "outputs": [
        {
          "output_type": "stream",
          "name": "stdout",
          "text": [
            "Enter the number:5\n",
            "5\n",
            "4\n",
            "3\n",
            "2\n",
            "1\n"
          ]
        }
      ]
    },
    {
      "cell_type": "markdown",
      "source": [
        "##Question-3:  Write a loop program to print sum of 1 to 5.\n",
        "##Output  :    15"
      ],
      "metadata": {
        "id": "bDC9QXLHkOv_"
      }
    },
    {
      "cell_type": "code",
      "source": [
        "def main():\n",
        "  x=int(input(\"enter the number:\"))\n",
        "  sum=0\n",
        "  for i in range(1,x+1):\n",
        "    sum+=i\n",
        "  print(f\"Sum is = {sum}\")\n",
        "if __name__==\"__main__\":\n",
        "  main()"
      ],
      "metadata": {
        "colab": {
          "base_uri": "https://localhost:8080/"
        },
        "id": "9d2b9lx1kWi3",
        "outputId": "31bd9058-d92d-467a-af52-285df44fbc04"
      },
      "execution_count": null,
      "outputs": [
        {
          "output_type": "stream",
          "name": "stdout",
          "text": [
            "enter the number:5\n",
            "Sum is = 15\n"
          ]
        }
      ]
    },
    {
      "cell_type": "markdown",
      "source": [
        "##Question-4:Write a loop program to print sum of 6 to 1.\n",
        "##Output  :    21"
      ],
      "metadata": {
        "id": "lUeQ1n54k8bq"
      }
    },
    {
      "cell_type": "code",
      "source": [
        "def main():\n",
        "  x=int(input(\"enter the number:\"))\n",
        "  sum=0\n",
        "  while(x>0):\n",
        "    sum+=x\n",
        "    x-=1\n",
        "  print(f\"Sum is = {sum}\")\n",
        "if __name__==\"__main__\":\n",
        "  main()"
      ],
      "metadata": {
        "colab": {
          "base_uri": "https://localhost:8080/"
        },
        "id": "gNQvpTxVlG5S",
        "outputId": "49cb3357-e378-4df1-ad89-4a051f486b48"
      },
      "execution_count": null,
      "outputs": [
        {
          "output_type": "stream",
          "name": "stdout",
          "text": [
            "enter the number:6\n",
            "Sum is = 21\n"
          ]
        }
      ]
    },
    {
      "cell_type": "markdown",
      "source": [
        "##Question-5:Write a loop program to print odd numbers 1 to 9.\n",
        "##Output  :   \n",
        "##1\n",
        "##3\n",
        "##5\n",
        "##7\n",
        "##9"
      ],
      "metadata": {
        "id": "EceFIe4nlkyT"
      }
    },
    {
      "cell_type": "code",
      "source": [
        "def main():\n",
        "  x=int(input(\"Enter the number:\"))\n",
        "  for i in range(1,x+1):\n",
        "    if(i%2!=0):\n",
        "      print(i)\n",
        "\n",
        "if __name__ ==\"__main__\":\n",
        "  main()"
      ],
      "metadata": {
        "colab": {
          "base_uri": "https://localhost:8080/"
        },
        "id": "zEhj_LSOl4RZ",
        "outputId": "2f60be44-137b-4213-9869-f71a52f231e1"
      },
      "execution_count": null,
      "outputs": [
        {
          "output_type": "stream",
          "name": "stdout",
          "text": [
            "Enter the number:10\n",
            "1\n",
            "3\n",
            "5\n",
            "7\n",
            "9\n"
          ]
        }
      ]
    },
    {
      "cell_type": "markdown",
      "source": [
        "##Question-6:  Write a loop program to print the two-digit odd numbers, below 20.\n",
        "#Output  :   \n",
        "#11\n",
        "#13\n",
        "#15\n",
        "#17\n",
        "#19"
      ],
      "metadata": {
        "id": "C2suGBDSmbzA"
      }
    },
    {
      "cell_type": "code",
      "source": [
        "def main():\n",
        "  x=int(input(\"Enter the number:\"))\n",
        "  for i in range(10,x+1):\n",
        "    if(i%2!=0):\n",
        "      print(i)\n",
        "\n",
        "if __name__ ==\"__main__\":\n",
        "  main()"
      ],
      "metadata": {
        "colab": {
          "base_uri": "https://localhost:8080/"
        },
        "id": "_4qeJhs2mtC8",
        "outputId": "3144e059-567e-4780-832f-95940d9b9cb2"
      },
      "execution_count": null,
      "outputs": [
        {
          "output_type": "stream",
          "name": "stdout",
          "text": [
            "Enter the number:20\n",
            "11\n",
            "13\n",
            "15\n",
            "17\n",
            "19\n"
          ]
        }
      ]
    },
    {
      "cell_type": "markdown",
      "source": [
        "#Question-7:Write a loop program to print the two-digit odd numbers, who’s sum of digits are 7.\n",
        "#Output  :   \n",
        "#25\n",
        "#43\n",
        "#61"
      ],
      "metadata": {
        "id": "YEYWQG3Mm4r4"
      }
    },
    {
      "cell_type": "code",
      "source": [
        "def main():\n",
        "  for i in range(10,100):\n",
        "    if((i%10)+(i//10)==7) and(i%2!=0):\n",
        "      print(i)\n",
        "\n",
        "if __name__ ==\"__main__\":\n",
        "  main()"
      ],
      "metadata": {
        "colab": {
          "base_uri": "https://localhost:8080/"
        },
        "id": "V-cA81OWnNis",
        "outputId": "774322cb-74d9-4a38-a98f-41dff6ad8e22"
      },
      "execution_count": null,
      "outputs": [
        {
          "output_type": "stream",
          "name": "stdout",
          "text": [
            "25\n",
            "43\n",
            "61\n"
          ]
        }
      ]
    },
    {
      "cell_type": "markdown",
      "source": [
        "##Question-8:Write a loop program to print the two-digit even numbers, who’s sum of digits are 6.\n",
        "##Output  :\n",
        "##24\n",
        "##42\n",
        "##60"
      ],
      "metadata": {
        "id": "kvi1R2hzoAhB"
      }
    },
    {
      "cell_type": "code",
      "source": [
        "def main():\n",
        "  for i in range(10,100):\n",
        "    if((i%10)+(i//10)==6) and(i%2==0):\n",
        "      print(i)\n",
        "\n",
        "if __name__ ==\"__main__\":\n",
        "  main()"
      ],
      "metadata": {
        "colab": {
          "base_uri": "https://localhost:8080/"
        },
        "id": "-5W12VlfoNoC",
        "outputId": "4ae32e69-ebb9-4c40-8e43-0a2c891738b7"
      },
      "execution_count": null,
      "outputs": [
        {
          "output_type": "stream",
          "name": "stdout",
          "text": [
            "24\n",
            "42\n",
            "60\n"
          ]
        }
      ]
    },
    {
      "cell_type": "markdown",
      "source": [
        "##Question-9:  Write a loop program to print the sum of two-digit numbers whose one’s digit is 5.\n",
        "##Output  :  495"
      ],
      "metadata": {
        "id": "Zek7wGgw7UP4"
      }
    },
    {
      "cell_type": "code",
      "source": [
        "def main():\n",
        "    total_sum=0\n",
        "    for i in range(10,100):\n",
        "      if i%10==5:\n",
        "        total_sum+=i\n",
        "    print(f\"Result = {total_sum}\")\n",
        "if __name__ == \"__main__\":\n",
        "    main()"
      ],
      "metadata": {
        "colab": {
          "base_uri": "https://localhost:8080/"
        },
        "id": "BgO4AStW8nD7",
        "outputId": "4da2a680-d7a2-42df-9941-e2a9c5a1ba49"
      },
      "execution_count": null,
      "outputs": [
        {
          "output_type": "stream",
          "name": "stdout",
          "text": [
            "Result = 495\n"
          ]
        }
      ]
    },
    {
      "cell_type": "markdown",
      "source": [
        "##Question-10:   Write a loop program to print the sum of two-digit odd numbers, whose ten’s digit is 7.\n",
        "##Output  :  375"
      ],
      "metadata": {
        "id": "AAb-O74F9TlY"
      }
    },
    {
      "cell_type": "code",
      "source": [
        "def main():\n",
        "   total_sum=0\n",
        "   for i in range(10,100):\n",
        "    if(i%2!=0)and (i//10==7):\n",
        "      total_sum+=i\n",
        "   print(f\"Result = {total_sum}\")\n",
        "if __name__ == \"__main__\":\n",
        "    main()"
      ],
      "metadata": {
        "colab": {
          "base_uri": "https://localhost:8080/"
        },
        "id": "so8_QCqU9nY1",
        "outputId": "7b9d45e5-5ffc-4448-e3f7-6f57a46f4cce"
      },
      "execution_count": null,
      "outputs": [
        {
          "output_type": "stream",
          "name": "stdout",
          "text": [
            "Result = 375\n"
          ]
        }
      ]
    },
    {
      "cell_type": "markdown",
      "source": [
        "##Question-11:Write a program to get a number from user print the total number of digits in that number\n",
        "#Output  :    \n",
        "#Input : 123456 - Output – 6\n",
        "#Input : 76895439- Output – 8\n",
        "#Input : 675 – Output - 3"
      ],
      "metadata": {
        "id": "dvM7VStd-PpP"
      }
    },
    {
      "cell_type": "code",
      "source": [
        "def main():\n",
        "    x = int(input(\"Enter Number: \"))\n",
        "    num_str =str(x)\n",
        "    print(f\"Result = {len(num_str)}\")\n",
        "if __name__ == \"__main__\":\n",
        "    main()"
      ],
      "metadata": {
        "colab": {
          "base_uri": "https://localhost:8080/"
        },
        "id": "Stzz1TBDBoQg",
        "outputId": "d5f2c63f-1193-4dba-9230-4b65f5f12597"
      },
      "execution_count": null,
      "outputs": [
        {
          "output_type": "stream",
          "name": "stdout",
          "text": [
            "Enter Number: 123456\n",
            "Result = 6\n"
          ]
        }
      ]
    },
    {
      "cell_type": "markdown",
      "source": [
        "##Question-12:Write a program to get a number from user and print the sum of all digits.\n",
        "##Output  :  \n",
        "#Input: 123456 - Output – 21\n",
        "#Input: 76895439 - Output – 51\n",
        "#Input: 675 – Output - 18"
      ],
      "metadata": {
        "id": "cttlJuNsCjtf"
      }
    },
    {
      "cell_type": "code",
      "source": [
        "def main():\n",
        "    x = int(input(\"Enter Number: \"))\n",
        "    sum_of_digits = sum(int(digit) for digit in str(x))\n",
        "    print(f\"Result = {sum_of_digits}\")\n",
        "if __name__ == \"__main__\":\n",
        "    main()"
      ],
      "metadata": {
        "colab": {
          "base_uri": "https://localhost:8080/"
        },
        "id": "vfRdBLk7DApU",
        "outputId": "ee436c42-d1a0-4e87-e41a-8e2ad49ba74b"
      },
      "execution_count": null,
      "outputs": [
        {
          "output_type": "stream",
          "name": "stdout",
          "text": [
            "Enter Number: 123456\n",
            "Result = 21\n"
          ]
        }
      ]
    },
    {
      "cell_type": "markdown",
      "source": [
        "#Question-13: Write a program to get a number from user and print the reverse of that number\n",
        "#Output  :  \n",
        "#Input : 123456 - Output – 654321\n",
        "#Input : 76895439- Output – 93459867\n",
        "#Input : 675 – Output - 576"
      ],
      "metadata": {
        "id": "ySyPOivfDvGK"
      }
    },
    {
      "cell_type": "code",
      "source": [
        "def main():\n",
        "    x = int(input(\"Enter Number: \"))\n",
        "    y=0\n",
        "    while(x>0):\n",
        "      mod=x%10\n",
        "      y=y*10+mod\n",
        "      x=x//10\n",
        "    print(f\"Result = {y}\")\n",
        "if __name__ == \"__main__\":\n",
        "    main()"
      ],
      "metadata": {
        "colab": {
          "base_uri": "https://localhost:8080/"
        },
        "id": "sashZYsQD7cb",
        "outputId": "8d9340b6-cae9-47be-bbfa-e32bbeb35299"
      },
      "execution_count": null,
      "outputs": [
        {
          "output_type": "stream",
          "name": "stdout",
          "text": [
            "Enter Number: 76895439\n",
            "Result = 93459867\n"
          ]
        }
      ]
    },
    {
      "cell_type": "markdown",
      "source": [
        "##Question-14:Write a program to get a number from user and interchange the first and last digits and print the result.\n",
        "##Output  :  \n",
        "##Input : 123456 - Output – 623451\n",
        "##Input : 76895439- Output – 96895437\n",
        "##Input : 675 – Output - 576"
      ],
      "metadata": {
        "id": "GRcusjNeEqoL"
      }
    },
    {
      "cell_type": "code",
      "source": [
        "def main():\n",
        "    x = int(input(\"Enter Number: \"))\n",
        "    num_str=str(x)\n",
        "    y=num_str[-1]+num_str[1:-1]+num_str[0]\n",
        "    y=int(y)\n",
        "    print(f\"Result = {y}\")\n",
        "if __name__ == \"__main__\":\n",
        "    main()"
      ],
      "metadata": {
        "colab": {
          "base_uri": "https://localhost:8080/"
        },
        "id": "tTwNcl-yGkMu",
        "outputId": "6fadb9ed-5fe4-429b-cc54-1af21f46b5d6"
      },
      "execution_count": null,
      "outputs": [
        {
          "output_type": "stream",
          "name": "stdout",
          "text": [
            "Enter Number: 123456\n",
            "Result = 623451\n"
          ]
        }
      ]
    },
    {
      "cell_type": "markdown",
      "source": [
        "#Question-15: Write a program to get a number frm user and if the last digit of the number is even print the same number. If the last digit of the number is odd then subtract 1 from the last digit and print the number.\n",
        "\n",
        "#(Note: Last digit -MSB)\n",
        "\n",
        "#Output :\n",
        "#Input : 123456 -Output 023456  Input : 96895439 - Output – 86895439\n",
        "\n",
        "#Input : 675 – Output -675 Input : 575 – Output - 475."
      ],
      "metadata": {
        "id": "BQCcG9p4Hh8j"
      }
    },
    {
      "cell_type": "code",
      "source": [
        "def main():\n",
        "    x = int(input(\"Enter Number: \"))\n",
        "    num_str=str(x)\n",
        "    last_digit=int(num_str[0])\n",
        "    if last_digit%2==0:\n",
        "      print(f\"Result={int(num_str)}\")\n",
        "    else:\n",
        "      last_digit=last_digit-1\n",
        "      last_digit=str(last_digit)\n",
        "      y=last_digit+num_str[1:]\n",
        "      y=int(y)\n",
        "      print(f\"Result={y}\")\n",
        "if __name__ == \"__main__\":\n",
        "    main()"
      ],
      "metadata": {
        "colab": {
          "base_uri": "https://localhost:8080/"
        },
        "id": "QvIVbFJeZNhv",
        "outputId": "aabfee5b-1384-4754-ae5f-dbc53c06522e"
      },
      "execution_count": null,
      "outputs": [
        {
          "output_type": "stream",
          "name": "stdout",
          "text": [
            "Enter Number: 575\n",
            "Result=475\n"
          ]
        }
      ]
    },
    {
      "cell_type": "markdown",
      "source": [
        "## Question-16 :  Write a program get number from user print whether that number is prime or not.\n",
        "##Output  :   \n",
        "##Input : 31 - Output : Prime\n",
        "##Input : 27 - Output : Not Prime"
      ],
      "metadata": {
        "id": "eQRgSFCweysF"
      }
    },
    {
      "cell_type": "code",
      "source": [
        "def main():\n",
        "    number = int(input(\"Enter a number: \"))\n",
        "    for i in range(2,int(number**0.5)+1):\n",
        "      if number%i == 0:\n",
        "        print(\"Number is not Prime\")\n",
        "    else:\n",
        "        print(\"Number is Prime\")\n",
        "\n",
        "if __name__ == \"__main__\":\n",
        "    main()"
      ],
      "metadata": {
        "colab": {
          "base_uri": "https://localhost:8080/"
        },
        "id": "r5rLn79se8P_",
        "outputId": "ddf62404-5a14-4dd7-ca65-da77c80c5883"
      },
      "execution_count": null,
      "outputs": [
        {
          "output_type": "stream",
          "name": "stdout",
          "text": [
            "Enter a number: 31\n",
            "Number is Prime\n"
          ]
        }
      ]
    },
    {
      "cell_type": "markdown",
      "source": [
        "## Question-17:    Write a program to get a number from user, print whether that number is prime, and sum of digit is equal to 14.\n",
        "##Output  :   \n",
        "##Input: 59 - Output: Prime & Sum of Digits is 14\n",
        "##Input: 77 - Output: Not Prime but sum of digits is 14\n",
        "##Input: 13 - Output: Prime, but sum of Digits is not 14"
      ],
      "metadata": {
        "id": "svQRqtdugOvb"
      }
    },
    {
      "cell_type": "code",
      "source": [
        "def is_prime(number):\n",
        "  if number <=1:\n",
        "    return 0\n",
        "  for i in range(2,int(number**0.5)+1):\n",
        "    if number%i==0:\n",
        "      return 0\n",
        "  return 1\n",
        "\n",
        "def main():\n",
        "    number = int(input(\"Enter a number: \"))\n",
        "    result = is_prime(number)\n",
        "    if result == 1 and sum(int(digits)for digits in str(number))==14:\n",
        "        print(\"Prime but Sum of digits is 14\")\n",
        "    elif result!=1 and sum(int(digits)for digits in str(number))==14:\n",
        "        print(\"Not Prime but Sum of digits is 14\")\n",
        "    elif result==1 and sum(int(digits)for digits in str(number))!=14:\n",
        "      print(\"Prime but Sum of digits not equal to 14\")\n",
        "    else:\n",
        "      print(\"Not Prime and Sum of digits is not equal to 14\")\n",
        "\n",
        "if __name__==\"__main__\":\n",
        "  main()"
      ],
      "metadata": {
        "colab": {
          "base_uri": "https://localhost:8080/"
        },
        "id": "iMxd_DZpge46",
        "outputId": "2b5c4be0-9b18-4466-d9df-d58dbd1b7111"
      },
      "execution_count": null,
      "outputs": [
        {
          "output_type": "stream",
          "name": "stdout",
          "text": [
            "Enter a number: 31\n",
            "Prime but Sum of digits not equal to 14\n"
          ]
        }
      ]
    },
    {
      "cell_type": "markdown",
      "source": [
        "## Question-18: Write a program to get number from user, print whether that number’s first two digits (ten’s digits and one’s digit) is prime.\n",
        "#Output  :    \n",
        "#Input: 359 - Output: Prime\n",
        "#Input: 3577 - Output: Not Prime"
      ],
      "metadata": {
        "id": "NivXeGLth9kl"
      }
    },
    {
      "cell_type": "code",
      "source": [
        "def is_prime(number):\n",
        "  if number <=0:\n",
        "    return False\n",
        "  for i in range(2,int(number**0.5)+1):\n",
        "    if number%i==0:\n",
        "      return False\n",
        "  return True\n",
        "def main():\n",
        "  x=int(input(\"Enter the number:\"))\n",
        "  result=is_prime(x%100)\n",
        "  if result:\n",
        "    print(\"Prime\")\n",
        "  else:\n",
        "    print(\"Not Prime\")\n",
        "\n",
        "if __name__ == \"__main__\":\n",
        "  main()"
      ],
      "metadata": {
        "colab": {
          "base_uri": "https://localhost:8080/"
        },
        "id": "rEtTpaY5iTW9",
        "outputId": "a3b6ed34-67be-4674-941e-534ee99b0496"
      },
      "execution_count": null,
      "outputs": [
        {
          "output_type": "stream",
          "name": "stdout",
          "text": [
            "Enter the number:3577\n",
            "Not Prime\n"
          ]
        }
      ]
    },
    {
      "cell_type": "markdown",
      "source": [
        "## Question-19:  Write a program to get a 4-digit number from user, print whether that number’s middle two digits (hundred’s digit and ten’s digit) is prime.\n",
        "#Output  :   \n",
        "#Input: 6359 - Output: Not Prime\n",
        "#Input: 3517 - Output: Prime"
      ],
      "metadata": {
        "id": "Ldr9F7hjlXJg"
      }
    },
    {
      "cell_type": "code",
      "source": [
        "def is_prime(number):\n",
        "  if number <=0:\n",
        "    return False\n",
        "  for i in range(2,int(number**0.5)+1):\n",
        "    if number%i==0:\n",
        "      return False\n",
        "  return True\n",
        "def main():\n",
        "  x=int(input(\"Enter the number:\"))\n",
        "  result=is_prime(((x%1000)//10))\n",
        "  if result:\n",
        "    print(\"Prime\")\n",
        "  else:\n",
        "    print(\"Not Prime\")\n",
        "\n",
        "if __name__ == \"__main__\":\n",
        "  main()"
      ],
      "metadata": {
        "colab": {
          "base_uri": "https://localhost:8080/"
        },
        "id": "MJ-se6xLltVu",
        "outputId": "70c1421f-1f8c-4362-a3bc-165e4ab1fdc6"
      },
      "execution_count": null,
      "outputs": [
        {
          "output_type": "stream",
          "name": "stdout",
          "text": [
            "Enter the number:3577\n",
            "Not Prime\n"
          ]
        }
      ]
    },
    {
      "cell_type": "markdown",
      "source": [
        "## Question-20: Write a program print total number of single digit Prime numbers\n",
        "##Output  :   4"
      ],
      "metadata": {
        "id": "ioVW-w4sq62-"
      }
    },
    {
      "cell_type": "code",
      "source": [
        "def is_prime(number):\n",
        "  if number <=0:\n",
        "    return False\n",
        "  for i in range(2,int(number**0.5)+1):\n",
        "    if number%i==0:\n",
        "      return False\n",
        "  return True\n",
        "def main():\n",
        "  count=0\n",
        "  for i in range(2,10):\n",
        "    if is_prime(i):\n",
        "      count+=1\n",
        "  print(count)\n",
        "if __name__==\"__main__\":\n",
        "  main()"
      ],
      "metadata": {
        "colab": {
          "base_uri": "https://localhost:8080/"
        },
        "id": "Bu7vg2tRrGue",
        "outputId": "caf56b09-d563-4cb9-c93f-8108e3324584"
      },
      "execution_count": null,
      "outputs": [
        {
          "output_type": "stream",
          "name": "stdout",
          "text": [
            "4\n"
          ]
        }
      ]
    },
    {
      "cell_type": "markdown",
      "source": [
        "## Question-21 :   Write a program get number from user print the total number digits which are odd in the number.\n",
        "#Output  :   \n",
        "#Input : 12345678 - Output : 4\n",
        "#Input : 987531 - Output : 5"
      ],
      "metadata": {
        "id": "2BTNJgzGtm3a"
      }
    },
    {
      "cell_type": "code",
      "source": [
        "def main():\n",
        "  x=int(input(\"enter the number:\"))\n",
        "  num_str=str(x)\n",
        "  odd_digit=0\n",
        "  for i in num_str:\n",
        "    if(int(i)%2!=0):\n",
        "      odd_digit+=1\n",
        "  print(f\"Result={odd_digit}\")\n",
        "if __name__==\"__main__\":\n",
        "  main()"
      ],
      "metadata": {
        "colab": {
          "base_uri": "https://localhost:8080/"
        },
        "id": "GvMYM6Qft2YY",
        "outputId": "cfa3af27-5b02-4e03-d84a-4645c328fd6b"
      },
      "execution_count": null,
      "outputs": [
        {
          "output_type": "stream",
          "name": "stdout",
          "text": [
            "enter the number:12345678\n",
            "Result=4\n"
          ]
        }
      ]
    },
    {
      "cell_type": "markdown",
      "source": [
        "# Question-22: Write a program get number from user print the total number of two-digit odd numbers in the number.\n",
        "# Output  :   \n",
        "#Input: 12345678 - Output: 3\n",
        "\n",
        "\n",
        "#Input: 987531 - Output: 4"
      ],
      "metadata": {
        "id": "rYqzd_nturkj"
      }
    },
    {
      "cell_type": "code",
      "source": [
        "def main():\n",
        "  x=int(input(\"Enter the number:\"))\n",
        "  num_str=str(x)\n",
        "  two_digit_count=0\n",
        "  for i in range(len(num_str)-1):\n",
        "    two_digit=int(num_str[i]+num_str[i+1])\n",
        "    if two_digit%2!=0:\n",
        "      two_digit_count+=1\n",
        "  print(f\"Result={two_digit_count}\")\n",
        "\n",
        "if __name__==\"__main__\":\n",
        "  main()\n"
      ],
      "metadata": {
        "colab": {
          "base_uri": "https://localhost:8080/"
        },
        "id": "L_9tEIC6vOFX",
        "outputId": "ab740600-5471-49dd-aab3-1c42e68d04e0"
      },
      "execution_count": null,
      "outputs": [
        {
          "output_type": "stream",
          "name": "stdout",
          "text": [
            "Enter the number:12345678\n",
            "Result=3\n"
          ]
        }
      ]
    },
    {
      "cell_type": "markdown",
      "source": [
        "## Question-23:Write a program get number from user print the total number of single-digit perfect square numbers in the number.\n",
        "# Output :\n",
        "# Input: 123456789 - Output: 3\n",
        "# Input: 987531 - Output: 2"
      ],
      "metadata": {
        "id": "g3JyoDt3wuat"
      }
    },
    {
      "cell_type": "code",
      "source": [
        "def is_perfect(num):\n",
        "  sqrt_num=num**0.5\n",
        "  return sqrt_num*sqrt_num==num\n",
        "\n",
        "def main():\n",
        "  x=int(input(\"Enter the Number:\"))\n",
        "  num_str=str(x)\n",
        "  count=0\n",
        "  for digit in range(len(num_str)-1):\n",
        "    digit=int(digit)\n",
        "    if(is_perfect(digit)):\n",
        "      count+=1\n",
        "  print(f\"Result={count}\")\n",
        "if __name__ == \"__main__\":\n",
        "  main()"
      ],
      "metadata": {
        "colab": {
          "base_uri": "https://localhost:8080/"
        },
        "id": "NgQAIthox7Rz",
        "outputId": "ae3dd0a9-954f-41b7-8104-70938f440617"
      },
      "execution_count": null,
      "outputs": [
        {
          "output_type": "stream",
          "name": "stdout",
          "text": [
            "Enter the Number:12345678\n",
            "Result=3\n"
          ]
        }
      ]
    },
    {
      "cell_type": "markdown",
      "source": [
        "#Question-24: Write a program get number from user print the total number of two-digit perfect square numbers in the number.\n",
        "\n",
        "#Output:\n",
        "#Input: 163496481 - Output: 4\n",
        "# Input: 364925 - Output: 4"
      ],
      "metadata": {
        "id": "ct19cueczQBu"
      }
    },
    {
      "cell_type": "code",
      "source": [
        "def is_perfect(num):\n",
        "  sqrt_num=int(num**0.5)\n",
        "  return sqrt_num*sqrt_num==num\n",
        "\n",
        "def main():\n",
        "  x=int(input(\"Enter the Number:\"))\n",
        "  num_str=str(x)\n",
        "  count=0\n",
        "  for digits in range(len(num_str)-1):\n",
        "    digits=int(num_str[digits]+num_str[digits+1])\n",
        "    if(is_perfect(digits)):\n",
        "      count+=1\n",
        "  print(f\"Result={count}\")\n",
        "if __name__ == \"__main__\":\n",
        "  main()"
      ],
      "metadata": {
        "colab": {
          "base_uri": "https://localhost:8080/"
        },
        "id": "NmCvuRM80c9u",
        "outputId": "2f12748a-2066-41ce-bedf-2bc81e4a4d2b"
      },
      "execution_count": null,
      "outputs": [
        {
          "output_type": "stream",
          "name": "stdout",
          "text": [
            "Enter the Number:163496481\n",
            "Result=4\n"
          ]
        }
      ]
    },
    {
      "cell_type": "markdown",
      "source": [
        "## Question-25:   Write a program get number from user print the total number of single-digit prime numbers in the number.\n",
        "#Output  :\n",
        "#Input: 163496481 - Output: 1\n",
        "#Input: 364925 - Output: 3"
      ],
      "metadata": {
        "id": "qMAlhKcm4V7j"
      }
    },
    {
      "cell_type": "code",
      "source": [
        "def is_prime(number):\n",
        "  if number <=0:\n",
        "    return 0\n",
        "  for i in range(2,int(number**0.5)+1):\n",
        "    if number%i==0:\n",
        "      return 0\n",
        "  return 1\n",
        "\n",
        "def main():\n",
        "  x=int(input(\"Enter the Number:\"))\n",
        "  num_str=str(x)\n",
        "  count=0\n",
        "  for digit in range(len(num_str)-1):\n",
        "    digit=int(digit)\n",
        "    if(is_prime(digit)==1):\n",
        "      count+=1\n",
        "  print(f\"Result={count}\")\n",
        "\n",
        "if __name__ == \"__main__\":\n",
        "  main()"
      ],
      "metadata": {
        "colab": {
          "base_uri": "https://localhost:8080/"
        },
        "id": "36WR8eGj4mqN",
        "outputId": "6377190d-0145-4595-d768-809a19cf6f68"
      },
      "execution_count": null,
      "outputs": [
        {
          "output_type": "stream",
          "name": "stdout",
          "text": [
            "Enter the Number:364925\n",
            "Result=3\n"
          ]
        }
      ]
    },
    {
      "cell_type": "markdown",
      "source": [
        "#Question-26:Write a program to print biggest 4-digit number which is divisible by 7 and 9."
      ],
      "metadata": {
        "id": "15qGqW1HayeR"
      }
    },
    {
      "cell_type": "code",
      "source": [
        "from math import gcd\n",
        "def lcm(x,y):\n",
        "  return abs(x*y)//gcd(x,y)\n",
        "\n",
        "def main():\n",
        "  lcm_7_9=lcm(7,9)\n",
        "  largest_number=(9999//lcm_7_9)*lcm_7_9\n",
        "  print(f\"Result={largest_number}\")\n",
        "\n",
        "if __name__==\"__main__\":\n",
        "  main()"
      ],
      "metadata": {
        "colab": {
          "base_uri": "https://localhost:8080/"
        },
        "id": "Dl_u2UySbIk_",
        "outputId": "a0466bfb-7725-4a26-96ee-c07e75025ffc"
      },
      "execution_count": null,
      "outputs": [
        {
          "output_type": "stream",
          "name": "stdout",
          "text": [
            "Result=9954\n"
          ]
        }
      ]
    },
    {
      "cell_type": "markdown",
      "source": [
        "#Question-27:Write a program to print the total count of numbers which are less than 100000 and whose sum of digits is 14."
      ],
      "metadata": {
        "id": "tPKyrpJtcQHn"
      }
    },
    {
      "cell_type": "code",
      "source": [
        "def add_of_digits(number):\n",
        "    return sum(int(digit) for digit in str(number))\n",
        "\n",
        "def count_numbers_with_digit_sum_14():\n",
        "    count = 0\n",
        "    for number in range(100000):\n",
        "        if add_of_digits(number) == 14:\n",
        "            count += 1\n",
        "    print(\"Total count of numbers whose sum of digits is 14:\", count)\n",
        "\n",
        "def main():\n",
        "    count_numbers_with_digit_sum_14()\n",
        "\n",
        "if __name__ == \"__main__\":\n",
        "    main()"
      ],
      "metadata": {
        "colab": {
          "base_uri": "https://localhost:8080/"
        },
        "id": "TVLNcclEcrc0",
        "outputId": "2f1b35ad-376e-4405-978d-4bded45d44c5"
      },
      "execution_count": null,
      "outputs": [
        {
          "output_type": "stream",
          "name": "stdout",
          "text": [
            "Total count of numbers whose sum of digits is 14: 2710\n"
          ]
        }
      ]
    },
    {
      "cell_type": "markdown",
      "source": [
        "#Question-28:Write a program to get two numbers from user and print the LCM of those numbers."
      ],
      "metadata": {
        "id": "lO4Q2h0sPT_B"
      }
    },
    {
      "cell_type": "code",
      "source": [
        "from math import gcd\n",
        "def lcm(x,y):\n",
        "  return abs(x*y)//gcd(x,y)\n",
        "\n",
        "def main():\n",
        "  x=int(input(\"Enter the number:\"))\n",
        "  y=int(input(\"Enter the number:\"))\n",
        "  lcm_x_y=lcm(x,y)\n",
        "  print(f\"Result={lcm_x_y}\")\n",
        "\n",
        "if __name__==\"__main__\":\n",
        "  main()"
      ],
      "metadata": {
        "colab": {
          "base_uri": "https://localhost:8080/"
        },
        "id": "xSkC1WpQPYkq",
        "outputId": "4ef4c810-f9db-417b-f27d-4f4587e2f476"
      },
      "execution_count": null,
      "outputs": [
        {
          "output_type": "stream",
          "name": "stdout",
          "text": [
            "Enter the number:2\n",
            "Enter the number:3\n",
            "Result=6\n"
          ]
        }
      ]
    },
    {
      "cell_type": "markdown",
      "source": [
        "#Question-29:       Write a program to get three numbers from user and print the LCM of those numbers."
      ],
      "metadata": {
        "id": "jLahhecjQHVj"
      }
    },
    {
      "cell_type": "code",
      "source": [
        "from ast import YieldFrom\n",
        "from math import gcd\n",
        "def lcm(x,y):\n",
        "  return abs(x*y)//gcd(x,y)\n",
        "\n",
        "def lcm_of_three(a,b,c):\n",
        "  return lcm(lcm(a,b),c)\n",
        "\n",
        "def main():\n",
        "  x=int(input(\"Enter the number:\"))\n",
        "  y=int(input(\"Enter the number:\"))\n",
        "  z=int(input(\"Enter the number:\"))\n",
        "  lcm_x_y_z=lcm_of_three(x,y,z)\n",
        "  print(f\"Result={lcm_x_y_z}\")\n",
        "\n",
        "if __name__==\"__main__\":\n",
        "  main()"
      ],
      "metadata": {
        "colab": {
          "base_uri": "https://localhost:8080/"
        },
        "id": "uu_tZRKXQi3u",
        "outputId": "27138f49-7e47-4f1c-b9e2-d04b7342ec38"
      },
      "execution_count": null,
      "outputs": [
        {
          "output_type": "stream",
          "name": "stdout",
          "text": [
            "Enter the number:1\n",
            "Enter the number:2\n",
            "Enter the number:3\n",
            "Result=6\n"
          ]
        }
      ]
    },
    {
      "cell_type": "markdown",
      "source": [
        "## Question -30:Write a program to get two numbers from user and print the HCF of those numbers."
      ],
      "metadata": {
        "id": "uQSTdM19RW-1"
      }
    },
    {
      "cell_type": "code",
      "source": [
        "from math import gcd\n",
        "def main():\n",
        "   x=int(input(\"Enter the number:\"))\n",
        "   y=int(input(\"Enter the number:\"))\n",
        "   hcf=gcd(x,y)\n",
        "   print(f\"Result={hcf}\")\n",
        "\n",
        "if __name__==\"__main__\":\n",
        "  main()"
      ],
      "metadata": {
        "colab": {
          "base_uri": "https://localhost:8080/"
        },
        "id": "66eRSdhORh1s",
        "outputId": "7bf18666-1788-413a-83f1-0aa798338d35"
      },
      "execution_count": null,
      "outputs": [
        {
          "output_type": "stream",
          "name": "stdout",
          "text": [
            "Enter the number:2\n",
            "Enter the number:3\n",
            "Result=1\n"
          ]
        }
      ]
    },
    {
      "cell_type": "markdown",
      "source": [
        "##**LEVEL-4**"
      ],
      "metadata": {
        "id": "39eXZ6RNSIlX"
      }
    },
    {
      "cell_type": "markdown",
      "source": [
        "##Question-1: Get a Two-digit number from user and print the digit in “Ones” position\n",
        "#Output  :     \n",
        "\n",
        "#User Enters “78”\n",
        "#Answer - 8"
      ],
      "metadata": {
        "id": "9O55n31-Tdia"
      }
    },
    {
      "cell_type": "code",
      "source": [
        "def main():\n",
        "    x = int(input(\"Enter Number: \"))\n",
        "    y=x%10\n",
        "    print(f\"Result = {y}\")\n",
        "if __name__ == \"__main__\":\n",
        "    main()"
      ],
      "metadata": {
        "colab": {
          "base_uri": "https://localhost:8080/"
        },
        "id": "yRANuTQLTcB1",
        "outputId": "d2433a7f-9275-4bb8-e97b-3a4e1f0ff29e"
      },
      "execution_count": null,
      "outputs": [
        {
          "output_type": "stream",
          "name": "stdout",
          "text": [
            "Enter Number: 78\n",
            "Result = 8\n"
          ]
        }
      ]
    },
    {
      "cell_type": "markdown",
      "source": [
        "##Question-2: Get a Two digit number from user and print the digit in “Tens” position\n",
        "##Output  :     \n",
        "##User Enters “78”\n",
        "##Answer - 7"
      ],
      "metadata": {
        "id": "gTamOrWfSeyK"
      }
    },
    {
      "cell_type": "code",
      "source": [
        "def main():\n",
        "    x = int(input(\"Enter Number: \"))\n",
        "    y=x//10\n",
        "    print(f\"Result = {y}\")\n",
        "if __name__ == \"__main__\":\n",
        "    main()"
      ],
      "metadata": {
        "colab": {
          "base_uri": "https://localhost:8080/"
        },
        "id": "xxPQJ-YlSPAC",
        "outputId": "34d6ec10-35ba-4e89-881e-48accc73350c"
      },
      "execution_count": null,
      "outputs": [
        {
          "output_type": "stream",
          "name": "stdout",
          "text": [
            "Enter Number: 78\n",
            "Result = 7\n"
          ]
        }
      ]
    },
    {
      "cell_type": "markdown",
      "source": [
        "##Question-3:Get a Three digit number from user and print the digit in “Ones” position\n",
        "\n",
        "#Output  :     \n",
        "#User Enters “738”\n",
        "#Answer - 8"
      ],
      "metadata": {
        "id": "zM2wS9d6SzXY"
      }
    },
    {
      "cell_type": "code",
      "source": [
        "def main():\n",
        "    x = int(input(\"Enter Number: \"))\n",
        "    y=x%10\n",
        "    print(f\"Result = {y}\")\n",
        "if __name__ == \"__main__\":\n",
        "    main()"
      ],
      "metadata": {
        "colab": {
          "base_uri": "https://localhost:8080/"
        },
        "id": "15fMW72STA2o",
        "outputId": "a91348ed-dd16-412d-9065-eae962832e36"
      },
      "execution_count": null,
      "outputs": [
        {
          "output_type": "stream",
          "name": "stdout",
          "text": [
            "Enter Number: 738\n",
            "Result = 8\n"
          ]
        }
      ]
    },
    {
      "cell_type": "markdown",
      "source": [
        "#Question-4:Get a Three digit number from user and print the digit in “Tens” position\n",
        "#Output  :     \n",
        "#User Enters “738”\n",
        "#Answer - 3"
      ],
      "metadata": {
        "id": "YsCt3gZCTLt5"
      }
    },
    {
      "cell_type": "code",
      "source": [
        "def main():\n",
        "    x = int(input(\"Enter Number: \"))\n",
        "    y=(x//10)%10\n",
        "    print(f\"Result = {y}\")\n",
        "if __name__ == \"__main__\":\n",
        "    main()"
      ],
      "metadata": {
        "colab": {
          "base_uri": "https://localhost:8080/"
        },
        "id": "MkQ7KWx9UFSc",
        "outputId": "0bcbb7bc-b4b0-4aa8-d8e7-bceeb6f3c070"
      },
      "execution_count": null,
      "outputs": [
        {
          "output_type": "stream",
          "name": "stdout",
          "text": [
            "Enter Number: 738\n",
            "Result = 3\n"
          ]
        }
      ]
    },
    {
      "cell_type": "markdown",
      "source": [
        "#Question-5:Get a Three digit number from user and print the digit in “Hundreds” position\n",
        "#Output  :     \n",
        "#User Enters “738”\n",
        "#Answer - 7"
      ],
      "metadata": {
        "id": "flV1USbAUw6a"
      }
    },
    {
      "cell_type": "code",
      "source": [
        "def main():\n",
        "    x = int(input(\"Enter Number: \"))\n",
        "    y=x//100\n",
        "    print(f\"Result = {y}\")\n",
        "if __name__ == \"__main__\":\n",
        "    main()"
      ],
      "metadata": {
        "colab": {
          "base_uri": "https://localhost:8080/"
        },
        "id": "3o70lNOGU9Z3",
        "outputId": "3da33b78-e03f-4329-e8e6-b9fc262d2f35"
      },
      "execution_count": null,
      "outputs": [
        {
          "output_type": "stream",
          "name": "stdout",
          "text": [
            "Enter Number: 738\n",
            "Result = 7\n"
          ]
        }
      ]
    },
    {
      "cell_type": "markdown",
      "source": [
        "#Question-6:Get a Two digit number from the user and print the reverse of it.\n",
        "#Output  :     \n",
        "#User Enters “73”\n",
        "#Answer - 37"
      ],
      "metadata": {
        "id": "F3IdvQkWVL9i"
      }
    },
    {
      "cell_type": "code",
      "source": [
        "def main():\n",
        "    x = int(input(\"Enter Number: \"))\n",
        "    y=0\n",
        "    while(x>0):\n",
        "      mod=x%10\n",
        "      y=y*10+mod\n",
        "      x=x//10\n",
        "    print(f\"Result = {y}\")\n",
        "if __name__ == \"__main__\":\n",
        "    main()"
      ],
      "metadata": {
        "colab": {
          "base_uri": "https://localhost:8080/"
        },
        "id": "j067XpyxVXbW",
        "outputId": "fd9c3dfe-3164-41c7-d713-52b689fbe7b8"
      },
      "execution_count": null,
      "outputs": [
        {
          "output_type": "stream",
          "name": "stdout",
          "text": [
            "Enter Number: 73\n",
            "Result = 37\n"
          ]
        }
      ]
    },
    {
      "cell_type": "markdown",
      "source": [
        "#Question-7: Get a Three digit number from the user and print the reverse of it.\n",
        "#Output  :     \n",
        "#User Enters “738”\n",
        "#Answer “837”"
      ],
      "metadata": {
        "id": "nnQBzqZhVqqz"
      }
    },
    {
      "cell_type": "code",
      "source": [
        "def main():\n",
        "    x = int(input(\"Enter Number: \"))\n",
        "    y=0\n",
        "    while(x>0):\n",
        "      mod=x%10\n",
        "      y=y*10+mod\n",
        "      x=x//10\n",
        "    print(f\"Result = {y}\")\n",
        "if __name__ == \"__main__\":\n",
        "    main()"
      ],
      "metadata": {
        "colab": {
          "base_uri": "https://localhost:8080/"
        },
        "id": "lpuJiBM2VyR5",
        "outputId": "8d6649f3-4beb-4df0-b5a4-6eec24f9ab03"
      },
      "execution_count": null,
      "outputs": [
        {
          "output_type": "stream",
          "name": "stdout",
          "text": [
            "Enter Number: 738\n",
            "Result = 837\n"
          ]
        }
      ]
    },
    {
      "cell_type": "markdown",
      "source": [
        "#Question-8:Get a Four digit number from the user and print the reverse of it.\n",
        "#Output  :     \n",
        "#User Enters “7384”\n",
        "#Answer “4837”"
      ],
      "metadata": {
        "id": "OU6HZ-iZV4wL"
      }
    },
    {
      "cell_type": "code",
      "source": [
        "def main():\n",
        "    x = int(input(\"Enter Number: \"))\n",
        "    y=0\n",
        "    while(x>0):\n",
        "      mod=x%10\n",
        "      y=y*10+mod\n",
        "      x=x//10\n",
        "    print(f\"Result = {y}\")\n",
        "if __name__ == \"__main__\":\n",
        "    main()"
      ],
      "metadata": {
        "colab": {
          "base_uri": "https://localhost:8080/"
        },
        "id": "AngCvWHqV_T5",
        "outputId": "6fb230b4-67dd-4c9f-e21c-43e693afd20a"
      },
      "execution_count": null,
      "outputs": [
        {
          "output_type": "stream",
          "name": "stdout",
          "text": [
            "Enter Number: 7384\n",
            "Result = 4837\n"
          ]
        }
      ]
    },
    {
      "cell_type": "markdown",
      "source": [
        "#Question-9: Get a Two digit number from the user and print the sum of all digits.\n",
        "#Output  :     \n",
        "#User Enters “78”\n",
        "#Ans : 15"
      ],
      "metadata": {
        "id": "6qP3wdOcWLWF"
      }
    },
    {
      "cell_type": "code",
      "source": [
        "def main():\n",
        "    x = int(input(\"Enter Number: \"))\n",
        "    y=(x//10)+(x%10)\n",
        "    print(f\"Result = {y}\")\n",
        "if __name__ == \"__main__\":\n",
        "    main()"
      ],
      "metadata": {
        "colab": {
          "base_uri": "https://localhost:8080/"
        },
        "id": "OGPZheJqWUbD",
        "outputId": "ccd08eb5-04b7-4199-91e7-e9d1645274b2"
      },
      "execution_count": null,
      "outputs": [
        {
          "output_type": "stream",
          "name": "stdout",
          "text": [
            "Enter Number: 78\n",
            "Result = 15\n"
          ]
        }
      ]
    },
    {
      "cell_type": "markdown",
      "source": [
        "#Question-10:Get a Three digit number from the user and print the sum of all digits.\n",
        "#Output  :     \n",
        "#User Enters “738”\n",
        "#Answer - 18"
      ],
      "metadata": {
        "id": "QcIJ1BBXWf19"
      }
    },
    {
      "cell_type": "code",
      "source": [
        "def main():\n",
        "    x = int(input(\"Enter Number: \"))\n",
        "    y=(x//100)+(x//10)%10+(x%10)\n",
        "    print(f\"Result = {y}\")\n",
        "if __name__ == \"__main__\":\n",
        "    main()"
      ],
      "metadata": {
        "colab": {
          "base_uri": "https://localhost:8080/"
        },
        "id": "o8f_ulPHWt0l",
        "outputId": "2ba2cd48-dbe0-42f4-a3ee-65db4855951c"
      },
      "execution_count": null,
      "outputs": [
        {
          "output_type": "stream",
          "name": "stdout",
          "text": [
            "Enter Number: 738\n",
            "Result = 18\n"
          ]
        }
      ]
    },
    {
      "cell_type": "markdown",
      "source": [
        "#Question-11:Get a Four digit number from the user and print the sum of all digits.\n",
        "#Output  :     \n",
        "#User Enters “7638”\n",
        "#Answer - 24"
      ],
      "metadata": {
        "id": "2Y-GGUWUW7kZ"
      }
    },
    {
      "cell_type": "code",
      "source": [
        "def main():\n",
        "    x = int(input(\"Enter Number: \"))\n",
        "    y=(x//1000)+(x//100)%10+(x//10)%10+(x%10)\n",
        "    print(f\"Result = {y}\")\n",
        "if __name__ == \"__main__\":\n",
        "    main()"
      ],
      "metadata": {
        "colab": {
          "base_uri": "https://localhost:8080/"
        },
        "id": "betGSayzXOZG",
        "outputId": "897c8c7a-1c8c-46f2-f97f-ce3c81acfe77"
      },
      "execution_count": null,
      "outputs": [
        {
          "output_type": "stream",
          "name": "stdout",
          "text": [
            "Enter Number: 7638\n",
            "Result = 24\n"
          ]
        }
      ]
    },
    {
      "cell_type": "markdown",
      "source": [
        "#Question-12:Get a number from the user and print the reverse of it.\n",
        "#Output  :     \n",
        "#User Enters “123456”\n",
        "#Answer “654321”"
      ],
      "metadata": {
        "id": "NnT2ucG7XmQI"
      }
    },
    {
      "cell_type": "code",
      "source": [
        "def main():\n",
        "    x = int(input(\"Enter Number: \"))\n",
        "    y=0\n",
        "    while(x>0):\n",
        "      mod=x%10\n",
        "      y=y*10+mod\n",
        "      x=x//10\n",
        "    print(f\"Result = {y}\")\n",
        "if __name__ == \"__main__\":\n",
        "    main()"
      ],
      "metadata": {
        "colab": {
          "base_uri": "https://localhost:8080/"
        },
        "id": "2Zv3HPPOXyP4",
        "outputId": "d43891d3-c445-43db-ceb4-dc45c7aa31d7"
      },
      "execution_count": null,
      "outputs": [
        {
          "output_type": "stream",
          "name": "stdout",
          "text": [
            "Enter Number: 123456\n",
            "Result = 654321\n"
          ]
        }
      ]
    },
    {
      "cell_type": "markdown",
      "source": [
        "#Question-13: Get a number from the user and print the sum of all digits.\n",
        "#Output  :     \n",
        "#User Enters “123456”\n",
        "#Answer - 21"
      ],
      "metadata": {
        "id": "mh6_NoaAX8Xe"
      }
    },
    {
      "cell_type": "code",
      "source": [
        "def main():\n",
        "    x = int(input(\"Enter Number: \"))\n",
        "    y=0\n",
        "    while(x>0):\n",
        "      mod=x%10\n",
        "      y=y+mod\n",
        "      x=x//10\n",
        "    print(f\"Result = {y}\")\n",
        "if __name__ == \"__main__\":\n",
        "    main()"
      ],
      "metadata": {
        "colab": {
          "base_uri": "https://localhost:8080/"
        },
        "id": "jCoZh4koYKIj",
        "outputId": "3a56bf19-ef14-4c27-d763-fd28e9543caa"
      },
      "execution_count": null,
      "outputs": [
        {
          "output_type": "stream",
          "name": "stdout",
          "text": [
            "Enter Number: 123456\n",
            "Result = 21\n"
          ]
        }
      ]
    },
    {
      "cell_type": "markdown",
      "source": [
        "#Question-14:Write a program to print the total number of single digit odd numbers.\n",
        "#Output  :     \n",
        "#Answer - 5"
      ],
      "metadata": {
        "id": "pyxkFvC1YoKe"
      }
    },
    {
      "cell_type": "code",
      "source": [
        "def main():\n",
        "    y=0\n",
        "    for i in range(1,10):\n",
        "      if(i%2!=0):\n",
        "        y+=1\n",
        "    print(f\"Result = {y}\")\n",
        "if __name__ == \"__main__\":\n",
        "    main()"
      ],
      "metadata": {
        "colab": {
          "base_uri": "https://localhost:8080/"
        },
        "id": "iXIO-FFXY1rk",
        "outputId": "b4158480-e5b3-4d4f-afe0-be177aac97ef"
      },
      "execution_count": null,
      "outputs": [
        {
          "output_type": "stream",
          "name": "stdout",
          "text": [
            "Result = 5\n"
          ]
        }
      ]
    },
    {
      "cell_type": "markdown",
      "source": [
        "#Question-15:Write a program to print the total number of TWO digit odd numbers.\n",
        "#Output  :     \n",
        "#45"
      ],
      "metadata": {
        "id": "Xw3WqQxnZThH"
      }
    },
    {
      "cell_type": "code",
      "source": [
        "def main():\n",
        "    y=0\n",
        "    for i in range(10,100):\n",
        "      if(i%2!=0):\n",
        "        y+=1\n",
        "    print(f\"Result = {y}\")\n",
        "if __name__ == \"__main__\":\n",
        "    main()"
      ],
      "metadata": {
        "colab": {
          "base_uri": "https://localhost:8080/"
        },
        "id": "OMppxEoOZe6y",
        "outputId": "4c5c418b-5d02-4843-fc58-63fdb247e78e"
      },
      "execution_count": null,
      "outputs": [
        {
          "output_type": "stream",
          "name": "stdout",
          "text": [
            "Result = 45\n"
          ]
        }
      ]
    },
    {
      "cell_type": "markdown",
      "source": [
        "#Question-16:write a program to print the total number of THREE digit odd numbers\n",
        "#Output  :     \n",
        "#450"
      ],
      "metadata": {
        "id": "cjcA2TMbaOJc"
      }
    },
    {
      "cell_type": "code",
      "source": [
        "def main():\n",
        "    y=0\n",
        "    for i in range(100,1000):\n",
        "      if(i%2!=0):\n",
        "        y+=1\n",
        "    print(f\"Result = {y}\")\n",
        "if __name__ == \"__main__\":\n",
        "    main()"
      ],
      "metadata": {
        "colab": {
          "base_uri": "https://localhost:8080/"
        },
        "id": "JTcET-BxaM9V",
        "outputId": "37cf5f83-c40b-40aa-8786-f25787e55916"
      },
      "execution_count": null,
      "outputs": [
        {
          "output_type": "stream",
          "name": "stdout",
          "text": [
            "Result = 450\n"
          ]
        }
      ]
    },
    {
      "cell_type": "markdown",
      "source": [
        "#Question-17:Write a program to print the sum of all single digit odd numbers.\n",
        "#Output  :     \n",
        "#25"
      ],
      "metadata": {
        "id": "B2bLOJ2vaawr"
      }
    },
    {
      "cell_type": "code",
      "source": [
        "def main():\n",
        "    y=0\n",
        "    for i in range(1,10):\n",
        "      if(i%2!=0):\n",
        "        y+=i\n",
        "    print(f\"Result = {y}\")\n",
        "if __name__ == \"__main__\":\n",
        "    main()"
      ],
      "metadata": {
        "colab": {
          "base_uri": "https://localhost:8080/"
        },
        "id": "allsJtI8ai9E",
        "outputId": "66d8ac36-3fda-4a54-c2bd-7e93901d60fd"
      },
      "execution_count": null,
      "outputs": [
        {
          "output_type": "stream",
          "name": "stdout",
          "text": [
            "Result = 25\n"
          ]
        }
      ]
    },
    {
      "cell_type": "markdown",
      "source": [
        "#Question-18:Write a program to print the sum of all TWO digit odd numbers.\n",
        "#Output  :     \n",
        "#Answer : 2475"
      ],
      "metadata": {
        "id": "3gkoFJZaaxib"
      }
    },
    {
      "cell_type": "code",
      "source": [
        "def main():\n",
        "    y=0\n",
        "    for i in range(10,100):\n",
        "      if(i%2!=0):\n",
        "        y+=i\n",
        "    print(f\"Result = {y}\")\n",
        "if __name__ == \"__main__\":\n",
        "    main()"
      ],
      "metadata": {
        "colab": {
          "base_uri": "https://localhost:8080/"
        },
        "id": "JwntQDJfa3Yl",
        "outputId": "b2166f6c-bee8-454b-de88-67744cc34ac9"
      },
      "execution_count": null,
      "outputs": [
        {
          "output_type": "stream",
          "name": "stdout",
          "text": [
            "Result = 2475\n"
          ]
        }
      ]
    },
    {
      "cell_type": "markdown",
      "source": [
        "#Question-19: Write a program to print the sum of all THREE digit odd numbers.\n",
        "#Output  :     \n",
        "#Answer : 247500"
      ],
      "metadata": {
        "id": "HQpUy5QAa_94"
      }
    },
    {
      "cell_type": "code",
      "source": [
        "def main():\n",
        "    y=0\n",
        "    for i in range(100,1000):\n",
        "      if(i%2!=0):\n",
        "        y+=i\n",
        "    print(f\"Result = {y}\")\n",
        "if __name__ == \"__main__\":\n",
        "    main()"
      ],
      "metadata": {
        "colab": {
          "base_uri": "https://localhost:8080/"
        },
        "id": "vunXQehObHYH",
        "outputId": "2f042b58-c120-43d6-adf3-c083ac244d65"
      },
      "execution_count": null,
      "outputs": [
        {
          "output_type": "stream",
          "name": "stdout",
          "text": [
            "Result = 247500\n"
          ]
        }
      ]
    },
    {
      "cell_type": "markdown",
      "source": [
        "#Question-20:Write a program to print the total number of single digit Prime numbers Assume 0 & 1 are not Prime.\n",
        "#Output  :     \n",
        "#4"
      ],
      "metadata": {
        "id": "ddOc0m-cbPAJ"
      }
    },
    {
      "cell_type": "code",
      "source": [
        "def main():\n",
        "    y=0\n",
        "    for i in range(10):\n",
        "      if i<2:\n",
        "        continue\n",
        "      is_prime=True\n",
        "      for j in range(2,int(i**0.5)+1):\n",
        "        if(i%j==0):\n",
        "          is_prime=False\n",
        "          break\n",
        "      if is_prime:\n",
        "        y+=1\n",
        "    print(f\"Result = {y}\")\n",
        "if __name__ == \"__main__\":\n",
        "    main()"
      ],
      "metadata": {
        "colab": {
          "base_uri": "https://localhost:8080/"
        },
        "id": "phJxS8jpbbWF",
        "outputId": "8d58d113-c925-438c-8d8d-d98e14fc28fa"
      },
      "execution_count": null,
      "outputs": [
        {
          "output_type": "stream",
          "name": "stdout",
          "text": [
            "Result = 4\n"
          ]
        }
      ]
    },
    {
      "cell_type": "markdown",
      "source": [
        "#Question-21: Write a program to print the total number of TWO digit Prime numbers.\n",
        "#Output  :     \n",
        "#21"
      ],
      "metadata": {
        "id": "XWfY4z00c3hR"
      }
    },
    {
      "cell_type": "code",
      "source": [
        "def main():\n",
        "    y=0\n",
        "    for i in range(10,100):\n",
        "      if i<2:\n",
        "        continue\n",
        "      is_prime=True\n",
        "      for j in range(2,int(i**0.5)+1):\n",
        "        if(i%j==0):\n",
        "          is_prime=False\n",
        "          break\n",
        "      if is_prime:\n",
        "        y+=1\n",
        "    print(f\"Result = {y}\")\n",
        "if __name__ == \"__main__\":\n",
        "    main()"
      ],
      "metadata": {
        "colab": {
          "base_uri": "https://localhost:8080/"
        },
        "id": "pnCpPt4bdEbV",
        "outputId": "a3dba32b-4550-4437-acf6-33eae72bbfd3"
      },
      "execution_count": null,
      "outputs": [
        {
          "output_type": "stream",
          "name": "stdout",
          "text": [
            "Result = 21\n"
          ]
        }
      ]
    },
    {
      "cell_type": "markdown",
      "source": [
        "#Question-22:Write a program to print total number of THREE digit Prime numbers.\n",
        "#Output  :     \n",
        "#Answer - 143"
      ],
      "metadata": {
        "id": "ga1pqVcadJmY"
      }
    },
    {
      "cell_type": "code",
      "source": [
        "def main():\n",
        "    y=0\n",
        "    for i in range(100,1000):\n",
        "      if i<2:\n",
        "        continue\n",
        "      is_prime=True\n",
        "      for j in range(2,int(i**0.5)+1):\n",
        "        if(i%j==0):\n",
        "          is_prime=False\n",
        "          break\n",
        "      if is_prime:\n",
        "        y+=1\n",
        "    print(f\"Result = {y}\")\n",
        "if __name__ == \"__main__\":\n",
        "    main()"
      ],
      "metadata": {
        "colab": {
          "base_uri": "https://localhost:8080/"
        },
        "id": "mVmueMkadTKZ",
        "outputId": "be64dd1d-5a22-4480-c987-c38251c4c3ad"
      },
      "execution_count": null,
      "outputs": [
        {
          "output_type": "stream",
          "name": "stdout",
          "text": [
            "Result = 143\n"
          ]
        }
      ]
    },
    {
      "cell_type": "markdown",
      "source": [
        "#Question-23:Write a program to print the sum of single digit Prime numbers.\n",
        "#Output  :     \n",
        "#Answer: 18"
      ],
      "metadata": {
        "id": "K9gH8_zbdYS5"
      }
    },
    {
      "cell_type": "code",
      "source": [
        "def main():\n",
        "    y=0\n",
        "    for i in range(1,10):\n",
        "      if i<2:\n",
        "        continue\n",
        "      is_prime=True\n",
        "      for j in range(2,int(i**0.5)+1):\n",
        "        if(i%j==0):\n",
        "          is_prime=False\n",
        "          break\n",
        "      if is_prime:\n",
        "        y+=i\n",
        "    print(f\"Result = {y}\")\n",
        "if __name__ == \"__main__\":\n",
        "    main()"
      ],
      "metadata": {
        "colab": {
          "base_uri": "https://localhost:8080/"
        },
        "id": "sfMJ8EHDdgdT",
        "outputId": "28d52d3e-8d20-493c-b0ca-a87f89cd872e"
      },
      "execution_count": null,
      "outputs": [
        {
          "output_type": "stream",
          "name": "stdout",
          "text": [
            "Result = 17\n"
          ]
        }
      ]
    },
    {
      "cell_type": "markdown",
      "source": [
        "#Question-24:Program to print the sum of all TWO digit Prime numbers\n",
        "#Output  :     \n",
        "#Answer: 1043"
      ],
      "metadata": {
        "id": "LTNhbG3Xd6aW"
      }
    },
    {
      "cell_type": "code",
      "source": [
        "def main():\n",
        "    y=0\n",
        "    for i in range(10,100):\n",
        "      if i<2:\n",
        "        continue\n",
        "      is_prime=True\n",
        "      for j in range(2,int(i**0.5)+1):\n",
        "        if(i%j==0):\n",
        "          is_prime=False\n",
        "          break\n",
        "      if is_prime:\n",
        "        y+=i\n",
        "    print(f\"Result = {y}\")\n",
        "if __name__ == \"__main__\":\n",
        "    main()"
      ],
      "metadata": {
        "colab": {
          "base_uri": "https://localhost:8080/"
        },
        "id": "SxPoYr9DeAF9",
        "outputId": "3c78b003-6acf-4548-8097-849689b46874"
      },
      "execution_count": null,
      "outputs": [
        {
          "output_type": "stream",
          "name": "stdout",
          "text": [
            "Result = 1043\n"
          ]
        }
      ]
    },
    {
      "cell_type": "markdown",
      "source": [
        "#Question-25: Program to Print the sum of all THREE digit Prime numbers.\n",
        "#Output  :     \n",
        "#Answer : 75067"
      ],
      "metadata": {
        "id": "VsBiEHqjeHsq"
      }
    },
    {
      "cell_type": "code",
      "source": [
        "def main():\n",
        "    y=0\n",
        "    for i in range(100,1000):\n",
        "      if i<2:\n",
        "        continue\n",
        "      is_prime=True\n",
        "      for j in range(2,int(i**0.5)+1):\n",
        "        if(i%j==0):\n",
        "          is_prime=False\n",
        "          break\n",
        "      if is_prime:\n",
        "        y+=i\n",
        "    print(f\"Result = {y}\")\n",
        "if __name__ == \"__main__\":\n",
        "    main()"
      ],
      "metadata": {
        "colab": {
          "base_uri": "https://localhost:8080/"
        },
        "id": "G-CpS1uaeNMa",
        "outputId": "c53a55df-9bbe-4153-e0b3-e6d072a3e78d"
      },
      "execution_count": null,
      "outputs": [
        {
          "output_type": "stream",
          "name": "stdout",
          "text": [
            "Result = 75067\n"
          ]
        }
      ]
    },
    {
      "cell_type": "markdown",
      "source": [
        "#Question-26:Print the smallest Three digit prime number\n",
        "#Output  :     \n",
        "#Answer: 101"
      ],
      "metadata": {
        "id": "C7uCAYwweWJp"
      }
    },
    {
      "cell_type": "code",
      "source": [
        "def is_prime(n):\n",
        "  if n<2:\n",
        "    return False\n",
        "  for i in range(2,int(n**0.5)+1):\n",
        "    if(n%i==0):\n",
        "      return False\n",
        "  return True\n",
        "\n",
        "def main():\n",
        "    y=0\n",
        "    for i in range(100,1000):\n",
        "      if is_prime(i):\n",
        "        print(f\"Result = {i}\")\n",
        "        break\n",
        "if __name__ == \"__main__\":\n",
        "    main()"
      ],
      "metadata": {
        "colab": {
          "base_uri": "https://localhost:8080/"
        },
        "id": "zBNiBXREedsq",
        "outputId": "82c7b4cb-6e1b-4cf7-f621-68e5cbdd92f7"
      },
      "execution_count": null,
      "outputs": [
        {
          "output_type": "stream",
          "name": "stdout",
          "text": [
            "Result = 101\n"
          ]
        }
      ]
    },
    {
      "cell_type": "markdown",
      "source": [
        "#Question-27:Print the largest Three digit prime number\n",
        "#Output  :     \n",
        "#Answer: 997"
      ],
      "metadata": {
        "id": "RuJc6Owsfsmm"
      }
    },
    {
      "cell_type": "code",
      "source": [
        "def is_prime(n):\n",
        "  if n<2:\n",
        "    return False\n",
        "  for i in range(2,int(n**0.5)+1):\n",
        "    if(n%i==0):\n",
        "      return False\n",
        "  return True\n",
        "\n",
        "def main():\n",
        "    y=0\n",
        "    for i in range(999,99,-1):\n",
        "      if is_prime(i):\n",
        "        print(f\"Result = {i}\")\n",
        "        break\n",
        "if __name__ == \"__main__\":\n",
        "    main()"
      ],
      "metadata": {
        "colab": {
          "base_uri": "https://localhost:8080/"
        },
        "id": "4dpkjQ2Yf2aL",
        "outputId": "c627e932-73e4-41be-8648-fd25e362d401"
      },
      "execution_count": null,
      "outputs": [
        {
          "output_type": "stream",
          "name": "stdout",
          "text": [
            "Result = 997\n"
          ]
        }
      ]
    },
    {
      "cell_type": "markdown",
      "source": [
        "#Question-28:Print the Smallest Four digit prime number\n",
        "#Output  :     \n",
        "#Answer: 1009"
      ],
      "metadata": {
        "id": "h9mzhuO_gP80"
      }
    },
    {
      "cell_type": "code",
      "source": [
        "def is_prime(n):\n",
        "  if n<2:\n",
        "    return False\n",
        "  for i in range(2,int(n**0.5)+1):\n",
        "    if(n%i==0):\n",
        "      return False\n",
        "  return True\n",
        "\n",
        "def main():\n",
        "    y=0\n",
        "    for i in range(1000,10000):\n",
        "      if is_prime(i):\n",
        "        print(f\"Result = {i}\")\n",
        "        break\n",
        "if __name__ == \"__main__\":\n",
        "    main()"
      ],
      "metadata": {
        "colab": {
          "base_uri": "https://localhost:8080/"
        },
        "id": "Vn4ICtzRgaml",
        "outputId": "17dd7eb0-35a6-4fb0-86e0-db4b2a79f99b"
      },
      "execution_count": null,
      "outputs": [
        {
          "output_type": "stream",
          "name": "stdout",
          "text": [
            "Result = 1009\n"
          ]
        }
      ]
    },
    {
      "cell_type": "markdown",
      "source": [
        "#Question-29:Print the Largest Four digit prime number.\n",
        "#Output  :     \n",
        "#Answer: 9973"
      ],
      "metadata": {
        "id": "rHLslgcIglBj"
      }
    },
    {
      "cell_type": "code",
      "source": [
        "def is_prime(n):\n",
        "  if n<2:\n",
        "    return False\n",
        "  for i in range(2,int(n**0.5)+1):\n",
        "    if(n%i==0):\n",
        "      return False\n",
        "  return True\n",
        "\n",
        "def main():\n",
        "    y=0\n",
        "    for i in range(9999,999,-1):\n",
        "      if is_prime(i):\n",
        "        print(f\"Result = {i}\")\n",
        "        break\n",
        "if __name__ == \"__main__\":\n",
        "    main()"
      ],
      "metadata": {
        "colab": {
          "base_uri": "https://localhost:8080/"
        },
        "id": "9vaw6SeFguZ_",
        "outputId": "28685181-8939-4cf0-bbda-07ae1727dc35"
      },
      "execution_count": null,
      "outputs": [
        {
          "output_type": "stream",
          "name": "stdout",
          "text": [
            "Result = 9973\n"
          ]
        }
      ]
    },
    {
      "cell_type": "markdown",
      "source": [
        "#Question-30:Print the Largest eight-digit prime number\n",
        "#Output  :     \n",
        "#Answer: 99999989"
      ],
      "metadata": {
        "id": "f7hIAw1MhCI1"
      }
    },
    {
      "cell_type": "code",
      "source": [
        "def is_prime(n):\n",
        "  if n<2:\n",
        "    return False\n",
        "  for i in range(2,int(n**0.5)+1):\n",
        "    if(n%i==0):\n",
        "      return False\n",
        "  return True\n",
        "\n",
        "def main():\n",
        "    y=0\n",
        "    for i in range(99999999,9999999,-1):\n",
        "      if is_prime(i):\n",
        "        print(f\"Result = {i}\")\n",
        "        break\n",
        "if __name__ == \"__main__\":\n",
        "    main()"
      ],
      "metadata": {
        "colab": {
          "base_uri": "https://localhost:8080/"
        },
        "id": "0DiKbjaVhgt9",
        "outputId": "ee6c8eb9-8802-408a-82b5-7eb8764848b1"
      },
      "execution_count": null,
      "outputs": [
        {
          "output_type": "stream",
          "name": "stdout",
          "text": [
            "Result = 99999989\n"
          ]
        }
      ]
    },
    {
      "cell_type": "markdown",
      "source": [
        "#Question-31:Print the number of zeroes you encounter between the numbers 0 to 1000"
      ],
      "metadata": {
        "id": "g-tYFSdEh0Il"
      }
    },
    {
      "cell_type": "code",
      "source": [
        "def main():\n",
        "  y=0\n",
        "  for i in range(1001):\n",
        "    y+=str(i).count('0')\n",
        "  print(f\"Result={y}\")\n",
        "\n",
        "if __name__==\"__main__\":\n",
        "  main()"
      ],
      "metadata": {
        "colab": {
          "base_uri": "https://localhost:8080/"
        },
        "id": "ltdiMLxniEvO",
        "outputId": "1aeb6bd9-f039-48da-9950-75228077049a"
      },
      "execution_count": null,
      "outputs": [
        {
          "output_type": "stream",
          "name": "stdout",
          "text": [
            "Result=193\n"
          ]
        }
      ]
    },
    {
      "cell_type": "markdown",
      "source": [
        "#Question-32:Total number of prime numbers below 1,000,000 have the sum of\n",
        "#their digits equal to 14?\n",
        "#Output  :     \n",
        "#Example: 59. 5 + 9 = 14"
      ],
      "metadata": {
        "id": "MS7u5b04iuhs"
      }
    },
    {
      "cell_type": "code",
      "source": [
        "def is_prime(n):\n",
        "  if n<2:\n",
        "    return False\n",
        "  for i in range(2,int(n**0.5)+1):\n",
        "    if(n%i==0):\n",
        "      return False\n",
        "  return True\n",
        "\n",
        "def main():\n",
        "  for  i in range(1000000):\n",
        "    if is_prime(i) and sum(map(int,str(i)))==14:\n",
        "      print(f\"Result={i}\")\n",
        "      break\n",
        "\n",
        "if __name__==\"__main__\":\n",
        "  main()"
      ],
      "metadata": {
        "colab": {
          "base_uri": "https://localhost:8080/"
        },
        "id": "NXZybXmci8kt",
        "outputId": "e94f5d21-53a4-4548-8ce3-565999b76431"
      },
      "execution_count": null,
      "outputs": [
        {
          "output_type": "stream",
          "name": "stdout",
          "text": [
            "Result=59\n"
          ]
        }
      ]
    },
    {
      "cell_type": "markdown",
      "source": [
        "#Question-33:Print the total number of non-decreasing numbers from 1000 to 9999.Non decreasing numbers have individual digits that do not have a decreasing order from left to right.\n",
        "#Output  :     \n",
        "#(For e.g.: 1234 is a non-decreasing number where as 2134 is not)"
      ],
      "metadata": {
        "id": "I80cG4fejvlX"
      }
    },
    {
      "cell_type": "code",
      "source": [
        "def is_decreasing(n):\n",
        "  s=str(n)\n",
        "  for i in range(len(s)-1):\n",
        "    if s[i]>s[i+1]:\n",
        "      return False\n",
        "  return True\n",
        "\n",
        "def main():\n",
        "  y=0\n",
        "  for i in range(1000,10000):\n",
        "    if is_decreasing(i):\n",
        "      y+=1\n",
        "  print(f\"Result={y}\")\n",
        "\n",
        "if __name__==\"__main__\":\n",
        "  main()"
      ],
      "metadata": {
        "colab": {
          "base_uri": "https://localhost:8080/"
        },
        "id": "WGP860HekDtF",
        "outputId": "697916a2-76f0-42ed-b1ad-93c0f4f424ef"
      },
      "execution_count": null,
      "outputs": [
        {
          "output_type": "stream",
          "name": "stdout",
          "text": [
            "Result=495\n"
          ]
        }
      ]
    },
    {
      "cell_type": "markdown",
      "source": [
        "#Question-34:Print the total number of all Palindrome numbers less than 100000.\n",
        "#Output  :     \n",
        "#Example: 101,12321,656,99899,11511"
      ],
      "metadata": {
        "id": "ER-lHhM8lRzY"
      }
    },
    {
      "cell_type": "code",
      "source": [
        "def is_palindrome(n):\n",
        "  sum=0\n",
        "  temp=n\n",
        "  while(n>0):\n",
        "    mod=n%10\n",
        "    sum=sum*10+mod\n",
        "    n=n//10\n",
        "  return temp==sum\n",
        "\n",
        "def main():\n",
        "  for i in range(10,100000):\n",
        "    if is_palindrome(i):\n",
        "      print(i,end=',')\n",
        "\n",
        "if __name__==\"__main__\":\n",
        "  main()"
      ],
      "metadata": {
        "colab": {
          "base_uri": "https://localhost:8080/"
        },
        "id": "YsIvdIyOldNf",
        "outputId": "16391bd4-a541-49df-e374-563b1171b128"
      },
      "execution_count": null,
      "outputs": [
        {
          "output_type": "stream",
          "name": "stdout",
          "text": [
            "11,22,33,44,55,66,77,88,99,101,111,121,131,141,151,161,171,181,191,202,212,222,232,242,252,262,272,282,292,303,313,323,333,343,353,363,373,383,393,404,414,424,434,444,454,464,474,484,494,505,515,525,535,545,555,565,575,585,595,606,616,626,636,646,656,666,676,686,696,707,717,727,737,747,757,767,777,787,797,808,818,828,838,848,858,868,878,888,898,909,919,929,939,949,959,969,979,989,999,1001,1111,1221,1331,1441,1551,1661,1771,1881,1991,2002,2112,2222,2332,2442,2552,2662,2772,2882,2992,3003,3113,3223,3333,3443,3553,3663,3773,3883,3993,4004,4114,4224,4334,4444,4554,4664,4774,4884,4994,5005,5115,5225,5335,5445,5555,5665,5775,5885,5995,6006,6116,6226,6336,6446,6556,6666,6776,6886,6996,7007,7117,7227,7337,7447,7557,7667,7777,7887,7997,8008,8118,8228,8338,8448,8558,8668,8778,8888,8998,9009,9119,9229,9339,9449,9559,9669,9779,9889,9999,10001,10101,10201,10301,10401,10501,10601,10701,10801,10901,11011,11111,11211,11311,11411,11511,11611,11711,11811,11911,12021,12121,12221,12321,12421,12521,12621,12721,12821,12921,13031,13131,13231,13331,13431,13531,13631,13731,13831,13931,14041,14141,14241,14341,14441,14541,14641,14741,14841,14941,15051,15151,15251,15351,15451,15551,15651,15751,15851,15951,16061,16161,16261,16361,16461,16561,16661,16761,16861,16961,17071,17171,17271,17371,17471,17571,17671,17771,17871,17971,18081,18181,18281,18381,18481,18581,18681,18781,18881,18981,19091,19191,19291,19391,19491,19591,19691,19791,19891,19991,20002,20102,20202,20302,20402,20502,20602,20702,20802,20902,21012,21112,21212,21312,21412,21512,21612,21712,21812,21912,22022,22122,22222,22322,22422,22522,22622,22722,22822,22922,23032,23132,23232,23332,23432,23532,23632,23732,23832,23932,24042,24142,24242,24342,24442,24542,24642,24742,24842,24942,25052,25152,25252,25352,25452,25552,25652,25752,25852,25952,26062,26162,26262,26362,26462,26562,26662,26762,26862,26962,27072,27172,27272,27372,27472,27572,27672,27772,27872,27972,28082,28182,28282,28382,28482,28582,28682,28782,28882,28982,29092,29192,29292,29392,29492,29592,29692,29792,29892,29992,30003,30103,30203,30303,30403,30503,30603,30703,30803,30903,31013,31113,31213,31313,31413,31513,31613,31713,31813,31913,32023,32123,32223,32323,32423,32523,32623,32723,32823,32923,33033,33133,33233,33333,33433,33533,33633,33733,33833,33933,34043,34143,34243,34343,34443,34543,34643,34743,34843,34943,35053,35153,35253,35353,35453,35553,35653,35753,35853,35953,36063,36163,36263,36363,36463,36563,36663,36763,36863,36963,37073,37173,37273,37373,37473,37573,37673,37773,37873,37973,38083,38183,38283,38383,38483,38583,38683,38783,38883,38983,39093,39193,39293,39393,39493,39593,39693,39793,39893,39993,40004,40104,40204,40304,40404,40504,40604,40704,40804,40904,41014,41114,41214,41314,41414,41514,41614,41714,41814,41914,42024,42124,42224,42324,42424,42524,42624,42724,42824,42924,43034,43134,43234,43334,43434,43534,43634,43734,43834,43934,44044,44144,44244,44344,44444,44544,44644,44744,44844,44944,45054,45154,45254,45354,45454,45554,45654,45754,45854,45954,46064,46164,46264,46364,46464,46564,46664,46764,46864,46964,47074,47174,47274,47374,47474,47574,47674,47774,47874,47974,48084,48184,48284,48384,48484,48584,48684,48784,48884,48984,49094,49194,49294,49394,49494,49594,49694,49794,49894,49994,50005,50105,50205,50305,50405,50505,50605,50705,50805,50905,51015,51115,51215,51315,51415,51515,51615,51715,51815,51915,52025,52125,52225,52325,52425,52525,52625,52725,52825,52925,53035,53135,53235,53335,53435,53535,53635,53735,53835,53935,54045,54145,54245,54345,54445,54545,54645,54745,54845,54945,55055,55155,55255,55355,55455,55555,55655,55755,55855,55955,56065,56165,56265,56365,56465,56565,56665,56765,56865,56965,57075,57175,57275,57375,57475,57575,57675,57775,57875,57975,58085,58185,58285,58385,58485,58585,58685,58785,58885,58985,59095,59195,59295,59395,59495,59595,59695,59795,59895,59995,60006,60106,60206,60306,60406,60506,60606,60706,60806,60906,61016,61116,61216,61316,61416,61516,61616,61716,61816,61916,62026,62126,62226,62326,62426,62526,62626,62726,62826,62926,63036,63136,63236,63336,63436,63536,63636,63736,63836,63936,64046,64146,64246,64346,64446,64546,64646,64746,64846,64946,65056,65156,65256,65356,65456,65556,65656,65756,65856,65956,66066,66166,66266,66366,66466,66566,66666,66766,66866,66966,67076,67176,67276,67376,67476,67576,67676,67776,67876,67976,68086,68186,68286,68386,68486,68586,68686,68786,68886,68986,69096,69196,69296,69396,69496,69596,69696,69796,69896,69996,70007,70107,70207,70307,70407,70507,70607,70707,70807,70907,71017,71117,71217,71317,71417,71517,71617,71717,71817,71917,72027,72127,72227,72327,72427,72527,72627,72727,72827,72927,73037,73137,73237,73337,73437,73537,73637,73737,73837,73937,74047,74147,74247,74347,74447,74547,74647,74747,74847,74947,75057,75157,75257,75357,75457,75557,75657,75757,75857,75957,76067,76167,76267,76367,76467,76567,76667,76767,76867,76967,77077,77177,77277,77377,77477,77577,77677,77777,77877,77977,78087,78187,78287,78387,78487,78587,78687,78787,78887,78987,79097,79197,79297,79397,79497,79597,79697,79797,79897,79997,80008,80108,80208,80308,80408,80508,80608,80708,80808,80908,81018,81118,81218,81318,81418,81518,81618,81718,81818,81918,82028,82128,82228,82328,82428,82528,82628,82728,82828,82928,83038,83138,83238,83338,83438,83538,83638,83738,83838,83938,84048,84148,84248,84348,84448,84548,84648,84748,84848,84948,85058,85158,85258,85358,85458,85558,85658,85758,85858,85958,86068,86168,86268,86368,86468,86568,86668,86768,86868,86968,87078,87178,87278,87378,87478,87578,87678,87778,87878,87978,88088,88188,88288,88388,88488,88588,88688,88788,88888,88988,89098,89198,89298,89398,89498,89598,89698,89798,89898,89998,90009,90109,90209,90309,90409,90509,90609,90709,90809,90909,91019,91119,91219,91319,91419,91519,91619,91719,91819,91919,92029,92129,92229,92329,92429,92529,92629,92729,92829,92929,93039,93139,93239,93339,93439,93539,93639,93739,93839,93939,94049,94149,94249,94349,94449,94549,94649,94749,94849,94949,95059,95159,95259,95359,95459,95559,95659,95759,95859,95959,96069,96169,96269,96369,96469,96569,96669,96769,96869,96969,97079,97179,97279,97379,97479,97579,97679,97779,97879,97979,98089,98189,98289,98389,98489,98589,98689,98789,98889,98989,99099,99199,99299,99399,99499,99599,99699,99799,99899,99999,"
          ]
        }
      ]
    },
    {
      "cell_type": "markdown",
      "source": [
        "#Question-35:Get 2 numbers from user and find the LCM of them.\n",
        "#Output  :     \n",
        "#Example: Input 20,30 Output:60"
      ],
      "metadata": {
        "id": "U7ulW4AmmmpP"
      }
    },
    {
      "cell_type": "code",
      "source": [
        "from math import gcd\n",
        "def lcm(x,y):\n",
        "  return abs(x*y)//gcd(x,y)\n",
        "\n",
        "def main():\n",
        "  x=int(input(\"Enter the number:\"))\n",
        "  y=int(input(\"Enter the number:\"))\n",
        "  lcm_x_y=lcm(x,y)\n",
        "  print(f\"Result={lcm_x_y}\")\n",
        "\n",
        "if __name__==\"__main__\":\n",
        "  main()"
      ],
      "metadata": {
        "colab": {
          "base_uri": "https://localhost:8080/"
        },
        "id": "je4DKxlGmvrw",
        "outputId": "978b3c4e-8fc8-45e5-c678-caf23e7ed7ad"
      },
      "execution_count": null,
      "outputs": [
        {
          "output_type": "stream",
          "name": "stdout",
          "text": [
            "Enter the number:20\n",
            "Enter the number:30\n",
            "Result=60\n"
          ]
        }
      ]
    },
    {
      "cell_type": "markdown",
      "source": [
        "#Question-36:Get a character and print its ASCII Value."
      ],
      "metadata": {
        "id": "jGBLBm3aoAxY"
      }
    },
    {
      "cell_type": "code",
      "source": [
        "def main():\n",
        "  char=input(\"Enter the Character:\")\n",
        "  if len(char)==1:\n",
        "    ascii_value=ord(char)\n",
        "    print(f\"Result={ascii_value}\")\n",
        "  else:\n",
        "    print(\"Please enter only one character\")\n",
        "\n",
        "if __name__==\"__main__\":\n",
        "  main()"
      ],
      "metadata": {
        "colab": {
          "base_uri": "https://localhost:8080/"
        },
        "id": "GVjxawH6oHWa",
        "outputId": "0b801e09-97f9-4a2e-bfee-fd86d150eef0"
      },
      "execution_count": null,
      "outputs": [
        {
          "output_type": "stream",
          "name": "stdout",
          "text": [
            "Enter the Character:A\n",
            "Result=65\n"
          ]
        }
      ]
    },
    {
      "cell_type": "markdown",
      "source": [
        "#Question-37:Get a number and print its ASCII Value."
      ],
      "metadata": {
        "id": "JsIprZWAoxjt"
      }
    },
    {
      "cell_type": "code",
      "source": [
        "def main():\n",
        "  x=int(input(\"Enter the number:\"))\n",
        "  if 0<=x<=127:\n",
        "    ascii_value=chr(x)\n",
        "    print(f\"Result={ascii_value}\")\n",
        "  else:\n",
        "    print(\"enter the number between 0 to 127\")\n",
        "\n",
        "if __name__==\"__main__\":\n",
        "  main()"
      ],
      "metadata": {
        "colab": {
          "base_uri": "https://localhost:8080/"
        },
        "id": "1DGkCaXao69a",
        "outputId": "4a649a06-5b6e-4bd9-c948-4088a478e62f"
      },
      "execution_count": null,
      "outputs": [
        {
          "output_type": "stream",
          "name": "stdout",
          "text": [
            "Enter the number:50\n",
            "Result=2\n"
          ]
        }
      ]
    },
    {
      "cell_type": "markdown",
      "source": [
        "#Question-38:Get a String and print the same."
      ],
      "metadata": {
        "id": "_257z2mwsZST"
      }
    },
    {
      "cell_type": "code",
      "source": [
        "def main():\n",
        "    y=input(\"Enter the String:\")\n",
        "    print(f\"Result = {y}\")\n",
        "if __name__ == \"__main__\":\n",
        "    main()"
      ],
      "metadata": {
        "colab": {
          "base_uri": "https://localhost:8080/"
        },
        "id": "R9lW11H5s4ab",
        "outputId": "1fd39dc9-9132-4431-cc57-9710213f9d8d"
      },
      "execution_count": null,
      "outputs": [
        {
          "output_type": "stream",
          "name": "stdout",
          "text": [
            "Enter the String:Hi how are you\n",
            "Result = Hi how are you\n"
          ]
        }
      ]
    },
    {
      "cell_type": "markdown",
      "source": [
        "#Question-39: Get a number as String and print the integer value of the string.."
      ],
      "metadata": {
        "id": "nBlhdQJLtFEa"
      }
    },
    {
      "cell_type": "code",
      "source": [
        "def main():\n",
        "    y=input(\"Enter the number String:\")\n",
        "    print(f\"Result = {int(y)}\")\n",
        "if __name__ == \"__main__\":\n",
        "    main()"
      ],
      "metadata": {
        "colab": {
          "base_uri": "https://localhost:8080/"
        },
        "id": "9DDad-3CtM05",
        "outputId": "8aadeefc-34fa-4aca-8905-3579bb6627aa"
      },
      "execution_count": null,
      "outputs": [
        {
          "output_type": "stream",
          "name": "stdout",
          "text": [
            "Enter the number String:12\n",
            "Result = 12\n"
          ]
        }
      ]
    },
    {
      "cell_type": "markdown",
      "source": [
        "#Question-40:Get an integer and print it as string"
      ],
      "metadata": {
        "id": "vQVnieMEthsJ"
      }
    },
    {
      "cell_type": "code",
      "source": [
        "def main():\n",
        "    y=int(input(\"Enter the number String:\"))\n",
        "    print(f\"Result = {str(y)}\")\n",
        "if __name__ == \"__main__\":\n",
        "    main()"
      ],
      "metadata": {
        "colab": {
          "base_uri": "https://localhost:8080/"
        },
        "id": "TrTTjzIMtoUW",
        "outputId": "5b8b7e76-89ec-4f13-c2e2-a2740f5e1549"
      },
      "execution_count": null,
      "outputs": [
        {
          "output_type": "stream",
          "name": "stdout",
          "text": [
            "Enter the number String:12\n",
            "Result = 12\n"
          ]
        }
      ]
    },
    {
      "cell_type": "markdown",
      "source": [
        "#Question-41:Get an integer and print each digit as character.Print one character on one line."
      ],
      "metadata": {
        "id": "wBuSk05ntyCM"
      }
    },
    {
      "cell_type": "code",
      "source": [
        "def main():\n",
        "    x = int(input(\"Enter Number: \"))\n",
        "    x=str(x)\n",
        "    for y in x:\n",
        "      print(y)\n",
        "if __name__ == \"__main__\":\n",
        "    main()"
      ],
      "metadata": {
        "colab": {
          "base_uri": "https://localhost:8080/"
        },
        "id": "c3nQdopJt6Gf",
        "outputId": "8022cd6f-3ea7-43b6-f027-e802c9e21f8c"
      },
      "execution_count": null,
      "outputs": [
        {
          "output_type": "stream",
          "name": "stdout",
          "text": [
            "Enter Number: 12345\n",
            "1\n",
            "2\n",
            "3\n",
            "4\n",
            "5\n"
          ]
        }
      ]
    },
    {
      "cell_type": "markdown",
      "source": [
        "#Question-42:Get a string and find the length of the string"
      ],
      "metadata": {
        "id": "w_7xRYhmuRpK"
      }
    },
    {
      "cell_type": "code",
      "source": [
        "def main():\n",
        "    y=input(\"Enter the String:\").split()\n",
        "    print(f\"Result = {len(y)}\")\n",
        "if __name__ == \"__main__\":\n",
        "    main()"
      ],
      "metadata": {
        "colab": {
          "base_uri": "https://localhost:8080/"
        },
        "id": "LV3F5aJeuaIM",
        "outputId": "0da32edd-8a35-4531-9af2-6af1f04a3f91"
      },
      "execution_count": null,
      "outputs": [
        {
          "output_type": "stream",
          "name": "stdout",
          "text": [
            "Enter the String:Hi How are You\n",
            "Result = 4\n"
          ]
        }
      ]
    },
    {
      "cell_type": "markdown",
      "source": [
        "#Question-43:Get a string and find the length of the string\n",
        "#Output  :     \n",
        "#E.g.: 1234567 → valid number\n",
        "#12abc35 → Not a valid number"
      ],
      "metadata": {
        "id": "-RVW40XOuwwz"
      }
    },
    {
      "cell_type": "code",
      "source": [
        "def main():\n",
        "    x = input(\"Enter Number: \")\n",
        "    if x.isdigit():\n",
        "      print(f\"Result = {len(x)}\")\n",
        "    else:\n",
        "      print(\"Not a valid number\")\n",
        "if __name__ == \"__main__\":\n",
        "    main()"
      ],
      "metadata": {
        "colab": {
          "base_uri": "https://localhost:8080/"
        },
        "id": "7CP4gUb7u7oT",
        "outputId": "228a94d7-244c-4a97-e090-8b3d3dd8c88b"
      },
      "execution_count": null,
      "outputs": [
        {
          "output_type": "stream",
          "name": "stdout",
          "text": [
            "Enter Number: 1234567\n",
            "Result = 7\n"
          ]
        }
      ]
    },
    {
      "cell_type": "markdown",
      "source": [
        "#Question-44:Get a string of numbers up to 50 digits and remove all leading zeros.\n",
        "#Output  :     \n",
        "#E.g.: 00000012345\n",
        "#Answer: 12345"
      ],
      "metadata": {
        "id": "OW7P5E_VvcFI"
      }
    },
    {
      "cell_type": "code",
      "source": [
        "def main():\n",
        "    x = input(\"Enter Number(Less than 50 digits): \")\n",
        "    if x.isdigit()and len(x)<=50:\n",
        "      print(f\"Result = {x.strip('0')}\")\n",
        "    else:\n",
        "      print(f\"{x} is not a digit\")\n",
        "if __name__ == \"__main__\":\n",
        "    main()"
      ],
      "metadata": {
        "colab": {
          "base_uri": "https://localhost:8080/"
        },
        "id": "eWkdSim3vox3",
        "outputId": "e9855389-dd9d-4af1-9ba8-d2a8e2d67096"
      },
      "execution_count": null,
      "outputs": [
        {
          "output_type": "stream",
          "name": "stdout",
          "text": [
            "Enter Number(Less than 50 digits): 00000012345\n",
            "Result = 12345\n"
          ]
        }
      ]
    },
    {
      "cell_type": "markdown",
      "source": [
        "#Question-45:Get a number up to 50 digits and reverse it.\n",
        "#Output  :     \n",
        "#E.g.: 12345678912345\n",
        "#Answer: 54321987654321"
      ],
      "metadata": {
        "id": "z6zgK56ywedY"
      }
    },
    {
      "cell_type": "code",
      "source": [
        "def main():\n",
        "    x = input(\"Enter Number(Less than 50 digits): \")\n",
        "    if x.isdigit()and len(x)<=50:\n",
        "      print(f\"Result = {int(x[::-1])}\")\n",
        "    else:\n",
        "      print(f\"{x} is not a digit\")\n",
        "if __name__ == \"__main__\":\n",
        "    main()"
      ],
      "metadata": {
        "colab": {
          "base_uri": "https://localhost:8080/"
        },
        "id": "czbUxjPzw0Qf",
        "outputId": "9c2eb0fc-90fa-4ceb-a242-00608cf91830"
      },
      "execution_count": null,
      "outputs": [
        {
          "output_type": "stream",
          "name": "stdout",
          "text": [
            "Enter Number(Less than 50 digits): 12345678912345\n",
            "Result = 54321987654321\n"
          ]
        }
      ]
    },
    {
      "cell_type": "markdown",
      "source": [
        "#Question-46: Get a number string up to 50 digits and convert it to integer array."
      ],
      "metadata": {
        "id": "XNDTsKHnxC-J"
      }
    },
    {
      "cell_type": "code",
      "source": [
        "def main():\n",
        "    x = input(\"Enter Number: \")\n",
        "    x=str(x)\n",
        "    y=[]\n",
        "    for i in x:\n",
        "      if i.isdigit():\n",
        "       y.append(int(i))\n",
        "\n",
        "    print(f\"Result = {y}\")\n",
        "if __name__ == \"__main__\":\n",
        "    main()"
      ],
      "metadata": {
        "colab": {
          "base_uri": "https://localhost:8080/"
        },
        "id": "CA1V4nJe_NA-",
        "outputId": "59445757-9414-41b3-b01c-39c1aa33554f"
      },
      "execution_count": null,
      "outputs": [
        {
          "output_type": "stream",
          "name": "stdout",
          "text": [
            "Enter Number: 1a2b3c\n",
            "Result = [1, 2, 3]\n"
          ]
        }
      ]
    },
    {
      "cell_type": "markdown",
      "source": [
        "#Question-47:Add two integer arrays of up to 50 digits and store the result in a 51 digits array."
      ],
      "metadata": {
        "id": "8otEdk1DANAq"
      }
    },
    {
      "cell_type": "code",
      "source": [
        "def add_two_arrays(arr1,arr2):\n",
        "  num1=''.join(map(str,arr1))\n",
        "  num2=''.join(map(str,arr2))\n",
        "  addition=str(int(num1)+int(num2))\n",
        "  result_array=[int(digit) for digit in addition]\n",
        "  return result_array\n",
        "\n",
        "def main():\n",
        "  x=[int(digit) for digit in input(\"Enter the number:\").strip()]\n",
        "  y=[int(digit) for digit in input(\"Enter the number:\").strip()]\n",
        "\n",
        "  if len(x)>50 and len(y)>50:\n",
        "    print(\"Number is large\")\n",
        "    return\n",
        "\n",
        "  result=add_two_arrays(x,y)\n",
        "  print(f\"Result = {result}\")\n",
        "\n",
        "if __name__==\"__main__\":\n",
        "  main()"
      ],
      "metadata": {
        "colab": {
          "base_uri": "https://localhost:8080/"
        },
        "id": "4tQKrUFvAXhy",
        "outputId": "5be78d09-da4f-4204-deb7-fce57a673a5c"
      },
      "execution_count": null,
      "outputs": [
        {
          "output_type": "stream",
          "name": "stdout",
          "text": [
            "Enter the number:12345\n",
            "Enter the number:12345\n",
            "Result = [2, 4, 6, 9, 0]\n"
          ]
        }
      ]
    },
    {
      "cell_type": "markdown",
      "source": [
        "#Question-48:Adjust the carry in an integer array. (i.e. convert the 2 digit number into single digit and add the carry to the next number)\n",
        "#Output  :     \n",
        "#E.g.: Array - 6 12 3 15 7\n",
        "#Answer: 7 2 4 5 7"
      ],
      "metadata": {
        "id": "9OyTEx2uC6t4"
      }
    },
    {
      "cell_type": "code",
      "source": [
        "def adjust_carry(array):\n",
        "  for i in range(len(array)-1,-1,-1):\n",
        "    if array[i]>=10:\n",
        "      carry=array[i]//10\n",
        "      array[i]=array[i]%10\n",
        "      if i>0:\n",
        "        array[i-1]+=carry\n",
        "      else:\n",
        "        array.insert(0,carry)\n",
        "\n",
        "  return array\n",
        "\n",
        "def main():\n",
        "  array = list(map(int, input(\"Enter the numbers separated by spaces: \").strip().split()))\n",
        "  print(\"Original array:\", array)\n",
        "  print(f\"Result ={adjust_carry(array)}\")\n",
        "\n",
        "if __name__==\"__main__\":\n",
        "  main()"
      ],
      "metadata": {
        "colab": {
          "base_uri": "https://localhost:8080/"
        },
        "id": "4VBHAygDDHQ0",
        "outputId": "9fec99e1-465a-4c70-fe42-3a12e382f183"
      },
      "execution_count": null,
      "outputs": [
        {
          "output_type": "stream",
          "name": "stdout",
          "text": [
            "Enter the numbers separated by spaces: 6 12 3 15 7\n",
            "Original array: [6, 12, 3, 15, 7]\n",
            "Result =[7, 2, 4, 5, 7]\n"
          ]
        }
      ]
    },
    {
      "cell_type": "markdown",
      "source": [
        "#Question-49:Write a function to convert an integer array to a character array and print it.\n",
        "#Output  :     \n",
        "#Array – 1 4 5 8 7 6 3\n",
        "#Answer: 1458763"
      ],
      "metadata": {
        "id": "znpKZB3aHJ-O"
      }
    },
    {
      "cell_type": "code",
      "source": [
        "def main():\n",
        "  array = list(map(int, input(\"Enter the numbers separated by spaces: \").strip().split()))\n",
        "  print(\"Original array:\", array)\n",
        "  str_array=''.join(map(str,array))\n",
        "  print(f\"Result = {str_array}\")\n",
        "\n",
        "if __name__==\"__main__\":\n",
        "  main()"
      ],
      "metadata": {
        "colab": {
          "base_uri": "https://localhost:8080/"
        },
        "id": "A7mSBrqkHlPA",
        "outputId": "830df6c0-d005-4816-b39a-cb71769cffb4"
      },
      "execution_count": null,
      "outputs": [
        {
          "output_type": "stream",
          "name": "stdout",
          "text": [
            "Enter the numbers separated by spaces: 1 4 5 8 7 6 3\n",
            "Original array: [1, 4, 5, 8, 7, 6, 3]\n",
            "Result = 1458763\n"
          ]
        }
      ]
    },
    {
      "cell_type": "markdown",
      "source": [
        "#Question-50:Get two numbers of up to 50 digits and perform addition and print the result."
      ],
      "metadata": {
        "id": "8My3Yd3gIVSM"
      }
    },
    {
      "cell_type": "code",
      "source": [
        "def main():\n",
        "  array1=input(\"Enter the number(upto 50 digits):\").strip()\n",
        "  array2=input(\"Enter the number(upto 50 digits):\").strip()\n",
        "  if len(array1)>50 and len(array2)>50:\n",
        "    print(\"each array is of 50 digits large\")\n",
        "  sum_result=int(array1)+int(array2)\n",
        "  print(f\"Result = {sum_result}\")\n",
        "\n",
        "if __name__==\"__main__\":\n",
        "  main()"
      ],
      "metadata": {
        "colab": {
          "base_uri": "https://localhost:8080/"
        },
        "id": "_RIyHzvcIjGM",
        "outputId": "c3a651c7-268f-4e39-c744-b664759aa093"
      },
      "execution_count": null,
      "outputs": [
        {
          "output_type": "stream",
          "name": "stdout",
          "text": [
            "Enter the number(upto 50 digits):12345\n",
            "Enter the number(upto 50 digits):56789\n",
            "Result = 69134\n"
          ]
        }
      ]
    },
    {
      "cell_type": "markdown",
      "source": [
        "#Question-51:Get a string and a character from the user and find all the positions where the character present and print it.\n",
        "#Output  :     \n",
        "#E.g.: string : hellohellohello\n",
        "#character : h\n",
        "#Answer : 1, 6, 11"
      ],
      "metadata": {
        "id": "371QcVUPJhY2"
      }
    },
    {
      "cell_type": "code",
      "source": [
        "def main():\n",
        "  string=input(\"Enter the String:\").strip()\n",
        "  character=input(\"Enter the Character:\").strip()\n",
        "  if len(character)!=1:\n",
        "    print(\"Enter only one character\")\n",
        "    return\n",
        "  positions=[]\n",
        "  for i in range(len(string)-1):\n",
        "    if string[i]==character:\n",
        "      positions.append(i+1)\n",
        "\n",
        "  if positions:\n",
        "    print(\"Answer:\",\",\".join(map(str,positions)))\n",
        "  else:\n",
        "    print(\"Character not found in the string.\")\n",
        "\n",
        "if __name__==\"__main__\":\n",
        "  main()"
      ],
      "metadata": {
        "colab": {
          "base_uri": "https://localhost:8080/"
        },
        "id": "Rl5EA5MQJrw5",
        "outputId": "356beb7f-344b-4cc3-dd22-5c2c01ea5c2a"
      },
      "execution_count": null,
      "outputs": [
        {
          "output_type": "stream",
          "name": "stdout",
          "text": [
            "Enter the String:hellohellohello\n",
            "Enter the Character:h\n",
            "Answer: 1,6,11\n"
          ]
        }
      ]
    },
    {
      "cell_type": "markdown",
      "source": [
        "#Question-52:Get a main string and sub string. Check the sub string in main string an print the position.\n",
        "#Output  :     \n",
        "#E.g.: string : hellosurabee\n",
        "#substring : sura\n",
        "#Answer : 6"
      ],
      "metadata": {
        "id": "uTTE0f8ZLZxD"
      }
    },
    {
      "cell_type": "code",
      "source": [
        "def main():\n",
        "  main_string=input(\"Enter the main String:\").strip()\n",
        "  sub_string=input(\"Enter the Sub String:\").strip()\n",
        "  position=main_string.find(sub_string)\n",
        "  if position!=-1:\n",
        "    print(f\"Result = {position+1}\")\n",
        "  else:\n",
        "     print(\"Substring not found in the main string.\")\n",
        "\n",
        "if __name__==\"__main__\":\n",
        "  main()"
      ],
      "metadata": {
        "colab": {
          "base_uri": "https://localhost:8080/"
        },
        "id": "Z-hh4T8aLnc8",
        "outputId": "dd482c90-09c1-489d-96df-2d2c4436f965"
      },
      "execution_count": null,
      "outputs": [
        {
          "output_type": "stream",
          "name": "stdout",
          "text": [
            "Enter the main String:hellosurabee\n",
            "Enter the Sub String:sura\n",
            "Result = 6\n"
          ]
        }
      ]
    },
    {
      "cell_type": "markdown",
      "source": [
        "#Question-53:Get a string using gets function and count all the words in it.\n",
        "#Output  :     \n",
        "#E.g.: string : Welcome to HCL Tech\n",
        "#Answer : 4"
      ],
      "metadata": {
        "id": "UesV2SWfMwP3"
      }
    },
    {
      "cell_type": "code",
      "source": [
        "def main():\n",
        "    x = input(\"Enter Number: \").strip().split()\n",
        "    y=len(x)\n",
        "    print(f\"Result = {y}\")\n",
        "if __name__ == \"__main__\":\n",
        "    main()"
      ],
      "metadata": {
        "colab": {
          "base_uri": "https://localhost:8080/"
        },
        "id": "inyNF8zZM_np",
        "outputId": "0a755f50-a6f4-469a-b805-d3000b0e4ce4"
      },
      "execution_count": null,
      "outputs": [
        {
          "output_type": "stream",
          "name": "stdout",
          "text": [
            "Enter Number: Welcome to HCL Tech\n",
            "Result = 4\n"
          ]
        }
      ]
    },
    {
      "cell_type": "markdown",
      "source": [
        "#Question-54:Write a program to multiply up to two 50 digit numbers."
      ],
      "metadata": {
        "id": "zN1AfDP9NUwg"
      }
    },
    {
      "cell_type": "code",
      "source": [
        "def main():\n",
        "  array1=input(\"Enter the number(upto 50 digits):\").strip()\n",
        "  array2=input(\"Enter the number(upto 50 digits):\").strip()\n",
        "  if len(array1)>50 and len(array2)>50:\n",
        "    print(\"each array is of 50 digits large\")\n",
        "  sum_result=int(array1)*int(array2)\n",
        "  print(f\"Result = {sum_result}\")\n",
        "\n",
        "if __name__==\"__main__\":\n",
        "  main()"
      ],
      "metadata": {
        "colab": {
          "base_uri": "https://localhost:8080/"
        },
        "id": "ijq3JOlrNdDy",
        "outputId": "ddb1889b-2747-4b30-c1b7-c9c653680265"
      },
      "execution_count": null,
      "outputs": [
        {
          "output_type": "stream",
          "name": "stdout",
          "text": [
            "Enter the number(upto 50 digits):12345\n",
            "Enter the number(upto 50 digits):56789\n",
            "Result = 701060205\n"
          ]
        }
      ]
    },
    {
      "cell_type": "markdown",
      "source": [
        "#Question-55:Write a Calculator program that will give the \"Calc\" prompt and always stay on this prompt. When a user types one of the following commands, the program will calculate and give the result.\n",
        "\n",
        "#Typing \"Exit\" will exit from the Calculator program. This program accepts up to 50-digit numbers. Then, the division will give the quotient and remainder.\n",
        "\n",
        "#Note:\n",
        "#Do not accept Invalid numbers.\n",
        "#Do not print leading zeros.\n",
        "#Use functions and write a professional program use Linux coding style.\n",
        "#Each number can be of a different digit.\n",
        "#Make sure that all the Input conditions are taken care.\n",
        "#Try to minimize the execution speed.\n",
        "#Calc> 12345678967354748+9876546877687678678678678 - Addition\n",
        "#Calc> 12345678995387837883748798-8738478937937498237 - Subtraction\n",
        "#Calc> 123478763783847239874 * 34837472384723894732 - Multiplication\n",
        "#Calc> 1233489374983933498398095/3487384 - Division\n",
        "#Calc> Exit - Quit."
      ],
      "metadata": {
        "id": "WciU9mu2N-st"
      }
    },
    {
      "cell_type": "code",
      "source": [
        "def add(a,b):\n",
        "  return a+b\n",
        "\n",
        "def subtract(a,b):\n",
        "  return a-b\n",
        "\n",
        "def multiply(a,b):\n",
        "  return a*b\n",
        "\n",
        "def divide(a,b):\n",
        "  if b==0:\n",
        "    return \"Division by zero is not allowed.\"\n",
        "  quotient=a//b\n",
        "  remainder=a%b\n",
        "  return quotient,remainder\n",
        "\n",
        "def is_valid_number(s):\n",
        "  return s.isdigit()\n",
        "\n",
        "def main():\n",
        "  while True:\n",
        "    command=input(\"Calc> \").strip()\n",
        "    if command.lower()==\"exit\":\n",
        "      break\n",
        "\n",
        "    if '+'in command:\n",
        "      parts=command.split('+')\n",
        "      if len(parts)==2 and is_valid_number(parts[0]) and is_valid_number(parts[1]):\n",
        "        a=int(parts[0])\n",
        "        b=int(parts[1])\n",
        "        result=add(a,b)\n",
        "        print(result)\n",
        "      else:\n",
        "         print(\"Invalid input.\")\n",
        "\n",
        "    elif '-' in command:\n",
        "      parts=command.split('-')\n",
        "      if len(parts)==2 and is_valid_number(parts[0]) and is_valid_number(parts[1]):\n",
        "        a=int(parts[0])\n",
        "        b=int(parts[1])\n",
        "        result=subtract(a,b)\n",
        "        print(result)\n",
        "      else:\n",
        "         print(\"Invalid input.\")\n",
        "\n",
        "    elif '*' in command:\n",
        "      parts=command.split('*')\n",
        "      if len(parts)==2 and is_valid_number(parts[0]) and is_valid_number(parts[1]):\n",
        "        a=int(parts[0])\n",
        "        b=int(parts[1])\n",
        "        result=multiply(a,b)\n",
        "        print(result)\n",
        "      else:\n",
        "         print(\"Invalid input.\")\n",
        "\n",
        "    elif '/' in command:\n",
        "      parts=command.split('/')\n",
        "      if len(parts)==2 and is_valid_number(parts[0]) and is_valid_number(parts[1]):\n",
        "        a=int(parts[0])\n",
        "        b=int(parts[1])\n",
        "        result=divide(a,b)\n",
        "        if isinstance(result,tuple):\n",
        "          print(f\"Quotient: {result[0]}, Remainder: {result[1]}\")\n",
        "        else:\n",
        "          print(result)\n",
        "      else:\n",
        "        print(\"Invalid input\")\n",
        "  else:\n",
        "    print(\"Invalid input\")\n",
        "\n",
        "if __name__==\"__main__\":\n",
        "  main()"
      ],
      "metadata": {
        "colab": {
          "base_uri": "https://localhost:8080/"
        },
        "id": "wcJzvzcsOaHW",
        "outputId": "5ee784b0-9a5b-474e-a7cd-20743ac1bf3a"
      },
      "execution_count": null,
      "outputs": [
        {
          "name": "stdout",
          "output_type": "stream",
          "text": [
            "Calc> 123456-123456\n",
            "0\n",
            "Calc> 123456*123456\n",
            "15241383936\n",
            "Calc> Exit\n"
          ]
        }
      ]
    },
    {
      "cell_type": "markdown",
      "source": [
        "#Question-56:Create a linked list using a class-based structure to store student information. The structure should include the student's ID, Maths mark, and Science mark. Implement a program that continuously accepts user inputs for these values. When the user inputs an ID of -1, the input mode should exit, and the program should display all the entries."
      ],
      "metadata": {
        "id": "dsAsNvE0SceJ"
      }
    },
    {
      "cell_type": "code",
      "source": [
        "class StudentNode:\n",
        "    def __init__(self, student_id, maths_mark, science_mark):\n",
        "        self.student_id = student_id\n",
        "        self.maths_mark = maths_mark\n",
        "        self.science_mark = science_mark\n",
        "        self.next = None\n",
        "\n",
        "class StudentLinkedList:\n",
        "    def __init__(self):\n",
        "        self.head = None\n",
        "\n",
        "    def add_student(self, student_id, maths_mark, science_mark):\n",
        "        new_node = StudentNode(student_id, maths_mark, science_mark)\n",
        "        if self.head is None:\n",
        "            self.head = new_node\n",
        "        else:\n",
        "            current = self.head\n",
        "            while current.next:\n",
        "                current = current.next\n",
        "            current.next = new_node\n",
        "\n",
        "    def display_students(self):\n",
        "        current = self.head\n",
        "        while current:\n",
        "            print(f\"Student ID: {current.student_id}, Maths Mark: {current.maths_mark}, Science Mark: {current.science_mark}\")\n",
        "            current = current.next\n",
        "\n",
        "def main():\n",
        "    student_list = StudentLinkedList()\n",
        "\n",
        "    while True:\n",
        "        student_id = int(input(\"Enter Student ID (-1 to stop): \"))\n",
        "        if student_id == -1:\n",
        "            break\n",
        "        maths_mark = int(input(\"Enter Maths Mark: \"))\n",
        "        science_mark = int(input(\"Enter Science Mark: \"))\n",
        "\n",
        "        student_list.add_student(student_id, maths_mark, science_mark)\n",
        "\n",
        "    print(\"\\nStudent List:\")\n",
        "    student_list.display_students()\n",
        "\n",
        "if __name__ == \"__main__\":\n",
        "    main()"
      ],
      "metadata": {
        "colab": {
          "base_uri": "https://localhost:8080/"
        },
        "id": "mGi0uHbISmzr",
        "outputId": "45b6dd26-054f-4803-e3d4-24cabc7a8e81"
      },
      "execution_count": null,
      "outputs": [
        {
          "output_type": "stream",
          "name": "stdout",
          "text": [
            "Enter Student ID (-1 to stop): 101\n",
            "Enter Maths Mark: 85\n",
            "Enter Science Mark: 78\n",
            "Enter Student ID (-1 to stop): 102\n",
            "Enter Maths Mark: 92\n",
            "Enter Science Mark: 88\n",
            "Enter Student ID (-1 to stop): 103\n",
            "Enter Maths Mark: 78\n",
            "Enter Science Mark: 84\n",
            "Enter Student ID (-1 to stop): -1\n",
            "\n",
            "Student List:\n",
            "Student ID: 101, Maths Mark: 85, Science Mark: 78\n",
            "Student ID: 102, Maths Mark: 92, Science Mark: 88\n",
            "Student ID: 103, Maths Mark: 78, Science Mark: 84\n"
          ]
        }
      ]
    },
    {
      "cell_type": "markdown",
      "source": [
        "#Question-57:Create a sample link list with about 5 entries using the class.  \n",
        "#Insert a new entry before or after a given id.\n",
        "#Menu Items\n",
        "#1. Insert Entry\n",
        "#2. Display List\n",
        "#3. Exit"
      ],
      "metadata": {
        "id": "tu61XipSYm-a"
      }
    },
    {
      "cell_type": "code",
      "source": [
        "class ListNode:\n",
        "  def __init__(self,student_id,maths_mark,science_mark):\n",
        "    self.student_id=student_id\n",
        "    self.maths_mark=maths_mark\n",
        "    self.science_mark=science_mark\n",
        "    self.next=None\n",
        "\n",
        "class StudentLinkedList:\n",
        "  def __init__(self):\n",
        "    self.head=None\n",
        "\n",
        "  def add_student(self,student_id,maths_mark,science_mark):\n",
        "    new_node=ListNode(student_id,maths_mark,science_mark)\n",
        "    if self.head is None:\n",
        "      self.head=new_node\n",
        "    else:\n",
        "      current_node=self.head\n",
        "      while current_node.next:\n",
        "        current_node=current_node.next\n",
        "      current_node.next=new_node\n",
        "\n",
        "  def display_students(self):\n",
        "    if self.head is None:\n",
        "      print(\"List is Empty\")\n",
        "      return\n",
        "    current=self.head\n",
        "    while current:\n",
        "      print(f\"Student ID: {current.student_id}, Maths Mark:{current.maths_mark}, Science Mark:{current.science_mark}\")\n",
        "      current=current.next\n",
        "\n",
        "  def insert_before(self,target_id,new_student_id,new_maths_mark,new_science_mark):\n",
        "    new_node=ListNode(new_student_id,new_maths_mark,new_science_mark)\n",
        "    if self.head is None:\n",
        "      print(\"List is Empty. Cannot Insert\")\n",
        "      return\n",
        "\n",
        "    if self.head.student_id==target_id:\n",
        "      new_node.next=self.head\n",
        "      self.head=new_node\n",
        "      return\n",
        "\n",
        "    current=self.head\n",
        "    while current:\n",
        "      if current.next and current.next.student_id==target_id:\n",
        "        new_node.next=current.next\n",
        "        current.next=new_node\n",
        "        return\n",
        "      current=current.next\n",
        "    print(f\"Target ID {target_id} not found. Cannot insert.\")\n",
        "\n",
        "  def insert_after(self,target_id,new_student_id,new_maths_mark,new_science_mark):\n",
        "    new_node=ListNode(new_student_id,new_maths_mark,new_science_mark)\n",
        "    if self.head is None:\n",
        "      print(\"List is Empty. Cannot Insert\")\n",
        "      return\n",
        "\n",
        "    if self.head.student_id==target_id:\n",
        "      new_node.next=self.head.next\n",
        "      self.head.next=new_node\n",
        "      return\n",
        "\n",
        "    current=self.head\n",
        "    while current:\n",
        "      if current.next and current.next.student_id==target_id:\n",
        "        new_node.next=current.next\n",
        "        current.next=new_node\n",
        "        return\n",
        "      current=current.next\n",
        "    print(f\"Target ID {target_id} not found. Cannot insert.\")\n",
        "\n",
        "def main():\n",
        "    student_list = StudentLinkedList()\n",
        "    student_list.add_student(101, 85, 78)\n",
        "    student_list.add_student(102, 92, 88)\n",
        "    student_list.add_student(103, 78, 84)\n",
        "    student_list.add_student(104, 90, 85)\n",
        "    student_list.add_student(105, 87, 89)\n",
        "\n",
        "    while True:\n",
        "        print(\"\\nMenu Items:\")\n",
        "        print(\"1. Insert Entry\")\n",
        "        print(\"2. Display List\")\n",
        "        print(\"3. Exit\")\n",
        "\n",
        "        choice = input(\"Enter your choice: \")\n",
        "\n",
        "        if choice == '1':\n",
        "            target_id = int(input(\"Enter the ID before/after which you want to insert: \"))\n",
        "            new_student_id = int(input(\"Enter new Student ID: \"))\n",
        "            new_maths_mark = int(input(\"Enter Maths Mark: \"))\n",
        "            new_science_mark = int(input(\"Enter Science Mark: \"))\n",
        "            position_choice = input(\"Enter 'before' or 'after': \").lower()\n",
        "\n",
        "            if position_choice == 'before':\n",
        "                student_list.insert_before(target_id, new_student_id, new_maths_mark, new_science_mark)\n",
        "            elif position_choice == 'after':\n",
        "                student_list.insert_after(target_id, new_student_id, new_maths_mark, new_science_mark)\n",
        "            else:\n",
        "                print(\"Invalid choice. Returning to main menu.\")\n",
        "\n",
        "        elif choice == '2':\n",
        "            print(\"\\nCurrent Student List:\")\n",
        "            student_list.display_students()\n",
        "\n",
        "        elif choice == '3':\n",
        "            print(\"Exiting program.\")\n",
        "            break\n",
        "\n",
        "        else:\n",
        "            print(\"Invalid choice. Please enter a valid option.\")\n",
        "\n",
        "if __name__ == \"__main__\":\n",
        "    main()"
      ],
      "metadata": {
        "colab": {
          "base_uri": "https://localhost:8080/"
        },
        "id": "EXF7QqPUZGBl",
        "outputId": "59e4a227-12e5-41ff-8c58-62fe7a010637"
      },
      "execution_count": null,
      "outputs": [
        {
          "output_type": "stream",
          "name": "stdout",
          "text": [
            "\n",
            "Menu Items:\n",
            "1. Insert Entry\n",
            "2. Display List\n",
            "3. Exit\n",
            "Enter your choice: 2\n",
            "\n",
            "Current Student List:\n",
            "Student ID: 101, Maths Mark: 85, Science Mark: 78\n",
            "Student ID: 102, Maths Mark: 92, Science Mark: 88\n",
            "Student ID: 103, Maths Mark: 78, Science Mark: 84\n",
            "Student ID: 104, Maths Mark: 90, Science Mark: 85\n",
            "Student ID: 105, Maths Mark: 87, Science Mark: 89\n",
            "\n",
            "Menu Items:\n",
            "1. Insert Entry\n",
            "2. Display List\n",
            "3. Exit\n",
            "Enter your choice: 1\n",
            "Enter the ID before/after which you want to insert: 106\n",
            "Enter new Student ID: 106\n",
            "Enter Maths Mark: 88\n",
            "Enter Science Mark: 92\n",
            "Enter 'before' or 'after': after\n",
            "Target ID 106 not found. Cannot insert.\n",
            "\n",
            "Menu Items:\n",
            "1. Insert Entry\n",
            "2. Display List\n",
            "3. Exit\n",
            "Enter your choice: 1\n",
            "Enter the ID before/after which you want to insert: 105\n",
            "Enter new Student ID: 106\n",
            "Enter Maths Mark: 88\n",
            "Enter Science Mark: 92\n",
            "Enter 'before' or 'after': after\n",
            "\n",
            "Menu Items:\n",
            "1. Insert Entry\n",
            "2. Display List\n",
            "3. Exit\n",
            "Enter your choice: 2\n",
            "\n",
            "Current Student List:\n",
            "Student ID: 101, Maths Mark: 85, Science Mark: 78\n",
            "Student ID: 102, Maths Mark: 92, Science Mark: 88\n",
            "Student ID: 103, Maths Mark: 78, Science Mark: 84\n",
            "Student ID: 104, Maths Mark: 90, Science Mark: 85\n",
            "Student ID: 105, Maths Mark: 87, Science Mark: 89\n",
            "Student ID: 106, Maths Mark: 88, Science Mark: 92\n",
            "\n",
            "Menu Items:\n",
            "1. Insert Entry\n",
            "2. Display List\n",
            "3. Exit\n",
            "Enter your choice: 3\n",
            "Exiting program.\n"
          ]
        }
      ]
    },
    {
      "cell_type": "markdown",
      "source": [
        "#Question-58:Create a sample linked list with about 5 entries using class. Insert a new entry before or after a given id. Delete an entry of a given id.   \n",
        "#MENU ITEMS\n",
        "#1. Insert Entry\n",
        "#2. Delete Entry\n",
        "#3. Display List\n",
        "#4. Exit"
      ],
      "metadata": {
        "id": "dQV-SB8ouGHP"
      }
    },
    {
      "cell_type": "code",
      "source": [
        "class ListNode:\n",
        "  def __init__(self,student_id,maths_mark,science_mark):\n",
        "    self.student_id=student_id\n",
        "    self.maths_mark=maths_mark\n",
        "    self.science_mark=science_mark\n",
        "    self.next=None\n",
        "\n",
        "class StudentLinkedList:\n",
        "  def __init__(self):\n",
        "    self.head=None\n",
        "\n",
        "  def add_student(self,student_id,maths_mark,science_mark):\n",
        "    new_node=ListNode(student_id,maths_mark,science_mark)\n",
        "    if self.head is None:\n",
        "      self.head=new_node\n",
        "    else:\n",
        "      current_node=self.head\n",
        "      while current_node.next:\n",
        "        current_node=current_node.next\n",
        "      current_node.next=new_node\n",
        "\n",
        "  def display_students(self):\n",
        "    if self.head is None:\n",
        "      print(\"List is Empty\")\n",
        "      return\n",
        "    current=self.head\n",
        "    while current:\n",
        "      print(f\"Student ID: {current.student_id}, Maths Mark:{current.maths_mark}, Science Mark:{current.science_mark}\")\n",
        "      current=current.next\n",
        "\n",
        "  def insert_before(self,target_id,new_student_id,new_maths_mark,new_science_mark):\n",
        "    new_node=ListNode(new_student_id,new_maths_mark,new_science_mark)\n",
        "    if self.head is None:\n",
        "      print(\"List is Empty. Cannot Insert\")\n",
        "      return\n",
        "\n",
        "    if self.head.student_id==target_id:\n",
        "      new_node.next=self.head\n",
        "      self.head=new_node\n",
        "      return\n",
        "\n",
        "    current=self.head\n",
        "    while current:\n",
        "      if current.next and current.next.student_id==target_id:\n",
        "        new_node.next=current.next\n",
        "        current.next=new_node\n",
        "        return\n",
        "      current=current.next\n",
        "    print(f\"Target ID {target_id} not found. Cannot insert.\")\n",
        "\n",
        "  def insert_after(self,target_id,new_student_id,new_maths_mark,new_science_mark):\n",
        "    new_node=ListNode(new_student_id,new_maths_mark,new_science_mark)\n",
        "    if self.head is None:\n",
        "      print(\"List is Empty. Cannot Insert\")\n",
        "      return\n",
        "\n",
        "    if self.head.student_id==target_id:\n",
        "      new_node.next=self.head.next\n",
        "      self.head.next=new_node\n",
        "      return\n",
        "\n",
        "    current=self.head\n",
        "    while current:\n",
        "      if current.next and current.next.student_id==target_id:\n",
        "        new_node.next=current.next\n",
        "        current.next=new_node\n",
        "        return\n",
        "      current=current.next\n",
        "    print(f\"Target ID {target_id} not found. Cannot insert.\")\n",
        "\n",
        "  def delete_student(self,target_id):\n",
        "    if self.head is None:\n",
        "      print('List is Empty.Cannot insert')\n",
        "      return\n",
        "\n",
        "    if self.head.student_id==target_id:\n",
        "      self.head=self.head.next\n",
        "      return\n",
        "\n",
        "    current=self.head\n",
        "\n",
        "    while current:\n",
        "      if current.next and current.next.student_id==target_id:\n",
        "        current.next=current.next.next\n",
        "        return\n",
        "      current=current.next\n",
        "    print(f\"Student ID {target_id} not found. Cannot delete.\")\n",
        "\n",
        "def main():\n",
        "    student_list = StudentLinkedList()\n",
        "    student_list.add_student(101, 85, 78)\n",
        "    student_list.add_student(102, 92, 88)\n",
        "    student_list.add_student(103, 78, 84)\n",
        "    student_list.add_student(104, 90, 85)\n",
        "    student_list.add_student(105, 87, 89)\n",
        "\n",
        "    while True:\n",
        "        print(\"\\nMenu Items:\")\n",
        "        print(\"1. Insert Entry\")\n",
        "        print(\"2. Delete Entry\")\n",
        "        print(\"3. Display List\")\n",
        "        print(\"4. Exit\")\n",
        "\n",
        "        choice = input(\"Enter your choice: \")\n",
        "\n",
        "        if choice == '1':\n",
        "            target_id = int(input(\"Enter the ID before/after which you want to insert: \"))\n",
        "            new_student_id = int(input(\"Enter new Student ID: \"))\n",
        "            new_maths_mark = int(input(\"Enter Maths Mark: \"))\n",
        "            new_science_mark = int(input(\"Enter Science Mark: \"))\n",
        "            position_choice = input(\"Enter 'before' or 'after': \").lower()\n",
        "\n",
        "            if position_choice == 'before':\n",
        "                student_list.insert_before(target_id, new_student_id, new_maths_mark, new_science_mark)\n",
        "            elif position_choice == 'after':\n",
        "                student_list.insert_after(target_id, new_student_id, new_maths_mark, new_science_mark)\n",
        "            else:\n",
        "                print(\"Invalid choice. Returning to main menu.\")\n",
        "\n",
        "        elif choice == '2':\n",
        "            target_id=int(input(\"Enter the ID to delete:\"))\n",
        "            student_list.delete_student(target_id)\n",
        "\n",
        "        elif choice == '3':\n",
        "            print(\"\\nCurrent Student List:\")\n",
        "            student_list.display_students()\n",
        "\n",
        "        elif choice == '4':\n",
        "            print(\"Exiting program.\")\n",
        "            break\n",
        "\n",
        "        else:\n",
        "            print(\"Invalid choice. Please enter a valid option.\")\n",
        "\n",
        "if __name__ == \"__main__\":\n",
        "    main()"
      ],
      "metadata": {
        "colab": {
          "base_uri": "https://localhost:8080/"
        },
        "id": "Flypmcm_vPTI",
        "outputId": "e028b341-e8f3-491e-a3be-78333d4b160e"
      },
      "execution_count": null,
      "outputs": [
        {
          "output_type": "stream",
          "name": "stdout",
          "text": [
            "\n",
            "Menu Items:\n",
            "1. Insert Entry\n",
            "2. Delete Entry\n",
            "3. Display List\n",
            "4. Exit\n",
            "Enter your choice: 3\n",
            "\n",
            "Current Student List:\n",
            "Student ID: 101, Maths Mark:85, Science Mark:78\n",
            "Student ID: 102, Maths Mark:92, Science Mark:88\n",
            "Student ID: 103, Maths Mark:78, Science Mark:84\n",
            "Student ID: 104, Maths Mark:90, Science Mark:85\n",
            "Student ID: 105, Maths Mark:87, Science Mark:89\n",
            "\n",
            "Menu Items:\n",
            "1. Insert Entry\n",
            "2. Delete Entry\n",
            "3. Display List\n",
            "4. Exit\n",
            "Enter your choice: 1\n",
            "Enter the ID before/after which you want to insert: 105\n",
            "Enter new Student ID: 106\n",
            "Enter Maths Mark: 70\n",
            "Enter Science Mark: 75\n",
            "Enter 'before' or 'after': after\n",
            "\n",
            "Menu Items:\n",
            "1. Insert Entry\n",
            "2. Delete Entry\n",
            "3. Display List\n",
            "4. Exit\n",
            "Enter your choice: 3\n",
            "\n",
            "Current Student List:\n",
            "Student ID: 101, Maths Mark:85, Science Mark:78\n",
            "Student ID: 102, Maths Mark:92, Science Mark:88\n",
            "Student ID: 103, Maths Mark:78, Science Mark:84\n",
            "Student ID: 104, Maths Mark:90, Science Mark:85\n",
            "Student ID: 106, Maths Mark:70, Science Mark:75\n",
            "Student ID: 105, Maths Mark:87, Science Mark:89\n",
            "\n",
            "Menu Items:\n",
            "1. Insert Entry\n",
            "2. Delete Entry\n",
            "3. Display List\n",
            "4. Exit\n",
            "Enter your choice: 2\n",
            "Enter the ID to delete:106\n",
            "\n",
            "Menu Items:\n",
            "1. Insert Entry\n",
            "2. Delete Entry\n",
            "3. Display List\n",
            "4. Exit\n",
            "Enter your choice: 3\n",
            "\n",
            "Current Student List:\n",
            "Student ID: 101, Maths Mark:85, Science Mark:78\n",
            "Student ID: 102, Maths Mark:92, Science Mark:88\n",
            "Student ID: 103, Maths Mark:78, Science Mark:84\n",
            "Student ID: 104, Maths Mark:90, Science Mark:85\n",
            "Student ID: 105, Maths Mark:87, Science Mark:89\n",
            "\n",
            "Menu Items:\n",
            "1. Insert Entry\n",
            "2. Delete Entry\n",
            "3. Display List\n",
            "4. Exit\n",
            "Enter your choice: 4\n",
            "Exiting program.\n"
          ]
        }
      ]
    },
    {
      "cell_type": "markdown",
      "source": [
        "#Question-59:Create a doubly linked list with about 5 entries using class. Insert a new entry before or after a given id. Delete an entry of a given id.\n",
        "#Menu Items\n",
        "#1. Insert Entry\n",
        "#2. Delete Entry\n",
        "#3. Display List\n",
        "#4. Exit"
      ],
      "metadata": {
        "id": "UdXZpDogxNlL"
      }
    },
    {
      "cell_type": "code",
      "source": [
        "class ListNode():\n",
        "  def __init__(self,student_id,maths_mark,science_mark):\n",
        "    self.student_id=student_id\n",
        "    self.maths_mark=maths_mark\n",
        "    self.science_mark=science_mark\n",
        "    self.next=None\n",
        "    self.prev=None\n",
        "\n",
        "class DoublyLinkedList():\n",
        "  def __init__(self):\n",
        "    self.head=None\n",
        "\n",
        "  def add_student(self,student_id,maths_mark,science_mark):\n",
        "    new_node=ListNode(student_id,maths_mark,science_mark)\n",
        "    if self.head is None:\n",
        "      self.head=new_node\n",
        "    else:\n",
        "      current=self.head\n",
        "      while current.next:\n",
        "        current=current.next\n",
        "      current=new_node\n",
        "      new_node.prev=current\n",
        "\n",
        "  def display_students(self):\n",
        "    if self.head is None:\n",
        "      print(\"List is Empty\")\n",
        "      return\n",
        "    current=self.head\n",
        "    while current:\n",
        "      print(f\"Student ID: {current.student_id}, Maths Mark:{current.maths_mark}, Science Mark:{current.science_mark}\")\n",
        "      current=current.next\n",
        "\n",
        "  def insert_before(self,target_id,new_student_id,new_maths_mark,new_science_mark):\n",
        "    new_node=ListNode(new_student_id,new_maths_mark,new_science_mark)\n",
        "    if self.head is None:\n",
        "      print(\"List is empty. Cannot insert.\")\n",
        "      return\n",
        "\n",
        "    if self.head.student_id==target_id:\n",
        "      new_node.next=self.head\n",
        "      self.head.prev=new_node\n",
        "      self.head=new_node\n",
        "      return\n",
        "\n",
        "    current=self.head\n",
        "    while current:\n",
        "      if current.next and current.next.student_id==target_id:\n",
        "        new_node=current.next\n",
        "        current.next=new_node\n",
        "        new_node.prev=current\n",
        "        new_node.next=current.next\n",
        "        current.next=new_node\n",
        "        return\n",
        "    current=current.next\n",
        "    print(f\"Target ID {target_id} not found. Cannot insert.\")\n",
        "\n",
        "  def insert_after(self,target_id,new_student_id,new_maths_mark,new_science_mark):\n",
        "    new_node=ListNode(new_student_id,new_maths_mark,new_science_mark)\n",
        "    if self.head is None:\n",
        "      print(\"List is Empty. Cannot Insert\")\n",
        "      return\n",
        "\n",
        "    current=self.head\n",
        "    while current:\n",
        "      if current.student_id==target_id:\n",
        "        new_node.next=current.next\n",
        "        current.next=new_node\n",
        "        new_node.prev=current\n",
        "        if current.next:\n",
        "          current.next.prev=new_node\n",
        "        current.next=new_node\n",
        "        return\n",
        "      current=current.next\n",
        "    print(f\"Target ID {target_id} not found. Cannot insert.\")\n",
        "\n",
        "  def delete_student(self,target_id):\n",
        "    if self.head is None:\n",
        "      print(\"List is empty. Cannot Delete.\")\n",
        "      return\n",
        "\n",
        "    if self.head.student_id==target_id:\n",
        "      self.head=self.head.next\n",
        "      if self.head:\n",
        "        self.head.prev=None\n",
        "      return\n",
        "\n",
        "    current=self.head\n",
        "    while current:\n",
        "      if current.next and current.next.student_id==target_id:\n",
        "        current.next=current.next.next\n",
        "        if current.next:\n",
        "          current.next.prev=current\n",
        "          return\n",
        "      current=current.next\n",
        "    print(f\"Target ID {target_id} not found. Cannot delete\")\n",
        "\n",
        "def main():\n",
        "    student_list = DoublyLinkedList()\n",
        "    student_list.add_student(101, 85, 78)\n",
        "    student_list.add_student(102, 92, 88)\n",
        "    student_list.add_student(103, 78, 84)\n",
        "    student_list.add_student(104, 90, 85)\n",
        "    student_list.add_student(105, 87, 89)\n",
        "\n",
        "    while True:\n",
        "        print(\"\\nMenu Items:\")\n",
        "        print(\"1. Insert Entry\")\n",
        "        print(\"2. Delete Entry\")\n",
        "        print(\"3. Display List\")\n",
        "        print(\"4. Exit\")\n",
        "\n",
        "        choice = input(\"Enter your choice: \")\n",
        "\n",
        "        if choice == '1':\n",
        "            target_id = int(input(\"Enter the ID before/after which you want to insert: \"))\n",
        "            new_student_id = int(input(\"Enter new Student ID: \"))\n",
        "            new_maths_mark = int(input(\"Enter Maths Mark: \"))\n",
        "            new_science_mark = int(input(\"Enter Science Mark: \"))\n",
        "            position_choice = input(\"Enter 'before' or 'after': \").lower()\n",
        "\n",
        "            if position_choice == 'before':\n",
        "                student_list.insert_before(target_id, new_student_id, new_maths_mark, new_science_mark)\n",
        "            elif position_choice == 'after':\n",
        "                student_list.insert_after(target_id, new_student_id, new_maths_mark, new_science_mark)\n",
        "            else:\n",
        "                print(\"Invalid choice. Returning to main menu.\")\n",
        "\n",
        "        elif choice == '2':\n",
        "            target_id = int(input(\"Enter the ID of the student to delete: \"))\n",
        "            student_list.delete_student(target_id)\n",
        "\n",
        "        elif choice == '3':\n",
        "            print(\"\\nCurrent Student List:\")\n",
        "            student_list.display_students()\n",
        "\n",
        "        elif choice == '4':\n",
        "            print(\"Exiting program.\")\n",
        "            break\n",
        "\n",
        "        else:\n",
        "            print(\"Invalid choice. Please enter a valid option.\")\n",
        "\n",
        "if __name__ == \"__main__\":\n",
        "    main()"
      ],
      "metadata": {
        "colab": {
          "base_uri": "https://localhost:8080/"
        },
        "id": "25U2emClxbhe",
        "outputId": "829de74f-0027-41c3-c711-7c9f76b803af"
      },
      "execution_count": null,
      "outputs": [
        {
          "output_type": "stream",
          "name": "stdout",
          "text": [
            "\n",
            "Menu Items:\n",
            "1. Insert Entry\n",
            "2. Delete Entry\n",
            "3. Display List\n",
            "4. Exit\n",
            "Enter your choice: 3\n",
            "\n",
            "Current Student List:\n",
            "Student ID: 101, Maths Mark:85, Science Mark:78\n",
            "\n",
            "Menu Items:\n",
            "1. Insert Entry\n",
            "2. Delete Entry\n",
            "3. Display List\n",
            "4. Exit\n",
            "Enter your choice: 1\n",
            "Enter the ID before/after which you want to insert: 101\n",
            "Enter new Student ID: 102\n",
            "Enter Maths Mark: 89\n",
            "Enter Science Mark: 88\n",
            "Enter 'before' or 'after': after\n",
            "\n",
            "Menu Items:\n",
            "1. Insert Entry\n",
            "2. Delete Entry\n",
            "3. Display List\n",
            "4. Exit\n",
            "Enter your choice: 3\n",
            "\n",
            "Current Student List:\n",
            "Student ID: 101, Maths Mark:85, Science Mark:78\n",
            "Student ID: 102, Maths Mark:89, Science Mark:88\n",
            "\n",
            "Menu Items:\n",
            "1. Insert Entry\n",
            "2. Delete Entry\n",
            "3. Display List\n",
            "4. Exit\n",
            "Enter your choice: 2\n",
            "Enter the ID of the student to delete: 101\n",
            "\n",
            "Menu Items:\n",
            "1. Insert Entry\n",
            "2. Delete Entry\n",
            "3. Display List\n",
            "4. Exit\n",
            "Enter your choice: 3\n",
            "\n",
            "Current Student List:\n",
            "Student ID: 102, Maths Mark:89, Science Mark:88\n",
            "\n",
            "Menu Items:\n",
            "1. Insert Entry\n",
            "2. Delete Entry\n",
            "3. Display List\n",
            "4. Exit\n",
            "Enter your choice: 4\n",
            "Exiting program.\n"
          ]
        }
      ]
    },
    {
      "cell_type": "markdown",
      "source": [
        "#Question-60:Write a program create a stack using linked list. Use push & Pop.\n",
        "#Push will insert the entry in top of the list.\n",
        "#Pop will get top of the list and display.\n",
        "#Display will show from top to bottom.\n",
        "#Menu Items\n",
        "#1. Push\n",
        "#2. Pop\n",
        "#3. Display Stack\n",
        "#4. Exit"
      ],
      "metadata": {
        "id": "-QhYLOKb-yKK"
      }
    },
    {
      "cell_type": "code",
      "source": [
        "class Node:\n",
        "  def __init__(self,value):\n",
        "    self.value=value\n",
        "    self.next=None\n",
        "\n",
        "class Stack:\n",
        "  def __init__(self):\n",
        "    self.top=None\n",
        "\n",
        "  def push(self,value):\n",
        "    new_node=Node(value)\n",
        "    new_node.next=self.top\n",
        "    self.top=new_node\n",
        "\n",
        "  def pop(self):\n",
        "    if self.top is None:\n",
        "      print(\"Stack is Empty\")\n",
        "      return\n",
        "    popped_value=self.top.value\n",
        "    self.top=self.top.next\n",
        "    return popped_value\n",
        "\n",
        "  def display(self):\n",
        "    if self.top is None:\n",
        "      print(\"Stack is Empty\")\n",
        "      return\n",
        "    current=self.top\n",
        "    while current:\n",
        "      print(current.value)\n",
        "      current=current.next\n",
        "\n",
        "def main():\n",
        "    stack = Stack()\n",
        "\n",
        "    while True:\n",
        "        print(\"\\nMenu Items:\")\n",
        "        print(\"1. Push\")\n",
        "        print(\"2. Pop\")\n",
        "        print(\"3. Display Stack\")\n",
        "        print(\"4. Exit\")\n",
        "\n",
        "        choice = input(\"Enter your choice: \")\n",
        "\n",
        "        if choice == '1':\n",
        "            value = int(input(\"Enter value to push: \"))\n",
        "            stack.push(value)\n",
        "\n",
        "        elif choice == '2':\n",
        "            stack.pop()\n",
        "\n",
        "        elif choice == '3':\n",
        "            stack.display()\n",
        "\n",
        "        elif choice == '4':\n",
        "            print(\"Exiting program.\")\n",
        "            break\n",
        "\n",
        "        else:\n",
        "            print(\"Invalid choice. Please enter a valid option.\")\n",
        "\n",
        "if __name__ == \"__main__\":\n",
        "    main()"
      ],
      "metadata": {
        "colab": {
          "base_uri": "https://localhost:8080/"
        },
        "id": "li3rHdDV_FGu",
        "outputId": "c15624ea-6820-4d79-d340-88a7e527446d"
      },
      "execution_count": null,
      "outputs": [
        {
          "output_type": "stream",
          "name": "stdout",
          "text": [
            "\n",
            "Menu Items:\n",
            "1. Push\n",
            "2. Pop\n",
            "3. Display Stack\n",
            "4. Exit\n",
            "Enter your choice: 1\n",
            "Enter value to push: 23\n",
            "\n",
            "Menu Items:\n",
            "1. Push\n",
            "2. Pop\n",
            "3. Display Stack\n",
            "4. Exit\n",
            "Enter your choice: 1\n",
            "Enter value to push: 44\n",
            "\n",
            "Menu Items:\n",
            "1. Push\n",
            "2. Pop\n",
            "3. Display Stack\n",
            "4. Exit\n",
            "Enter your choice: 1\n",
            "Enter value to push: 64\n",
            "\n",
            "Menu Items:\n",
            "1. Push\n",
            "2. Pop\n",
            "3. Display Stack\n",
            "4. Exit\n",
            "Enter your choice: 3\n",
            "64\n",
            "44\n",
            "23\n",
            "\n",
            "Menu Items:\n",
            "1. Push\n",
            "2. Pop\n",
            "3. Display Stack\n",
            "4. Exit\n",
            "Enter your choice: 2\n",
            "\n",
            "Menu Items:\n",
            "1. Push\n",
            "2. Pop\n",
            "3. Display Stack\n",
            "4. Exit\n",
            "Enter your choice: 2\n",
            "\n",
            "Menu Items:\n",
            "1. Push\n",
            "2. Pop\n",
            "3. Display Stack\n",
            "4. Exit\n",
            "Enter your choice: 3\n",
            "23\n",
            "\n",
            "Menu Items:\n",
            "1. Push\n",
            "2. Pop\n",
            "3. Display Stack\n",
            "4. Exit\n",
            "Enter your choice: 4\n",
            "Exiting program.\n"
          ]
        }
      ]
    },
    {
      "cell_type": "markdown",
      "source": [
        "#Question-61:Write a program to create a queue using linked list. Use add and remove. Add will insert the entry in top of the list. Remove will get\n",
        "#bottom of the list and display. Display will show from top to bottom.\n",
        "#Menu Items\n",
        "#1. Add\n",
        "#2. Remove\n",
        "#3. Display Stack\n",
        "#4. Exit"
      ],
      "metadata": {
        "id": "9ck6-mpIBOrK"
      }
    },
    {
      "cell_type": "code",
      "source": [
        "class Node:\n",
        "  def __init__(self,value):\n",
        "    self.value=value\n",
        "    self.next=None\n",
        "\n",
        "class Queue:\n",
        "  def __init__(self):\n",
        "    self.front=None\n",
        "    self.rear=None\n",
        "\n",
        "  def add(self,value):\n",
        "    new_node=Node(value)\n",
        "    if self.front is None:\n",
        "      self.front=new_node\n",
        "      self.rear=new_node\n",
        "    else:\n",
        "      self.rear.next=new_node\n",
        "      self.rear=new_node\n",
        "\n",
        "  def remove(self):\n",
        "    if self.front is None:\n",
        "      print(\"Queue is empty\")\n",
        "      return\n",
        "    removed_values=self.front.value\n",
        "    self.front=self.front.next\n",
        "    if self.front is None:\n",
        "      self.rear=None\n",
        "    return removed_values\n",
        "\n",
        "  def display(self):\n",
        "    if self.front is None:\n",
        "      print(\"Queue is empty\")\n",
        "      return\n",
        "    current=self.front\n",
        "    while current:\n",
        "      print(current.value)\n",
        "      current=current.next\n",
        "\n",
        "def main():\n",
        "    queue = Queue()\n",
        "\n",
        "    while True:\n",
        "        print(\"\\nMenu Items:\")\n",
        "        print(\"1. Add\")\n",
        "        print(\"2. Remove\")\n",
        "        print(\"3. Display Queue\")\n",
        "        print(\"4. Exit\")\n",
        "\n",
        "        choice = input(\"Enter your choice: \")\n",
        "\n",
        "        if choice == '1':\n",
        "            value = int(input(\"Enter value to add: \"))\n",
        "            queue.add(value)\n",
        "\n",
        "        elif choice == '2':\n",
        "            queue.remove()\n",
        "\n",
        "        elif choice == '3':\n",
        "            queue.display()\n",
        "\n",
        "        elif choice == '4':\n",
        "            print(\"Exiting program.\")\n",
        "            break\n",
        "\n",
        "        else:\n",
        "            print(\"Invalid choice. Please enter a valid option.\")\n",
        "\n",
        "if __name__ == \"__main__\":\n",
        "    main()\n",
        "\n"
      ],
      "metadata": {
        "colab": {
          "base_uri": "https://localhost:8080/"
        },
        "id": "0DnhjSVBBcMw",
        "outputId": "1138b00b-84ae-4f0e-de78-06e6e1e54b1c"
      },
      "execution_count": null,
      "outputs": [
        {
          "output_type": "stream",
          "name": "stdout",
          "text": [
            "\n",
            "Menu Items:\n",
            "1. Add\n",
            "2. Remove\n",
            "3. Display Queue\n",
            "4. Exit\n",
            "Enter your choice: 1\n",
            "Enter value to add: 22\n",
            "\n",
            "Menu Items:\n",
            "1. Add\n",
            "2. Remove\n",
            "3. Display Queue\n",
            "4. Exit\n",
            "Enter your choice: 1\n",
            "Enter value to add: 445\n",
            "\n",
            "Menu Items:\n",
            "1. Add\n",
            "2. Remove\n",
            "3. Display Queue\n",
            "4. Exit\n",
            "Enter your choice: 1\n",
            "Enter value to add: 33\n",
            "\n",
            "Menu Items:\n",
            "1. Add\n",
            "2. Remove\n",
            "3. Display Queue\n",
            "4. Exit\n",
            "Enter your choice: 1\n",
            "Enter value to add: 234\n",
            "\n",
            "Menu Items:\n",
            "1. Add\n",
            "2. Remove\n",
            "3. Display Queue\n",
            "4. Exit\n",
            "Enter your choice: 3\n",
            "22\n",
            "445\n",
            "33\n",
            "234\n",
            "\n",
            "Menu Items:\n",
            "1. Add\n",
            "2. Remove\n",
            "3. Display Queue\n",
            "4. Exit\n",
            "Enter your choice: 2\n",
            "\n",
            "Menu Items:\n",
            "1. Add\n",
            "2. Remove\n",
            "3. Display Queue\n",
            "4. Exit\n",
            "Enter your choice: 3\n",
            "445\n",
            "33\n",
            "234\n",
            "\n",
            "Menu Items:\n",
            "1. Add\n",
            "2. Remove\n",
            "3. Display Queue\n",
            "4. Exit\n",
            "Enter your choice: 4\n",
            "Exiting program.\n"
          ]
        }
      ]
    },
    {
      "cell_type": "markdown",
      "source": [
        "#**DISCRETE FOURIER TRANSFORM**\n",
        "![image.png](data:image/png;base64,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)"
      ],
      "metadata": {
        "id": "oq8C_K6Jcwmz"
      }
    },
    {
      "cell_type": "code",
      "source": [
        "import numpy as np\n",
        "\n",
        "def DFT(x):\n",
        "  \"\"\"\n",
        "  Compute the discrete Fourier transform of the 1D array x\n",
        "  :param x: input array\n",
        "  :return: the DFT of the input array\n",
        "  \"\"\"\n",
        "  x=np.asarray(x,dtype=float) # Convert list to NumPy array here\n",
        "  N=x.shape[0] # Now, after the conversion, the shape attribute can be accessed since x is a NumPy array.\n",
        "  n=np.arange(N) # Create an array of indices from 0 to N−1.\n",
        "  k=n.reshape((N,1)) # Reshape the array n to be a column vector for matrix multiplication.\n",
        "  M=np.exp(-2j*np.pi*k*n/N)\n",
        "  return np.matmul(M,x)\n",
        "\n",
        "#Example usage\n",
        "x=[1,2,3,4]\n",
        "print(f\"Array {x} after DFT is = {DFT(x)}\")"
      ],
      "metadata": {
        "colab": {
          "base_uri": "https://localhost:8080/"
        },
        "id": "r6WBikiQc7c1",
        "outputId": "b41996ac-46e2-4eb8-94f4-0100e7217d03"
      },
      "execution_count": null,
      "outputs": [
        {
          "output_type": "stream",
          "name": "stdout",
          "text": [
            "Array [1, 2, 3, 4] after DFT is = [10.+0.00000000e+00j -2.+2.00000000e+00j -2.-9.79717439e-16j\n",
            " -2.-2.00000000e+00j]\n"
          ]
        }
      ]
    },
    {
      "cell_type": "markdown",
      "source": [
        "#**Fourier Transform of an Image**\n",
        "\n",
        "#1.Load the Image:The image is loaded in grayscale mode using cv2.imread.\n",
        "\n",
        "#2.Compute the 2D Fourier Transform:The 2D FFT of the image is computed using np.fft.fft2.\n",
        "\n",
        "#3.Shift the Zero Frequency Component to the Center:The FFT result is shifted so that the zero frequency component is at the center using np.fft.fftshift.\n",
        "\n",
        "#4.Compute the Magnitude Spectrum:The magnitude spectrum is calculated to visualize the frequency components. The logarithm is applied to enhance the visibility.\n",
        "\n",
        "#5.Visualize the Magnitude Spectrum:The original image and its magnitude spectrum are plotted using matplotlib.\n",
        "\n",
        "#6.Apply a Low-Pass Filter:A low-pass filter is created and applied to the shifted FFT. The filter masks out high-frequency components.\n",
        "\n",
        "#7.Compute the Inverse Fourier Transform:The inverse FFT is computed to transform the filtered frequency domain back to the spatial domain using np.fft.ifft2.\n",
        "\n",
        "#8.Visualize the Filtered Image:The filtered image is plotted to show the effect of the low-pass filter."
      ],
      "metadata": {
        "id": "UcXbL1QwsmXb"
      }
    },
    {
      "cell_type": "code",
      "source": [
        "import cv2\n",
        "import numpy as np\n",
        "import matplotlib.pyplot as plt"
      ],
      "metadata": {
        "id": "0QtK_PRBsze6"
      },
      "execution_count": null,
      "outputs": []
    },
    {
      "cell_type": "code",
      "source": [
        "# Step 1: Load the Image\n",
        "image=cv2.imread('example.jpg',cv2.IMREAD_GRAYSCALE)"
      ],
      "metadata": {
        "id": "3Fga-d0is8q0"
      },
      "execution_count": null,
      "outputs": []
    },
    {
      "cell_type": "code",
      "source": [
        "# Step 2: Compute the 2D Fourier Transform\n",
        "f=np.fft.fft2(image)"
      ],
      "metadata": {
        "id": "9jYq2SrRtUoD"
      },
      "execution_count": null,
      "outputs": []
    },
    {
      "cell_type": "code",
      "source": [
        "# Step 3: Shift the Zero Frequency Component to the Center\n",
        "fshift=np.fft.fftshift(f)"
      ],
      "metadata": {
        "id": "S24gsjNutg7M"
      },
      "execution_count": null,
      "outputs": []
    },
    {
      "cell_type": "code",
      "source": [
        "# Step 4: Compute the Magnitude Spectrum\n",
        "magnitude_spectrum=20*np.log(np.abs(fshift))"
      ],
      "metadata": {
        "id": "WHZ872u3uPO8"
      },
      "execution_count": null,
      "outputs": []
    },
    {
      "cell_type": "code",
      "source": [
        "# Step 5: Visualize the Magnitude Spectrum\n",
        "plt.figure(figsize=(12,6))\n",
        "\n",
        "plt.subplot(121), plt.imshow(image, cmap='gray')\n",
        "plt.title('Input Image'), plt.xticks([]), plt.yticks([])\n",
        "\n",
        "plt.subplot(122), plt.imshow(magnitude_spectrum, cmap='gray')\n",
        "plt.title('Magnitude Spectrum'), plt.xticks([]), plt.yticks([])\n",
        "\n",
        "plt.show()"
      ],
      "metadata": {
        "colab": {
          "base_uri": "https://localhost:8080/",
          "height": 289
        },
        "id": "3NZyzWN5ucYx",
        "outputId": "ec2fc7c7-5cc9-4104-a947-4ad97f26a07c"
      },
      "execution_count": null,
      "outputs": [
        {
          "output_type": "display_data",
          "data": {
            "text/plain": [
              "<Figure size 1200x600 with 2 Axes>"
            ],
            "image/png": "[encoded data removed]"
          },
          "metadata": {}
        }
      ]
    },
    {
      "cell_type": "code",
      "source": [
        "# Step 6: Apply a Low-Pass Filter (optional)\n",
        "rows,cols=image.shape\n",
        "crow,ccol=rows//2,cols//2\n",
        "# Create a mask with a central square of 1s, and the rest will be 0s\n",
        "mask=np.zeros((rows,cols),np.uint8)\n",
        "r=30 # Radius of the low-pass filter\n",
        "center=[crow,ccol]\n",
        "x,y=np.ogrid[:rows,:cols]\n",
        "mask_area=(x-center[0])**2+(y-center[1])**2<=r*r\n",
        "mask[mask_area]=1\n",
        "# Apply mask to the shifted Fourier transform\n",
        "fshift_filtered=fshift*mask"
      ],
      "metadata": {
        "id": "xvzZyGiFu1vl"
      },
      "execution_count": null,
      "outputs": []
    },
    {
      "cell_type": "code",
      "source": [
        "# Step 7: Compute the Inverse Fourier Transform\n",
        "f_ishift=np.fft.ifftshift(fshift_filtered)\n",
        "image_filtered=np.fft.ifft2(f_ishift)\n",
        "image_filtered=np.abs(image_filtered)"
      ],
      "metadata": {
        "id": "OzFLRRSZv4Wp"
      },
      "execution_count": null,
      "outputs": []
    },
    {
      "cell_type": "code",
      "source": [
        "# Step 8: Visualize the Filtered Image\n",
        "plt.figure(figsize=(12, 6))\n",
        "\n",
        "plt.subplot(121), plt.imshow(image, cmap='gray')\n",
        "plt.title('Original Image'), plt.xticks([]), plt.yticks([])\n",
        "\n",
        "plt.subplot(122), plt.imshow(image_filtered, cmap='gray')\n",
        "plt.title('Filtered Image (Low-Pass)'), plt.xticks([]), plt.yticks([])\n",
        "\n",
        "plt.show()"
      ],
      "metadata": {
        "colab": {
          "base_uri": "https://localhost:8080/",
          "height": 289
        },
        "id": "yW3U4Hx2wkkh",
        "outputId": "952d0f42-0f06-4cd6-bb4f-dbb531de7cab"
      },
      "execution_count": null,
      "outputs": [
        {
          "output_type": "display_data",
          "data": {
            "text/plain": [
              "<Figure size 1200x600 with 2 Axes>"
            ],
            "image/png": "[encoded data removed]"
          },
          "metadata": {}
        }
      ]
    }
  ]
}